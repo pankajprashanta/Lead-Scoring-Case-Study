{
 "cells": [
  {
   "cell_type": "markdown",
   "id": "7768d18c",
   "metadata": {},
   "source": [
    "## PROBLEM STATEMENT"
   ]
  },
  {
   "cell_type": "markdown",
   "id": "94818b4a",
   "metadata": {},
   "source": [
    " X Education has appointed you to help them select the most promising leads, i.e. the leads that are most likely to convert into paying customers. The company requires you to build a model wherein you need to assign a lead score to each of the leads such that the customers with a higher lead score have a higher conversion chance and the customers with a lower lead score have a lower conversion chance. The CEO, in particular, has given a ballpark of the target lead conversion rate to be around 80%."
   ]
  },
  {
   "cell_type": "markdown",
   "id": "57ffefb7",
   "metadata": {},
   "source": [
    "## Goals of the Case Study"
   ]
  },
  {
   "cell_type": "markdown",
   "id": "5658fc58",
   "metadata": {},
   "source": [
    "1.Build a logistic regression model to assign a lead score between 0 and 100 to each of the leads which can be used by the company to target potential leads. A higher score would mean that the lead is hot, i.e. is most likely to convert whereas a lower score would mean that the lead is cold and will mostly not get converted.\n",
    "\n",
    "2.There are some more problems presented by the company which your model should be able to adjust to if the company's requirement changes in the future so you will need to handle these as well. These problems are provided in a separate doc file. Please fill it based on the logistic regression model you got in the first step. Also, make sure you include this in your final PPT where you'll make recommendations."
   ]
  },
  {
   "cell_type": "code",
   "execution_count": 1,
   "id": "af372daf",
   "metadata": {},
   "outputs": [],
   "source": [
    "## IMPORT WARNING \n",
    "import warnings\n",
    "warnings.filterwarnings(\"ignore\")"
   ]
  },
  {
   "cell_type": "code",
   "execution_count": 2,
   "id": "15b6f97f",
   "metadata": {},
   "outputs": [],
   "source": [
    "import numpy as np\n",
    "import pandas as pd \n",
    "import scipy\n",
    "import sklearn\n",
    "import statsmodels.api as sm \n",
    "from sklearn.model_selection import train_test_split\n",
    "from sklearn.preprocessing import StandardScaler\n",
    "from sklearn.linear_model import LogisticRegression\n",
    "from sklearn.feature_selection import RFE\n",
    "from statsmodels.stats.outliers_influence import variance_inflation_factor\n",
    "from sklearn import metrics\n"
   ]
  },
  {
   "cell_type": "code",
   "execution_count": 3,
   "id": "4b1975c8",
   "metadata": {},
   "outputs": [],
   "source": [
    "import seaborn as sns \n",
    "import matplotlib.pyplot as plt"
   ]
  },
  {
   "cell_type": "markdown",
   "id": "25b1b2d6",
   "metadata": {},
   "source": [
    "#### Reading the CSV file, and understandind the dataset"
   ]
  },
  {
   "cell_type": "code",
   "execution_count": 4,
   "id": "6b8e5238",
   "metadata": {},
   "outputs": [],
   "source": [
    "Leads=pd.read_csv(\"Leads.csv\")"
   ]
  },
  {
   "cell_type": "code",
   "execution_count": 5,
   "id": "a2fa6446",
   "metadata": {},
   "outputs": [
    {
     "data": {
      "text/html": [
       "<div>\n",
       "<style scoped>\n",
       "    .dataframe tbody tr th:only-of-type {\n",
       "        vertical-align: middle;\n",
       "    }\n",
       "\n",
       "    .dataframe tbody tr th {\n",
       "        vertical-align: top;\n",
       "    }\n",
       "\n",
       "    .dataframe thead th {\n",
       "        text-align: right;\n",
       "    }\n",
       "</style>\n",
       "<table border=\"1\" class=\"dataframe\">\n",
       "  <thead>\n",
       "    <tr style=\"text-align: right;\">\n",
       "      <th></th>\n",
       "      <th>Prospect ID</th>\n",
       "      <th>Lead Number</th>\n",
       "      <th>Lead Origin</th>\n",
       "      <th>Lead Source</th>\n",
       "      <th>Do Not Email</th>\n",
       "      <th>Do Not Call</th>\n",
       "      <th>Converted</th>\n",
       "      <th>TotalVisits</th>\n",
       "      <th>Total Time Spent on Website</th>\n",
       "      <th>Page Views Per Visit</th>\n",
       "      <th>...</th>\n",
       "      <th>Get updates on DM Content</th>\n",
       "      <th>Lead Profile</th>\n",
       "      <th>City</th>\n",
       "      <th>Asymmetrique Activity Index</th>\n",
       "      <th>Asymmetrique Profile Index</th>\n",
       "      <th>Asymmetrique Activity Score</th>\n",
       "      <th>Asymmetrique Profile Score</th>\n",
       "      <th>I agree to pay the amount through cheque</th>\n",
       "      <th>A free copy of Mastering The Interview</th>\n",
       "      <th>Last Notable Activity</th>\n",
       "    </tr>\n",
       "  </thead>\n",
       "  <tbody>\n",
       "    <tr>\n",
       "      <th>0</th>\n",
       "      <td>7927b2df-8bba-4d29-b9a2-b6e0beafe620</td>\n",
       "      <td>660737</td>\n",
       "      <td>API</td>\n",
       "      <td>Olark Chat</td>\n",
       "      <td>No</td>\n",
       "      <td>No</td>\n",
       "      <td>0</td>\n",
       "      <td>0.0</td>\n",
       "      <td>0</td>\n",
       "      <td>0.0</td>\n",
       "      <td>...</td>\n",
       "      <td>No</td>\n",
       "      <td>Select</td>\n",
       "      <td>Select</td>\n",
       "      <td>02.Medium</td>\n",
       "      <td>02.Medium</td>\n",
       "      <td>15.0</td>\n",
       "      <td>15.0</td>\n",
       "      <td>No</td>\n",
       "      <td>No</td>\n",
       "      <td>Modified</td>\n",
       "    </tr>\n",
       "    <tr>\n",
       "      <th>1</th>\n",
       "      <td>2a272436-5132-4136-86fa-dcc88c88f482</td>\n",
       "      <td>660728</td>\n",
       "      <td>API</td>\n",
       "      <td>Organic Search</td>\n",
       "      <td>No</td>\n",
       "      <td>No</td>\n",
       "      <td>0</td>\n",
       "      <td>5.0</td>\n",
       "      <td>674</td>\n",
       "      <td>2.5</td>\n",
       "      <td>...</td>\n",
       "      <td>No</td>\n",
       "      <td>Select</td>\n",
       "      <td>Select</td>\n",
       "      <td>02.Medium</td>\n",
       "      <td>02.Medium</td>\n",
       "      <td>15.0</td>\n",
       "      <td>15.0</td>\n",
       "      <td>No</td>\n",
       "      <td>No</td>\n",
       "      <td>Email Opened</td>\n",
       "    </tr>\n",
       "    <tr>\n",
       "      <th>2</th>\n",
       "      <td>8cc8c611-a219-4f35-ad23-fdfd2656bd8a</td>\n",
       "      <td>660727</td>\n",
       "      <td>Landing Page Submission</td>\n",
       "      <td>Direct Traffic</td>\n",
       "      <td>No</td>\n",
       "      <td>No</td>\n",
       "      <td>1</td>\n",
       "      <td>2.0</td>\n",
       "      <td>1532</td>\n",
       "      <td>2.0</td>\n",
       "      <td>...</td>\n",
       "      <td>No</td>\n",
       "      <td>Potential Lead</td>\n",
       "      <td>Mumbai</td>\n",
       "      <td>02.Medium</td>\n",
       "      <td>01.High</td>\n",
       "      <td>14.0</td>\n",
       "      <td>20.0</td>\n",
       "      <td>No</td>\n",
       "      <td>Yes</td>\n",
       "      <td>Email Opened</td>\n",
       "    </tr>\n",
       "    <tr>\n",
       "      <th>3</th>\n",
       "      <td>0cc2df48-7cf4-4e39-9de9-19797f9b38cc</td>\n",
       "      <td>660719</td>\n",
       "      <td>Landing Page Submission</td>\n",
       "      <td>Direct Traffic</td>\n",
       "      <td>No</td>\n",
       "      <td>No</td>\n",
       "      <td>0</td>\n",
       "      <td>1.0</td>\n",
       "      <td>305</td>\n",
       "      <td>1.0</td>\n",
       "      <td>...</td>\n",
       "      <td>No</td>\n",
       "      <td>Select</td>\n",
       "      <td>Mumbai</td>\n",
       "      <td>02.Medium</td>\n",
       "      <td>01.High</td>\n",
       "      <td>13.0</td>\n",
       "      <td>17.0</td>\n",
       "      <td>No</td>\n",
       "      <td>No</td>\n",
       "      <td>Modified</td>\n",
       "    </tr>\n",
       "    <tr>\n",
       "      <th>4</th>\n",
       "      <td>3256f628-e534-4826-9d63-4a8b88782852</td>\n",
       "      <td>660681</td>\n",
       "      <td>Landing Page Submission</td>\n",
       "      <td>Google</td>\n",
       "      <td>No</td>\n",
       "      <td>No</td>\n",
       "      <td>1</td>\n",
       "      <td>2.0</td>\n",
       "      <td>1428</td>\n",
       "      <td>1.0</td>\n",
       "      <td>...</td>\n",
       "      <td>No</td>\n",
       "      <td>Select</td>\n",
       "      <td>Mumbai</td>\n",
       "      <td>02.Medium</td>\n",
       "      <td>01.High</td>\n",
       "      <td>15.0</td>\n",
       "      <td>18.0</td>\n",
       "      <td>No</td>\n",
       "      <td>No</td>\n",
       "      <td>Modified</td>\n",
       "    </tr>\n",
       "  </tbody>\n",
       "</table>\n",
       "<p>5 rows × 37 columns</p>\n",
       "</div>"
      ],
      "text/plain": [
       "                            Prospect ID  Lead Number              Lead Origin  \\\n",
       "0  7927b2df-8bba-4d29-b9a2-b6e0beafe620       660737                      API   \n",
       "1  2a272436-5132-4136-86fa-dcc88c88f482       660728                      API   \n",
       "2  8cc8c611-a219-4f35-ad23-fdfd2656bd8a       660727  Landing Page Submission   \n",
       "3  0cc2df48-7cf4-4e39-9de9-19797f9b38cc       660719  Landing Page Submission   \n",
       "4  3256f628-e534-4826-9d63-4a8b88782852       660681  Landing Page Submission   \n",
       "\n",
       "      Lead Source Do Not Email Do Not Call  Converted  TotalVisits  \\\n",
       "0      Olark Chat           No          No          0          0.0   \n",
       "1  Organic Search           No          No          0          5.0   \n",
       "2  Direct Traffic           No          No          1          2.0   \n",
       "3  Direct Traffic           No          No          0          1.0   \n",
       "4          Google           No          No          1          2.0   \n",
       "\n",
       "   Total Time Spent on Website  Page Views Per Visit  ...  \\\n",
       "0                            0                   0.0  ...   \n",
       "1                          674                   2.5  ...   \n",
       "2                         1532                   2.0  ...   \n",
       "3                          305                   1.0  ...   \n",
       "4                         1428                   1.0  ...   \n",
       "\n",
       "  Get updates on DM Content    Lead Profile    City  \\\n",
       "0                        No          Select  Select   \n",
       "1                        No          Select  Select   \n",
       "2                        No  Potential Lead  Mumbai   \n",
       "3                        No          Select  Mumbai   \n",
       "4                        No          Select  Mumbai   \n",
       "\n",
       "  Asymmetrique Activity Index Asymmetrique Profile Index  \\\n",
       "0                   02.Medium                  02.Medium   \n",
       "1                   02.Medium                  02.Medium   \n",
       "2                   02.Medium                    01.High   \n",
       "3                   02.Medium                    01.High   \n",
       "4                   02.Medium                    01.High   \n",
       "\n",
       "  Asymmetrique Activity Score Asymmetrique Profile Score  \\\n",
       "0                        15.0                       15.0   \n",
       "1                        15.0                       15.0   \n",
       "2                        14.0                       20.0   \n",
       "3                        13.0                       17.0   \n",
       "4                        15.0                       18.0   \n",
       "\n",
       "  I agree to pay the amount through cheque  \\\n",
       "0                                       No   \n",
       "1                                       No   \n",
       "2                                       No   \n",
       "3                                       No   \n",
       "4                                       No   \n",
       "\n",
       "  A free copy of Mastering The Interview Last Notable Activity  \n",
       "0                                     No              Modified  \n",
       "1                                     No          Email Opened  \n",
       "2                                    Yes          Email Opened  \n",
       "3                                     No              Modified  \n",
       "4                                     No              Modified  \n",
       "\n",
       "[5 rows x 37 columns]"
      ]
     },
     "execution_count": 5,
     "metadata": {},
     "output_type": "execute_result"
    }
   ],
   "source": [
    "Leads.head()"
   ]
  },
  {
   "cell_type": "code",
   "execution_count": 6,
   "id": "3943544b",
   "metadata": {},
   "outputs": [
    {
     "data": {
      "text/plain": [
       "(9240, 37)"
      ]
     },
     "execution_count": 6,
     "metadata": {},
     "output_type": "execute_result"
    }
   ],
   "source": [
    "Leads.shape"
   ]
  },
  {
   "cell_type": "code",
   "execution_count": 7,
   "id": "9a3cf1d5",
   "metadata": {},
   "outputs": [
    {
     "name": "stdout",
     "output_type": "stream",
     "text": [
      "<class 'pandas.core.frame.DataFrame'>\n",
      "RangeIndex: 9240 entries, 0 to 9239\n",
      "Data columns (total 37 columns):\n",
      " #   Column                                         Non-Null Count  Dtype  \n",
      "---  ------                                         --------------  -----  \n",
      " 0   Prospect ID                                    9240 non-null   object \n",
      " 1   Lead Number                                    9240 non-null   int64  \n",
      " 2   Lead Origin                                    9240 non-null   object \n",
      " 3   Lead Source                                    9204 non-null   object \n",
      " 4   Do Not Email                                   9240 non-null   object \n",
      " 5   Do Not Call                                    9240 non-null   object \n",
      " 6   Converted                                      9240 non-null   int64  \n",
      " 7   TotalVisits                                    9103 non-null   float64\n",
      " 8   Total Time Spent on Website                    9240 non-null   int64  \n",
      " 9   Page Views Per Visit                           9103 non-null   float64\n",
      " 10  Last Activity                                  9137 non-null   object \n",
      " 11  Country                                        6779 non-null   object \n",
      " 12  Specialization                                 7802 non-null   object \n",
      " 13  How did you hear about X Education             7033 non-null   object \n",
      " 14  What is your current occupation                6550 non-null   object \n",
      " 15  What matters most to you in choosing a course  6531 non-null   object \n",
      " 16  Search                                         9240 non-null   object \n",
      " 17  Magazine                                       9240 non-null   object \n",
      " 18  Newspaper Article                              9240 non-null   object \n",
      " 19  X Education Forums                             9240 non-null   object \n",
      " 20  Newspaper                                      9240 non-null   object \n",
      " 21  Digital Advertisement                          9240 non-null   object \n",
      " 22  Through Recommendations                        9240 non-null   object \n",
      " 23  Receive More Updates About Our Courses         9240 non-null   object \n",
      " 24  Tags                                           5887 non-null   object \n",
      " 25  Lead Quality                                   4473 non-null   object \n",
      " 26  Update me on Supply Chain Content              9240 non-null   object \n",
      " 27  Get updates on DM Content                      9240 non-null   object \n",
      " 28  Lead Profile                                   6531 non-null   object \n",
      " 29  City                                           7820 non-null   object \n",
      " 30  Asymmetrique Activity Index                    5022 non-null   object \n",
      " 31  Asymmetrique Profile Index                     5022 non-null   object \n",
      " 32  Asymmetrique Activity Score                    5022 non-null   float64\n",
      " 33  Asymmetrique Profile Score                     5022 non-null   float64\n",
      " 34  I agree to pay the amount through cheque       9240 non-null   object \n",
      " 35  A free copy of Mastering The Interview         9240 non-null   object \n",
      " 36  Last Notable Activity                          9240 non-null   object \n",
      "dtypes: float64(4), int64(3), object(30)\n",
      "memory usage: 2.6+ MB\n"
     ]
    }
   ],
   "source": [
    "Leads.info()"
   ]
  },
  {
   "cell_type": "code",
   "execution_count": 8,
   "id": "89714bb8",
   "metadata": {},
   "outputs": [
    {
     "data": {
      "text/html": [
       "<div>\n",
       "<style scoped>\n",
       "    .dataframe tbody tr th:only-of-type {\n",
       "        vertical-align: middle;\n",
       "    }\n",
       "\n",
       "    .dataframe tbody tr th {\n",
       "        vertical-align: top;\n",
       "    }\n",
       "\n",
       "    .dataframe thead th {\n",
       "        text-align: right;\n",
       "    }\n",
       "</style>\n",
       "<table border=\"1\" class=\"dataframe\">\n",
       "  <thead>\n",
       "    <tr style=\"text-align: right;\">\n",
       "      <th></th>\n",
       "      <th>Lead Number</th>\n",
       "      <th>Converted</th>\n",
       "      <th>TotalVisits</th>\n",
       "      <th>Total Time Spent on Website</th>\n",
       "      <th>Page Views Per Visit</th>\n",
       "      <th>Asymmetrique Activity Score</th>\n",
       "      <th>Asymmetrique Profile Score</th>\n",
       "    </tr>\n",
       "  </thead>\n",
       "  <tbody>\n",
       "    <tr>\n",
       "      <th>count</th>\n",
       "      <td>9240.000000</td>\n",
       "      <td>9240.000000</td>\n",
       "      <td>9103.000000</td>\n",
       "      <td>9240.000000</td>\n",
       "      <td>9103.000000</td>\n",
       "      <td>5022.000000</td>\n",
       "      <td>5022.000000</td>\n",
       "    </tr>\n",
       "    <tr>\n",
       "      <th>mean</th>\n",
       "      <td>617188.435606</td>\n",
       "      <td>0.385390</td>\n",
       "      <td>3.445238</td>\n",
       "      <td>487.698268</td>\n",
       "      <td>2.362820</td>\n",
       "      <td>14.306252</td>\n",
       "      <td>16.344883</td>\n",
       "    </tr>\n",
       "    <tr>\n",
       "      <th>std</th>\n",
       "      <td>23405.995698</td>\n",
       "      <td>0.486714</td>\n",
       "      <td>4.854853</td>\n",
       "      <td>548.021466</td>\n",
       "      <td>2.161418</td>\n",
       "      <td>1.386694</td>\n",
       "      <td>1.811395</td>\n",
       "    </tr>\n",
       "    <tr>\n",
       "      <th>min</th>\n",
       "      <td>579533.000000</td>\n",
       "      <td>0.000000</td>\n",
       "      <td>0.000000</td>\n",
       "      <td>0.000000</td>\n",
       "      <td>0.000000</td>\n",
       "      <td>7.000000</td>\n",
       "      <td>11.000000</td>\n",
       "    </tr>\n",
       "    <tr>\n",
       "      <th>25%</th>\n",
       "      <td>596484.500000</td>\n",
       "      <td>0.000000</td>\n",
       "      <td>1.000000</td>\n",
       "      <td>12.000000</td>\n",
       "      <td>1.000000</td>\n",
       "      <td>14.000000</td>\n",
       "      <td>15.000000</td>\n",
       "    </tr>\n",
       "    <tr>\n",
       "      <th>50%</th>\n",
       "      <td>615479.000000</td>\n",
       "      <td>0.000000</td>\n",
       "      <td>3.000000</td>\n",
       "      <td>248.000000</td>\n",
       "      <td>2.000000</td>\n",
       "      <td>14.000000</td>\n",
       "      <td>16.000000</td>\n",
       "    </tr>\n",
       "    <tr>\n",
       "      <th>75%</th>\n",
       "      <td>637387.250000</td>\n",
       "      <td>1.000000</td>\n",
       "      <td>5.000000</td>\n",
       "      <td>936.000000</td>\n",
       "      <td>3.000000</td>\n",
       "      <td>15.000000</td>\n",
       "      <td>18.000000</td>\n",
       "    </tr>\n",
       "    <tr>\n",
       "      <th>max</th>\n",
       "      <td>660737.000000</td>\n",
       "      <td>1.000000</td>\n",
       "      <td>251.000000</td>\n",
       "      <td>2272.000000</td>\n",
       "      <td>55.000000</td>\n",
       "      <td>18.000000</td>\n",
       "      <td>20.000000</td>\n",
       "    </tr>\n",
       "  </tbody>\n",
       "</table>\n",
       "</div>"
      ],
      "text/plain": [
       "         Lead Number    Converted  TotalVisits  Total Time Spent on Website  \\\n",
       "count    9240.000000  9240.000000  9103.000000                  9240.000000   \n",
       "mean   617188.435606     0.385390     3.445238                   487.698268   \n",
       "std     23405.995698     0.486714     4.854853                   548.021466   \n",
       "min    579533.000000     0.000000     0.000000                     0.000000   \n",
       "25%    596484.500000     0.000000     1.000000                    12.000000   \n",
       "50%    615479.000000     0.000000     3.000000                   248.000000   \n",
       "75%    637387.250000     1.000000     5.000000                   936.000000   \n",
       "max    660737.000000     1.000000   251.000000                  2272.000000   \n",
       "\n",
       "       Page Views Per Visit  Asymmetrique Activity Score  \\\n",
       "count           9103.000000                  5022.000000   \n",
       "mean               2.362820                    14.306252   \n",
       "std                2.161418                     1.386694   \n",
       "min                0.000000                     7.000000   \n",
       "25%                1.000000                    14.000000   \n",
       "50%                2.000000                    14.000000   \n",
       "75%                3.000000                    15.000000   \n",
       "max               55.000000                    18.000000   \n",
       "\n",
       "       Asymmetrique Profile Score  \n",
       "count                 5022.000000  \n",
       "mean                    16.344883  \n",
       "std                      1.811395  \n",
       "min                     11.000000  \n",
       "25%                     15.000000  \n",
       "50%                     16.000000  \n",
       "75%                     18.000000  \n",
       "max                     20.000000  "
      ]
     },
     "execution_count": 8,
     "metadata": {},
     "output_type": "execute_result"
    }
   ],
   "source": [
    "Leads.describe()"
   ]
  },
  {
   "cell_type": "code",
   "execution_count": 9,
   "id": "4c42b889",
   "metadata": {},
   "outputs": [
    {
     "data": {
      "text/plain": [
       "Prospect ID                                       object\n",
       "Lead Number                                        int64\n",
       "Lead Origin                                       object\n",
       "Lead Source                                       object\n",
       "Do Not Email                                      object\n",
       "Do Not Call                                       object\n",
       "Converted                                          int64\n",
       "TotalVisits                                      float64\n",
       "Total Time Spent on Website                        int64\n",
       "Page Views Per Visit                             float64\n",
       "Last Activity                                     object\n",
       "Country                                           object\n",
       "Specialization                                    object\n",
       "How did you hear about X Education                object\n",
       "What is your current occupation                   object\n",
       "What matters most to you in choosing a course     object\n",
       "Search                                            object\n",
       "Magazine                                          object\n",
       "Newspaper Article                                 object\n",
       "X Education Forums                                object\n",
       "Newspaper                                         object\n",
       "Digital Advertisement                             object\n",
       "Through Recommendations                           object\n",
       "Receive More Updates About Our Courses            object\n",
       "Tags                                              object\n",
       "Lead Quality                                      object\n",
       "Update me on Supply Chain Content                 object\n",
       "Get updates on DM Content                         object\n",
       "Lead Profile                                      object\n",
       "City                                              object\n",
       "Asymmetrique Activity Index                       object\n",
       "Asymmetrique Profile Index                        object\n",
       "Asymmetrique Activity Score                      float64\n",
       "Asymmetrique Profile Score                       float64\n",
       "I agree to pay the amount through cheque          object\n",
       "A free copy of Mastering The Interview            object\n",
       "Last Notable Activity                             object\n",
       "dtype: object"
      ]
     },
     "execution_count": 9,
     "metadata": {},
     "output_type": "execute_result"
    }
   ],
   "source": [
    "Leads.dtypes"
   ]
  },
  {
   "cell_type": "markdown",
   "id": "5da900d5",
   "metadata": {},
   "source": [
    "## DATA CLEANING "
   ]
  },
  {
   "cell_type": "code",
   "execution_count": 10,
   "id": "f7ee45e4",
   "metadata": {},
   "outputs": [
    {
     "data": {
      "text/plain": [
       "Prospect ID                                       0.000000\n",
       "Lead Number                                       0.000000\n",
       "Lead Origin                                       0.000000\n",
       "Lead Source                                       0.389610\n",
       "Do Not Email                                      0.000000\n",
       "Do Not Call                                       0.000000\n",
       "Converted                                         0.000000\n",
       "TotalVisits                                       1.482684\n",
       "Total Time Spent on Website                       0.000000\n",
       "Page Views Per Visit                              1.482684\n",
       "Last Activity                                     1.114719\n",
       "Country                                          26.634199\n",
       "Specialization                                   15.562771\n",
       "How did you hear about X Education               23.885281\n",
       "What is your current occupation                  29.112554\n",
       "What matters most to you in choosing a course    29.318182\n",
       "Search                                            0.000000\n",
       "Magazine                                          0.000000\n",
       "Newspaper Article                                 0.000000\n",
       "X Education Forums                                0.000000\n",
       "Newspaper                                         0.000000\n",
       "Digital Advertisement                             0.000000\n",
       "Through Recommendations                           0.000000\n",
       "Receive More Updates About Our Courses            0.000000\n",
       "Tags                                             36.287879\n",
       "Lead Quality                                     51.590909\n",
       "Update me on Supply Chain Content                 0.000000\n",
       "Get updates on DM Content                         0.000000\n",
       "Lead Profile                                     29.318182\n",
       "City                                             15.367965\n",
       "Asymmetrique Activity Index                      45.649351\n",
       "Asymmetrique Profile Index                       45.649351\n",
       "Asymmetrique Activity Score                      45.649351\n",
       "Asymmetrique Profile Score                       45.649351\n",
       "I agree to pay the amount through cheque          0.000000\n",
       "A free copy of Mastering The Interview            0.000000\n",
       "Last Notable Activity                             0.000000\n",
       "dtype: float64"
      ]
     },
     "execution_count": 10,
     "metadata": {},
     "output_type": "execute_result"
    }
   ],
   "source": [
    "Leads.isnull().mean()*100"
   ]
  },
  {
   "cell_type": "code",
   "execution_count": 11,
   "id": "efd71051",
   "metadata": {},
   "outputs": [
    {
     "data": {
      "text/plain": [
       "(9240, 31)"
      ]
     },
     "execution_count": 11,
     "metadata": {},
     "output_type": "execute_result"
    }
   ],
   "source": [
    "# Droping columns with more than 30% nulls values\n",
    "Leads = Leads.drop(Leads.loc[:,list((100*(Leads.isnull().sum()/len(Leads.index))>30))].columns, 1)\n",
    "Leads.shape"
   ]
  },
  {
   "cell_type": "code",
   "execution_count": 12,
   "id": "b10d1903",
   "metadata": {},
   "outputs": [
    {
     "data": {
      "text/plain": [
       "Index(['Prospect ID', 'Lead Number', 'Lead Origin', 'Lead Source',\n",
       "       'Do Not Email', 'Do Not Call', 'Converted', 'TotalVisits',\n",
       "       'Total Time Spent on Website', 'Page Views Per Visit', 'Last Activity',\n",
       "       'Country', 'Specialization', 'How did you hear about X Education',\n",
       "       'What is your current occupation',\n",
       "       'What matters most to you in choosing a course', 'Search', 'Magazine',\n",
       "       'Newspaper Article', 'X Education Forums', 'Newspaper',\n",
       "       'Digital Advertisement', 'Through Recommendations',\n",
       "       'Receive More Updates About Our Courses',\n",
       "       'Update me on Supply Chain Content', 'Get updates on DM Content',\n",
       "       'Lead Profile', 'City', 'I agree to pay the amount through cheque',\n",
       "       'A free copy of Mastering The Interview', 'Last Notable Activity'],\n",
       "      dtype='object')"
      ]
     },
     "execution_count": 12,
     "metadata": {},
     "output_type": "execute_result"
    }
   ],
   "source": [
    "Leads.columns"
   ]
  },
  {
   "cell_type": "code",
   "execution_count": 13,
   "id": "7ad27637",
   "metadata": {},
   "outputs": [],
   "source": [
    "## REMOVING UNWANTED COLUMN\n",
    "unwanted_columns=[\"Prospect ID\",'Lead Number','Do Not Email', 'Do Not Call','Country','How did you hear about X Education', 'What matters most to you in choosing a course', 'Search', 'Magazine', 'Newspaper Article', 'X Education Forums', 'Newspaper','Digital Advertisement', 'Through Recommendations','Update me on Supply Chain Content','City', 'I agree to pay the amount through cheque','Receive More Updates About Our Courses', 'Get updates on DM Content']"
   ]
  },
  {
   "cell_type": "code",
   "execution_count": 14,
   "id": "b0237eec",
   "metadata": {},
   "outputs": [],
   "source": [
    "Leads.drop(unwanted_columns,axis=1,inplace=True)"
   ]
  },
  {
   "cell_type": "code",
   "execution_count": 15,
   "id": "c75b44d6",
   "metadata": {},
   "outputs": [
    {
     "data": {
      "text/plain": [
       "Index(['Lead Origin', 'Lead Source', 'Converted', 'TotalVisits',\n",
       "       'Total Time Spent on Website', 'Page Views Per Visit', 'Last Activity',\n",
       "       'Specialization', 'What is your current occupation', 'Lead Profile',\n",
       "       'A free copy of Mastering The Interview', 'Last Notable Activity'],\n",
       "      dtype='object')"
      ]
     },
     "execution_count": 15,
     "metadata": {},
     "output_type": "execute_result"
    }
   ],
   "source": [
    "Leads.columns"
   ]
  },
  {
   "cell_type": "code",
   "execution_count": 16,
   "id": "90762b40",
   "metadata": {},
   "outputs": [
    {
     "data": {
      "text/plain": [
       "(9240, 12)"
      ]
     },
     "execution_count": 16,
     "metadata": {},
     "output_type": "execute_result"
    }
   ],
   "source": [
    "Leads.shape"
   ]
  },
  {
   "cell_type": "markdown",
   "id": "8db8cb59",
   "metadata": {},
   "source": [
    "## IMPUTATION "
   ]
  },
  {
   "cell_type": "code",
   "execution_count": 17,
   "id": "9191116d",
   "metadata": {},
   "outputs": [],
   "source": [
    "# converting Select to np.nan\n",
    "Leads=Leads.replace(\"Select\",np.nan)    "
   ]
  },
  {
   "cell_type": "code",
   "execution_count": 18,
   "id": "dcde5b81",
   "metadata": {},
   "outputs": [
    {
     "data": {
      "text/plain": [
       "Lead Origin                                0.00\n",
       "Lead Source                                0.39\n",
       "Converted                                  0.00\n",
       "TotalVisits                                1.48\n",
       "Total Time Spent on Website                0.00\n",
       "Page Views Per Visit                       1.48\n",
       "Last Activity                              1.11\n",
       "Specialization                            36.58\n",
       "What is your current occupation           29.11\n",
       "Lead Profile                              74.19\n",
       "A free copy of Mastering The Interview     0.00\n",
       "Last Notable Activity                      0.00\n",
       "dtype: float64"
      ]
     },
     "execution_count": 18,
     "metadata": {},
     "output_type": "execute_result"
    }
   ],
   "source": [
    "round(Leads.isna().sum()*100/len(Leads),2)"
   ]
  },
  {
   "cell_type": "code",
   "execution_count": 19,
   "id": "e1ce5f9d",
   "metadata": {},
   "outputs": [],
   "source": [
    "## checking uniqueness in categorical variable"
   ]
  },
  {
   "cell_type": "code",
   "execution_count": 20,
   "id": "f7341d75",
   "metadata": {},
   "outputs": [
    {
     "data": {
      "text/plain": [
       "Lead Origin                                object\n",
       "Lead Source                                object\n",
       "Converted                                   int64\n",
       "TotalVisits                               float64\n",
       "Total Time Spent on Website                 int64\n",
       "Page Views Per Visit                      float64\n",
       "Last Activity                              object\n",
       "Specialization                             object\n",
       "What is your current occupation            object\n",
       "Lead Profile                               object\n",
       "A free copy of Mastering The Interview     object\n",
       "Last Notable Activity                      object\n",
       "dtype: object"
      ]
     },
     "execution_count": 20,
     "metadata": {},
     "output_type": "execute_result"
    }
   ],
   "source": [
    "Leads.dtypes "
   ]
  },
  {
   "cell_type": "code",
   "execution_count": 21,
   "id": "736cab20",
   "metadata": {},
   "outputs": [],
   "source": [
    "Leads[\"Specialization\"]=Leads[\"Specialization\"].replace(np.nan,\"Unspecified\") ## replacing null values with unspecified"
   ]
  },
  {
   "cell_type": "code",
   "execution_count": 22,
   "id": "6676d8b3",
   "metadata": {},
   "outputs": [
    {
     "data": {
      "text/plain": [
       "Unspecified                          3380\n",
       "Finance Management                    976\n",
       "Human Resource Management             848\n",
       "Marketing Management                  838\n",
       "Operations Management                 503\n",
       "Business Administration               403\n",
       "IT Projects Management                366\n",
       "Supply Chain Management               349\n",
       "Banking, Investment And Insurance     338\n",
       "Travel and Tourism                    203\n",
       "Media and Advertising                 203\n",
       "International Business                178\n",
       "Healthcare Management                 159\n",
       "Hospitality Management                114\n",
       "E-COMMERCE                            112\n",
       "Retail Management                     100\n",
       "Rural and Agribusiness                 73\n",
       "E-Business                             57\n",
       "Services Excellence                    40\n",
       "Name: Specialization, dtype: int64"
      ]
     },
     "execution_count": 22,
     "metadata": {},
     "output_type": "execute_result"
    }
   ],
   "source": [
    "Leads[\"Specialization\"].value_counts()"
   ]
  },
  {
   "cell_type": "code",
   "execution_count": 23,
   "id": "0fa4785f",
   "metadata": {},
   "outputs": [],
   "source": [
    "Leads[\"Specialization\"]=Leads[\"Specialization\"].replace([\"International Business\",\"E-Business\"],\"Business\")\n",
    "Leads[\"Specialization\"]=Leads[\"Specialization\"].replace([\"Finance Management\",\"Human Resource Management\",\"Marketing Management\",\"Operations Management\",\"IT Projects Management\",\"Supply Chain Management\",\"Healthcare Management\",\"Hospitality Management\",\"Retail Management\"],\"Management\")"
   ]
  },
  {
   "cell_type": "code",
   "execution_count": 24,
   "id": "2cecc1b0",
   "metadata": {},
   "outputs": [
    {
     "data": {
      "text/plain": [
       "Management                           4253\n",
       "Unspecified                          3380\n",
       "Business Administration               403\n",
       "Banking, Investment And Insurance     338\n",
       "Business                              235\n",
       "Media and Advertising                 203\n",
       "Travel and Tourism                    203\n",
       "E-COMMERCE                            112\n",
       "Rural and Agribusiness                 73\n",
       "Services Excellence                    40\n",
       "Name: Specialization, dtype: int64"
      ]
     },
     "execution_count": 24,
     "metadata": {},
     "output_type": "execute_result"
    }
   ],
   "source": [
    "Leads[\"Specialization\"].value_counts()"
   ]
  },
  {
   "cell_type": "code",
   "execution_count": 25,
   "id": "6ccefb24",
   "metadata": {},
   "outputs": [],
   "source": [
    "Leads[\"Lead Source\"]=Leads[\"Lead Source\"].replace({\"google\":\"Google\",\"Facebook\":\"Social Media\"})   ### Merging the Categories in the columns\n",
    "Leads[\"Lead Source\"]=Leads[\"Lead Source\"].replace([\"blog\",\"Pay per Click Ads\",\"Live Chat\",\"bing\",\"Click2call\",\"Press_Release\",\"youtubechannel\",\"WeLearn\",\"welearnblog_Home\",\"testone\",\"NC_EDM\"],\"others\")"
   ]
  },
  {
   "cell_type": "code",
   "execution_count": 26,
   "id": "fbff4a14",
   "metadata": {},
   "outputs": [
    {
     "data": {
      "text/plain": [
       "Google              2873\n",
       "Direct Traffic      2543\n",
       "Olark Chat          1755\n",
       "Organic Search      1154\n",
       "Reference            534\n",
       "Welingak Website     142\n",
       "Referral Sites       125\n",
       "Social Media          57\n",
       "others                21\n",
       "Name: Lead Source, dtype: int64"
      ]
     },
     "execution_count": 26,
     "metadata": {},
     "output_type": "execute_result"
    }
   ],
   "source": [
    "Leads[\"Lead Source\"].value_counts()"
   ]
  },
  {
   "cell_type": "code",
   "execution_count": 27,
   "id": "023be442",
   "metadata": {},
   "outputs": [
    {
     "data": {
      "text/plain": [
       "Potential Lead                 1613\n",
       "Other Leads                     487\n",
       "Student of SomeSchool           241\n",
       "Lateral Student                  24\n",
       "Dual Specialization Student      20\n",
       "Name: Lead Profile, dtype: int64"
      ]
     },
     "execution_count": 27,
     "metadata": {},
     "output_type": "execute_result"
    }
   ],
   "source": [
    "Leads[\"Lead Profile\"].value_counts()"
   ]
  },
  {
   "cell_type": "code",
   "execution_count": 28,
   "id": "47580644",
   "metadata": {},
   "outputs": [
    {
     "data": {
      "text/plain": [
       "Landing Page Submission    4886\n",
       "API                        3580\n",
       "Lead Add Form               718\n",
       "Lead Import                  55\n",
       "Quick Add Form                1\n",
       "Name: Lead Origin, dtype: int64"
      ]
     },
     "execution_count": 28,
     "metadata": {},
     "output_type": "execute_result"
    }
   ],
   "source": [
    "Leads[\"Lead Origin\"].value_counts()"
   ]
  },
  {
   "cell_type": "code",
   "execution_count": 29,
   "id": "6a9c102c",
   "metadata": {},
   "outputs": [
    {
     "data": {
      "text/plain": [
       "Email Opened                    3437\n",
       "SMS Sent                        2745\n",
       "Olark Chat Conversation          973\n",
       "Page Visited on Website          640\n",
       "Converted to Lead                428\n",
       "Email Bounced                    326\n",
       "Email Link Clicked               267\n",
       "Form Submitted on Website        116\n",
       "Unreachable                       93\n",
       "Unsubscribed                      61\n",
       "Had a Phone Conversation          30\n",
       "Approached upfront                 9\n",
       "View in browser link Clicked       6\n",
       "Email Received                     2\n",
       "Email Marked Spam                  2\n",
       "Visited Booth in Tradeshow         1\n",
       "Resubscribed to emails             1\n",
       "Name: Last Activity, dtype: int64"
      ]
     },
     "execution_count": 29,
     "metadata": {},
     "output_type": "execute_result"
    }
   ],
   "source": [
    "Leads[\"Last Activity\"].value_counts()"
   ]
  },
  {
   "cell_type": "code",
   "execution_count": 30,
   "id": "a23820a0",
   "metadata": {},
   "outputs": [],
   "source": [
    "Leads[\"Last Activity\"]=Leads[\"Last Activity\"].replace([\"Unreachable\",\"Unsubscribed\",\"Had a Phone Conversation\",\"Approached upfront\",\"View in browser link Clicked\",\"Email Received\",\"Email Marked Spam\",\"Visited Booth in Tradeshow\",\"Resubscribed to emails\"],\"others\")"
   ]
  },
  {
   "cell_type": "code",
   "execution_count": 31,
   "id": "4e362fa2",
   "metadata": {},
   "outputs": [
    {
     "data": {
      "text/plain": [
       "Email Opened                 3437\n",
       "SMS Sent                     2745\n",
       "Olark Chat Conversation       973\n",
       "Page Visited on Website       640\n",
       "Converted to Lead             428\n",
       "Email Bounced                 326\n",
       "Email Link Clicked            267\n",
       "others                        205\n",
       "Form Submitted on Website     116\n",
       "Name: Last Activity, dtype: int64"
      ]
     },
     "execution_count": 31,
     "metadata": {},
     "output_type": "execute_result"
    }
   ],
   "source": [
    "Leads[\"Last Activity\"].value_counts()"
   ]
  },
  {
   "cell_type": "code",
   "execution_count": 32,
   "id": "d1ba200f",
   "metadata": {},
   "outputs": [],
   "source": [
    "Leads[\"Last Notable Activity\"]=Leads[\"Last Notable Activity\"].replace([\"Email Bounced\",\"Unsubscribed\",\"Unreachable\",\"Had a Phone Conversation\",\"Email Marked Spam\",\"Approached upfront\",\"Resubscribed to emails\",\"View in browser link Clicked\",\"Email Received\",\"Form Submitted on Website\"],\"others\")"
   ]
  },
  {
   "cell_type": "code",
   "execution_count": 33,
   "id": "b63e24a8",
   "metadata": {},
   "outputs": [
    {
     "data": {
      "text/plain": [
       "Modified                   3407\n",
       "Email Opened               2827\n",
       "SMS Sent                   2172\n",
       "Page Visited on Website     318\n",
       "Olark Chat Conversation     183\n",
       "Email Link Clicked          173\n",
       "others                      160\n",
       "Name: Last Notable Activity, dtype: int64"
      ]
     },
     "execution_count": 33,
     "metadata": {},
     "output_type": "execute_result"
    }
   ],
   "source": [
    "Leads[\"Last Notable Activity\"].value_counts()"
   ]
  },
  {
   "cell_type": "markdown",
   "id": "bf78ea77",
   "metadata": {},
   "source": [
    "#### IMPUTING CATEGORICAL COLUMN"
   ]
  },
  {
   "cell_type": "code",
   "execution_count": 34,
   "id": "f808c55f",
   "metadata": {},
   "outputs": [
    {
     "data": {
      "text/plain": [
       "Lead Origin                                  0\n",
       "Lead Source                                 36\n",
       "Converted                                    0\n",
       "TotalVisits                                137\n",
       "Total Time Spent on Website                  0\n",
       "Page Views Per Visit                       137\n",
       "Last Activity                              103\n",
       "Specialization                               0\n",
       "What is your current occupation           2690\n",
       "Lead Profile                              6855\n",
       "A free copy of Mastering The Interview       0\n",
       "Last Notable Activity                        0\n",
       "dtype: int64"
      ]
     },
     "execution_count": 34,
     "metadata": {},
     "output_type": "execute_result"
    }
   ],
   "source": [
    "Leads.isna().sum()"
   ]
  },
  {
   "cell_type": "code",
   "execution_count": 35,
   "id": "eaa8d899",
   "metadata": {},
   "outputs": [
    {
     "data": {
      "text/plain": [
       "Google              0.312147\n",
       "Direct Traffic      0.276293\n",
       "Olark Chat          0.190678\n",
       "Organic Search      0.125380\n",
       "Reference           0.058018\n",
       "Welingak Website    0.015428\n",
       "Referral Sites      0.013581\n",
       "Social Media        0.006193\n",
       "others              0.002282\n",
       "Name: Lead Source, dtype: float64"
      ]
     },
     "execution_count": 35,
     "metadata": {},
     "output_type": "execute_result"
    }
   ],
   "source": [
    "Leads['Lead Source'].value_counts(normalize=True) "
   ]
  },
  {
   "cell_type": "code",
   "execution_count": 36,
   "id": "3bdcd070",
   "metadata": {},
   "outputs": [],
   "source": [
    "Leads['Lead Source']=Leads['Lead Source'].fillna(Leads['Lead Source'].mode()[0])\n"
   ]
  },
  {
   "cell_type": "code",
   "execution_count": 37,
   "id": "e8127fe5",
   "metadata": {},
   "outputs": [
    {
     "data": {
      "text/plain": [
       "Google              0.314827\n",
       "Direct Traffic      0.275216\n",
       "Olark Chat          0.189935\n",
       "Organic Search      0.124892\n",
       "Reference           0.057792\n",
       "Welingak Website    0.015368\n",
       "Referral Sites      0.013528\n",
       "Social Media        0.006169\n",
       "others              0.002273\n",
       "Name: Lead Source, dtype: float64"
      ]
     },
     "execution_count": 37,
     "metadata": {},
     "output_type": "execute_result"
    }
   ],
   "source": [
    "Leads['Lead Source'].value_counts(normalize=True) "
   ]
  },
  {
   "cell_type": "code",
   "execution_count": 38,
   "id": "1ebf16c2",
   "metadata": {},
   "outputs": [
    {
     "data": {
      "text/plain": [
       "Email Opened                 0.376163\n",
       "SMS Sent                     0.300427\n",
       "Olark Chat Conversation      0.106490\n",
       "Page Visited on Website      0.070045\n",
       "Converted to Lead            0.046843\n",
       "Email Bounced                0.035679\n",
       "Email Link Clicked           0.029222\n",
       "others                       0.022436\n",
       "Form Submitted on Website    0.012696\n",
       "Name: Last Activity, dtype: float64"
      ]
     },
     "execution_count": 38,
     "metadata": {},
     "output_type": "execute_result"
    }
   ],
   "source": [
    "Leads['Last Activity'].value_counts(normalize=True) "
   ]
  },
  {
   "cell_type": "code",
   "execution_count": 39,
   "id": "cc38d2b6",
   "metadata": {},
   "outputs": [],
   "source": [
    "Leads['Last Activity']=Leads['Last Activity'].fillna(Leads['Last Activity'].mode()[0]) "
   ]
  },
  {
   "cell_type": "code",
   "execution_count": 40,
   "id": "bb267825",
   "metadata": {},
   "outputs": [],
   "source": [
    "Leads['What is your current occupation']=Leads['What is your current occupation'].fillna(Leads['What is your current occupation'].mode()[0])"
   ]
  },
  {
   "cell_type": "code",
   "execution_count": 41,
   "id": "1b76eaa1",
   "metadata": {},
   "outputs": [
    {
     "data": {
      "text/plain": [
       "Lead Origin                                  0\n",
       "Lead Source                                  0\n",
       "Converted                                    0\n",
       "TotalVisits                                137\n",
       "Total Time Spent on Website                  0\n",
       "Page Views Per Visit                       137\n",
       "Last Activity                                0\n",
       "Specialization                               0\n",
       "What is your current occupation              0\n",
       "Lead Profile                              6855\n",
       "A free copy of Mastering The Interview       0\n",
       "Last Notable Activity                        0\n",
       "dtype: int64"
      ]
     },
     "execution_count": 41,
     "metadata": {},
     "output_type": "execute_result"
    }
   ],
   "source": [
    "Leads.isna().sum()"
   ]
  },
  {
   "cell_type": "code",
   "execution_count": 42,
   "id": "f0f9dcf7",
   "metadata": {},
   "outputs": [],
   "source": [
    "Leads[\"Lead Profile\"]=Leads[\"Lead Profile\"].replace(np.nan,\"unspecified\")"
   ]
  },
  {
   "cell_type": "code",
   "execution_count": 43,
   "id": "b45c9a84",
   "metadata": {},
   "outputs": [
    {
     "data": {
      "text/plain": [
       "Lead Origin                               0.000000\n",
       "Lead Source                               0.000000\n",
       "Converted                                 0.000000\n",
       "TotalVisits                               1.482684\n",
       "Total Time Spent on Website               0.000000\n",
       "Page Views Per Visit                      1.482684\n",
       "Last Activity                             0.000000\n",
       "Specialization                            0.000000\n",
       "What is your current occupation           0.000000\n",
       "Lead Profile                              0.000000\n",
       "A free copy of Mastering The Interview    0.000000\n",
       "Last Notable Activity                     0.000000\n",
       "dtype: float64"
      ]
     },
     "execution_count": 43,
     "metadata": {},
     "output_type": "execute_result"
    }
   ],
   "source": [
    "Leads.isna().sum()*100/len(Leads)"
   ]
  },
  {
   "cell_type": "code",
   "execution_count": 44,
   "id": "6684389d",
   "metadata": {},
   "outputs": [
    {
     "data": {
      "text/plain": [
       "count    9103.000000\n",
       "mean        3.445238\n",
       "std         4.854853\n",
       "min         0.000000\n",
       "25%         1.000000\n",
       "50%         3.000000\n",
       "75%         5.000000\n",
       "max       251.000000\n",
       "Name: TotalVisits, dtype: float64"
      ]
     },
     "execution_count": 44,
     "metadata": {},
     "output_type": "execute_result"
    }
   ],
   "source": [
    "Leads['TotalVisits'].describe()"
   ]
  },
  {
   "cell_type": "code",
   "execution_count": 45,
   "id": "f0800b4a",
   "metadata": {},
   "outputs": [],
   "source": [
    "Leads['TotalVisits'].fillna(Leads['TotalVisits'].median(),inplace=True)"
   ]
  },
  {
   "cell_type": "code",
   "execution_count": 46,
   "id": "b9c7bada",
   "metadata": {},
   "outputs": [
    {
     "data": {
      "text/plain": [
       "count    9103.000000\n",
       "mean        2.362820\n",
       "std         2.161418\n",
       "min         0.000000\n",
       "25%         1.000000\n",
       "50%         2.000000\n",
       "75%         3.000000\n",
       "max        55.000000\n",
       "Name: Page Views Per Visit, dtype: float64"
      ]
     },
     "execution_count": 46,
     "metadata": {},
     "output_type": "execute_result"
    }
   ],
   "source": [
    "Leads['Page Views Per Visit'].describe()"
   ]
  },
  {
   "cell_type": "code",
   "execution_count": 47,
   "id": "14a3229d",
   "metadata": {},
   "outputs": [],
   "source": [
    "Leads['Page Views Per Visit'].fillna(Leads['Page Views Per Visit'].median(),inplace=True)"
   ]
  },
  {
   "cell_type": "code",
   "execution_count": 48,
   "id": "add52d69",
   "metadata": {},
   "outputs": [
    {
     "data": {
      "text/plain": [
       "Lead Origin                               0.0\n",
       "Lead Source                               0.0\n",
       "Converted                                 0.0\n",
       "TotalVisits                               0.0\n",
       "Total Time Spent on Website               0.0\n",
       "Page Views Per Visit                      0.0\n",
       "Last Activity                             0.0\n",
       "Specialization                            0.0\n",
       "What is your current occupation           0.0\n",
       "Lead Profile                              0.0\n",
       "A free copy of Mastering The Interview    0.0\n",
       "Last Notable Activity                     0.0\n",
       "dtype: float64"
      ]
     },
     "execution_count": 48,
     "metadata": {},
     "output_type": "execute_result"
    }
   ],
   "source": [
    "Leads.isna().sum()*100/len(Leads) ## CHECKING FOR NULL VALUES"
   ]
  },
  {
   "cell_type": "code",
   "execution_count": 49,
   "id": "2659e84e",
   "metadata": {},
   "outputs": [],
   "source": [
    "## getting list of category and numrical column\n",
    "numerical_data=Leads.select_dtypes(include=[np.number])"
   ]
  },
  {
   "cell_type": "code",
   "execution_count": 50,
   "id": "9b3393c2",
   "metadata": {},
   "outputs": [],
   "source": [
    "## getting list of category and numrical column\n",
    "category_data = Leads.select_dtypes(exclude=[np.number])      \n"
   ]
  },
  {
   "cell_type": "markdown",
   "id": "40ccf39f",
   "metadata": {},
   "source": [
    "## EDA\n",
    "\n",
    "### UNIVARIATE ANALYSIS"
   ]
  },
  {
   "cell_type": "code",
   "execution_count": 51,
   "id": "ebcb1cc7",
   "metadata": {},
   "outputs": [],
   "source": [
    "#### EDA ON CATEGORICAL COLUMNS"
   ]
  },
  {
   "cell_type": "code",
   "execution_count": 52,
   "id": "b342170f",
   "metadata": {},
   "outputs": [
    {
     "data": {
      "image/png": "[encoded data removed]",
      "text/plain": [
       "<Figure size 720x504 with 1 Axes>"
      ]
     },
     "metadata": {},
     "output_type": "display_data"
    }
   ],
   "source": [
    "Leads['Converted'].value_counts(normalize=True)*100\n",
    "\n",
    "plt.figure(figsize=(10,7))\n",
    "plt.pie(Leads['Converted'].value_counts().values\n",
    ",labels=[\"Non converted\",\"converted\" ], autopct='%1.f%%')\n",
    "\n",
    "plt.title('Non converted vs converted')\n",
    "\n",
    "plt.show()"
   ]
  },
  {
   "cell_type": "markdown",
   "id": "bfaede40",
   "metadata": {},
   "source": [
    "#### observation :  \n",
    "61% are converted and 39% non converted"
   ]
  },
  {
   "cell_type": "code",
   "execution_count": 53,
   "id": "3347b3d5",
   "metadata": {},
   "outputs": [
    {
     "data": {
      "image/png": "[encoded data removed]",
      "text/plain": [
       "<Figure size 864x432 with 1 Axes>"
      ]
     },
     "metadata": {
      "needs_background": "light"
     },
     "output_type": "display_data"
    }
   ],
   "source": [
    "plt.figure(figsize=(12,6))\n",
    "plt.title('Lead Source')\n",
    "\n",
    "#define data\n",
    "height = Leads['Lead Source'].value_counts().values\n",
    "x= Leads['Lead Source'].value_counts().index\n",
    "#create bar graph\n",
    "sns.barplot(x,height,data=Leads)\n",
    "plt.xticks( rotation=21)\n",
    "plt.show()"
   ]
  },
  {
   "cell_type": "code",
   "execution_count": 54,
   "id": "34b961fd",
   "metadata": {},
   "outputs": [
    {
     "data": {
      "image/png": "[encoded data removed]",
      "text/plain": [
       "<Figure size 792x432 with 1 Axes>"
      ]
     },
     "metadata": {
      "needs_background": "light"
     },
     "output_type": "display_data"
    }
   ],
   "source": [
    "plt.figure(figsize=(11,6))\n",
    "plt.title('Lead Origin')\n",
    "\n",
    "#define data\n",
    "height = Leads['Lead Origin'].value_counts().values\n",
    "x= Leads['Lead Origin'].value_counts().index\n",
    "#create bar graph\n",
    "sns.barplot(x,height,data=Leads)\n",
    "plt.xticks( rotation=22)\n",
    "plt.show()"
   ]
  },
  {
   "cell_type": "code",
   "execution_count": 55,
   "id": "6d6761be",
   "metadata": {},
   "outputs": [
    {
     "data": {
      "image/png": "[encoded data removed]",
      "text/plain": [
       "<Figure size 864x504 with 1 Axes>"
      ]
     },
     "metadata": {
      "needs_background": "light"
     },
     "output_type": "display_data"
    }
   ],
   "source": [
    "plt.figure(figsize=(12,7))\n",
    "plt.title('Last Activity')\n",
    "\n",
    "#define data\n",
    "height = Leads['Last Activity'].value_counts().values\n",
    "x= Leads['Last Activity'].value_counts().index\n",
    "#create bar graph\n",
    "sns.barplot(x,height,data=Leads)\n",
    "plt.xticks( rotation=22)\n",
    "plt.show()"
   ]
  },
  {
   "cell_type": "markdown",
   "id": "30871531",
   "metadata": {},
   "source": [
    "## observation : \n",
    "Email opened followed by SMS are usually performed by the customer. "
   ]
  },
  {
   "cell_type": "code",
   "execution_count": 56,
   "id": "fb0e3cbb",
   "metadata": {},
   "outputs": [
    {
     "data": {
      "image/png": "[encoded data removed]",
      "text/plain": [
       "<Figure size 1080x576 with 1 Axes>"
      ]
     },
     "metadata": {
      "needs_background": "light"
     },
     "output_type": "display_data"
    }
   ],
   "source": [
    "plt.figure(figsize=(15,8))\n",
    "plt.title('Specialization')\n",
    "\n",
    "#define data\n",
    "height = Leads['Specialization'].value_counts().values\n",
    "x= Leads['Specialization'].value_counts().index\n",
    "#create bar graph\n",
    "sns.barplot(x,height,data=Leads)\n",
    "plt.xticks( rotation=22)\n",
    "plt.show()"
   ]
  },
  {
   "cell_type": "markdown",
   "id": "bd1bba2c",
   "metadata": {},
   "source": [
    "\n",
    "### Observation :\n",
    "Most of the customer are from management followed by those who are not willing to specify their      specialization."
   ]
  },
  {
   "cell_type": "code",
   "execution_count": 57,
   "id": "60236502",
   "metadata": {},
   "outputs": [
    {
     "data": {
      "image/png": "[encoded data removed]",
      "text/plain": [
       "<Figure size 864x360 with 1 Axes>"
      ]
     },
     "metadata": {
      "needs_background": "light"
     },
     "output_type": "display_data"
    }
   ],
   "source": [
    "plt.figure(figsize=(12,5))\n",
    "plt.title('Lead Profile')\n",
    "\n",
    "#define data\n",
    "height = Leads['Lead Profile'].value_counts().values\n",
    "x= Leads['Lead Profile'].value_counts().index\n",
    "#create bar graph\n",
    "sns.barplot(x,height,data=Leads)\n",
    "plt.xticks( rotation=22)\n",
    "plt.show()"
   ]
  },
  {
   "cell_type": "markdown",
   "id": "5421f520",
   "metadata": {},
   "source": [
    "#### OBSERVATION :\n",
    "MOST OF THE LEAD PROFILE IS UNSPECIFIED."
   ]
  },
  {
   "cell_type": "code",
   "execution_count": 58,
   "id": "106c7cb3",
   "metadata": {},
   "outputs": [
    {
     "data": {
      "image/png": "[encoded data removed]",
      "text/plain": [
       "<Figure size 864x504 with 1 Axes>"
      ]
     },
     "metadata": {
      "needs_background": "light"
     },
     "output_type": "display_data"
    }
   ],
   "source": [
    "plt.figure(figsize=(12,7))\n",
    "plt.title('What is your current occupation')\n",
    "\n",
    "#define data\n",
    "height =Leads['What is your current occupation'].value_counts().values\n",
    "x= Leads['What is your current occupation'].value_counts().index\n",
    "#create bar graph\n",
    "sns.barplot(x,height,data=Leads)\n",
    "plt.xticks( rotation=22)\n",
    "plt.show()"
   ]
  },
  {
   "cell_type": "markdown",
   "id": "2c45dc81",
   "metadata": {},
   "source": [
    "#### OBSERVATION : \n",
    "1.MAJORITY ARE UNEMPLOYED."
   ]
  },
  {
   "cell_type": "code",
   "execution_count": 59,
   "id": "aa0f1ee3",
   "metadata": {},
   "outputs": [
    {
     "data": {
      "image/png": "[encoded data removed]",
      "text/plain": [
       "<Figure size 864x504 with 1 Axes>"
      ]
     },
     "metadata": {
      "needs_background": "light"
     },
     "output_type": "display_data"
    }
   ],
   "source": [
    "plt.figure(figsize=(12,7))\n",
    "plt.title('A free copy of Mastering The Interview')\n",
    "\n",
    "#define data\n",
    "height = Leads['A free copy of Mastering The Interview'].value_counts().values\n",
    "x= Leads['A free copy of Mastering The Interview'].value_counts().index\n",
    "#create bar graph\n",
    "sns.barplot(x,height,data=Leads)\n",
    "plt.xticks( rotation=22)\n",
    "plt.show()"
   ]
  },
  {
   "cell_type": "markdown",
   "id": "29aee95b",
   "metadata": {},
   "source": [
    " #### observation : \n",
    "Most of the customer don't wants a free copy of 'Mastering the Interview'."
   ]
  },
  {
   "cell_type": "code",
   "execution_count": 60,
   "id": "448a24af",
   "metadata": {},
   "outputs": [
    {
     "data": {
      "image/png": "[encoded data removed]",
      "text/plain": [
       "<Figure size 864x504 with 1 Axes>"
      ]
     },
     "metadata": {
      "needs_background": "light"
     },
     "output_type": "display_data"
    }
   ],
   "source": [
    "plt.figure(figsize=(12,7))\n",
    "plt.title(\"Last Notable Activity\")\n",
    "\n",
    "#define data\n",
    "height = Leads[\"Last Notable Activity\"].value_counts().values\n",
    "x= Leads[\"Last Notable Activity\"].value_counts().index\n",
    "#create bar graph\n",
    "sns.barplot(x,height,data=Leads)\n",
    "plt.xticks( rotation=22)\n",
    "plt.show()"
   ]
  },
  {
   "cell_type": "markdown",
   "id": "0093bca2",
   "metadata": {},
   "source": [
    "### Observation\n",
    "    1.The Modified activities are seen at last which are generally more than others .`"
   ]
  },
  {
   "cell_type": "markdown",
   "id": "58a409b4",
   "metadata": {},
   "source": [
    "### NUMERICAL COLUMNS"
   ]
  },
  {
   "cell_type": "markdown",
   "id": "8c4737f7",
   "metadata": {},
   "source": [
    "### OUTLIER TREATMENT"
   ]
  },
  {
   "cell_type": "code",
   "execution_count": 61,
   "id": "84301a0c",
   "metadata": {},
   "outputs": [
    {
     "data": {
      "image/png": "[encoded data removed]",
      "text/plain": [
       "<Figure size 576x360 with 1 Axes>"
      ]
     },
     "metadata": {
      "needs_background": "light"
     },
     "output_type": "display_data"
    }
   ],
   "source": [
    "plt.figure(figsize=(8,5))\n",
    "sns.boxplot(y=Leads['TotalVisits'])\n",
    "plt.show()\n",
    "\n"
   ]
  },
  {
   "cell_type": "markdown",
   "id": "27d94507",
   "metadata": {},
   "source": [
    "## we can see outlier in above plot"
   ]
  },
  {
   "cell_type": "code",
   "execution_count": 62,
   "id": "fe40d906",
   "metadata": {},
   "outputs": [
    {
     "data": {
      "text/plain": [
       "count    9240.000000\n",
       "mean        3.438636\n",
       "std         4.819024\n",
       "min         0.000000\n",
       "5%          0.000000\n",
       "25%         1.000000\n",
       "50%         3.000000\n",
       "75%         5.000000\n",
       "90%         7.000000\n",
       "95%        10.000000\n",
       "99%        17.000000\n",
       "max       251.000000\n",
       "Name: TotalVisits, dtype: float64"
      ]
     },
     "execution_count": 62,
     "metadata": {},
     "output_type": "execute_result"
    }
   ],
   "source": [
    "Leads['TotalVisits'].describe(percentiles=[0.05,.25, .50, .75, .90, .95, .99])\n"
   ]
  },
  {
   "cell_type": "code",
   "execution_count": 63,
   "id": "b98a5f4e",
   "metadata": {},
   "outputs": [
    {
     "data": {
      "image/png": "[encoded data removed]",
      "text/plain": [
       "<Figure size 432x288 with 1 Axes>"
      ]
     },
     "metadata": {
      "needs_background": "light"
     },
     "output_type": "display_data"
    }
   ],
   "source": [
    "Q3 = Leads.TotalVisits.quantile(0.99)\n",
    "Leads = Leads[(Leads.TotalVisits <= Q3)]\n",
    "Q1 = Leads.TotalVisits.quantile(0.01)\n",
    "Leads = Leads[(Leads.TotalVisits >= Q1)]\n",
    "sns.boxplot(y=Leads['TotalVisits'])\n",
    "plt.show()"
   ]
  },
  {
   "cell_type": "code",
   "execution_count": 64,
   "id": "6776ceab",
   "metadata": {},
   "outputs": [
    {
     "data": {
      "text/plain": [
       "count    9157.000000\n",
       "mean      486.189036\n",
       "std       547.695908\n",
       "min         0.000000\n",
       "5%          0.000000\n",
       "25%        10.000000\n",
       "50%       247.000000\n",
       "75%       933.000000\n",
       "90%      1379.000000\n",
       "95%      1559.400000\n",
       "99%      1839.440000\n",
       "max      2272.000000\n",
       "Name: Total Time Spent on Website, dtype: float64"
      ]
     },
     "execution_count": 64,
     "metadata": {},
     "output_type": "execute_result"
    }
   ],
   "source": [
    "## checking for next column\n",
    "Leads['Total Time Spent on Website'].describe(percentiles=[0.05,.25, .5, .75, .90, .95, .99])"
   ]
  },
  {
   "cell_type": "code",
   "execution_count": 65,
   "id": "e09b7266",
   "metadata": {},
   "outputs": [
    {
     "data": {
      "image/png": "[encoded data removed]",
      "text/plain": [
       "<Figure size 576x360 with 1 Axes>"
      ]
     },
     "metadata": {
      "needs_background": "light"
     },
     "output_type": "display_data"
    }
   ],
   "source": [
    "\n",
    "plt.figure(figsize=(8,5))\n",
    "sns.boxplot(y=Leads['Total Time Spent on Website'])\n",
    "plt.show()"
   ]
  },
  {
   "cell_type": "markdown",
   "id": "3168d912",
   "metadata": {},
   "source": [
    "#### No outlier present "
   ]
  },
  {
   "cell_type": "code",
   "execution_count": 66,
   "id": "0048351f",
   "metadata": {},
   "outputs": [
    {
     "data": {
      "image/png": "[encoded data removed]",
      "text/plain": [
       "<Figure size 432x288 with 1 Axes>"
      ]
     },
     "metadata": {
      "needs_background": "light"
     },
     "output_type": "display_data"
    }
   ],
   "source": [
    "## checking for next column\n",
    "plt.figure(figsize=(6,4))\n",
    "sns.boxplot(y=Leads['Page Views Per Visit'])\n",
    "plt.show()"
   ]
  },
  {
   "cell_type": "code",
   "execution_count": 67,
   "id": "2c0763df",
   "metadata": {},
   "outputs": [
    {
     "data": {
      "text/plain": [
       "count    9157.000000\n",
       "mean        2.332225\n",
       "std         2.047285\n",
       "min         0.000000\n",
       "5%          0.000000\n",
       "25%         1.000000\n",
       "50%         2.000000\n",
       "75%         3.000000\n",
       "90%         5.000000\n",
       "95%         6.000000\n",
       "99%         9.000000\n",
       "max        16.000000\n",
       "Name: Page Views Per Visit, dtype: float64"
      ]
     },
     "execution_count": 67,
     "metadata": {},
     "output_type": "execute_result"
    }
   ],
   "source": [
    "Leads['Page Views Per Visit'].describe(percentiles=[0.05,0.25,0.50,0.75,0.90,0.95,0.99])"
   ]
  },
  {
   "cell_type": "code",
   "execution_count": 68,
   "id": "e1d780b0",
   "metadata": {},
   "outputs": [
    {
     "data": {
      "image/png": "[encoded data removed]",
      "text/plain": [
       "<Figure size 432x288 with 1 Axes>"
      ]
     },
     "metadata": {
      "needs_background": "light"
     },
     "output_type": "display_data"
    }
   ],
   "source": [
    "Q3 = Leads['Page Views Per Visit'].quantile(0.99)\n",
    "Leads = Leads[(Leads['Page Views Per Visit'] <= Q3)]\n",
    "Q1 = Leads['Page Views Per Visit'].quantile(0.01)\n",
    "Leads = Leads[(Leads['Page Views Per Visit'] >= Q1)]\n",
    "sns.boxplot(y=Leads['Page Views Per Visit'])\n",
    "plt.show()"
   ]
  },
  {
   "cell_type": "markdown",
   "id": "ef450fe5",
   "metadata": {},
   "source": [
    "# Bivariate Analysis"
   ]
  },
  {
   "cell_type": "code",
   "execution_count": 69,
   "id": "01551047",
   "metadata": {},
   "outputs": [
    {
     "data": {
      "image/png": "[encoded data removed]",
      "text/plain": [
       "<Figure size 1008x360 with 1 Axes>"
      ]
     },
     "metadata": {
      "needs_background": "light"
     },
     "output_type": "display_data"
    }
   ],
   "source": [
    "plt.figure(figsize = (14,5))\n",
    "ax1=sns.countplot(x = \"Specialization\", hue = \"Converted\", data = Leads)\n",
    "ax1.set_xticklabels(ax1.get_xticklabels(),rotation=90)\n",
    "plt.show()"
   ]
  },
  {
   "cell_type": "markdown",
   "id": "d8938d5b",
   "metadata": {},
   "source": [
    "### Observation\n",
    "    1.The management specialized professionals are higher chances of getting converted as compare to others."
   ]
  },
  {
   "cell_type": "code",
   "execution_count": 70,
   "id": "bfb2a71f",
   "metadata": {},
   "outputs": [
    {
     "data": {
      "image/png": "[encoded data removed]",
      "text/plain": [
       "<Figure size 1008x360 with 1 Axes>"
      ]
     },
     "metadata": {
      "needs_background": "light"
     },
     "output_type": "display_data"
    }
   ],
   "source": [
    "plt.figure(figsize = (14,5))\n",
    "ax1=sns.countplot(x = \"Lead Origin\", hue = \"Converted\", data = Leads)\n",
    "ax1.set_xticklabels(ax1.get_xticklabels(),rotation=90)\n",
    "plt.show()"
   ]
  },
  {
   "cell_type": "markdown",
   "id": "64bd1a1a",
   "metadata": {},
   "source": [
    "### Observation\n",
    "    1.The Landing page Sumbission are more converting in numbers\n",
    "    2.The point to be noted that the Lead Add form have the high coversion rate as others ."
   ]
  },
  {
   "cell_type": "code",
   "execution_count": 71,
   "id": "ebf88d62",
   "metadata": {},
   "outputs": [
    {
     "data": {
      "image/png": "[encoded data removed]",
      "text/plain": [
       "<Figure size 1008x360 with 1 Axes>"
      ]
     },
     "metadata": {
      "needs_background": "light"
     },
     "output_type": "display_data"
    }
   ],
   "source": [
    "plt.figure(figsize = (14,5))\n",
    "ax1=sns.countplot(x = \"Lead Source\", hue = \"Converted\", data = Leads)\n",
    "ax1.set_xticklabels(ax1.get_xticklabels(),rotation=90)\n",
    "plt.show()"
   ]
  },
  {
   "cell_type": "markdown",
   "id": "c90bd701",
   "metadata": {},
   "source": [
    "### Observation\n",
    "    1.Direct traffic, Google and Reference have high chance of lead to be converted."
   ]
  },
  {
   "cell_type": "code",
   "execution_count": 72,
   "id": "69491718",
   "metadata": {},
   "outputs": [
    {
     "data": {
      "image/png": "[encoded data removed]",
      "text/plain": [
       "<Figure size 1008x360 with 1 Axes>"
      ]
     },
     "metadata": {
      "needs_background": "light"
     },
     "output_type": "display_data"
    }
   ],
   "source": [
    "plt.figure(figsize = (14,5))\n",
    "ax1=sns.countplot(x = \"Last Activity\", hue = \"Converted\", data = Leads)\n",
    "ax1.set_xticklabels(ax1.get_xticklabels(),rotation=90)\n",
    "plt.show()"
   ]
  },
  {
   "cell_type": "markdown",
   "id": "319549c7",
   "metadata": {},
   "source": [
    "### Observation\n",
    "    1.The SMS sent has high conversion rate than non conversion while in other cases non conversion rate is more than conversion."
   ]
  },
  {
   "cell_type": "code",
   "execution_count": 73,
   "id": "05478205",
   "metadata": {},
   "outputs": [
    {
     "data": {
      "image/png": "[encoded data removed]",
      "text/plain": [
       "<Figure size 1008x360 with 1 Axes>"
      ]
     },
     "metadata": {
      "needs_background": "light"
     },
     "output_type": "display_data"
    }
   ],
   "source": [
    "plt.figure(figsize = (14,5))\n",
    "ax1=sns.countplot(x = \"What is your current occupation\", hue = \"Converted\", data = Leads)\n",
    "ax1.set_xticklabels(ax1.get_xticklabels(),rotation=90)\n",
    "plt.show()"
   ]
  },
  {
   "cell_type": "markdown",
   "id": "e8c0f23b",
   "metadata": {},
   "source": [
    "### Observation\n",
    "    1. working professional are low in number but they have the high conversion rate \n",
    "    2.Unemployed are more in number but there non conversion rate is high as compared to conversion. "
   ]
  },
  {
   "cell_type": "code",
   "execution_count": 74,
   "id": "88c8c52e",
   "metadata": {},
   "outputs": [
    {
     "data": {
      "image/png": "[encoded data removed]",
      "text/plain": [
       "<Figure size 1008x360 with 1 Axes>"
      ]
     },
     "metadata": {
      "needs_background": "light"
     },
     "output_type": "display_data"
    }
   ],
   "source": [
    "plt.figure(figsize = (14,5))\n",
    "ax1=sns.countplot(x = \"Lead Profile\", hue = \"Converted\", data = Leads)\n",
    "ax1.set_xticklabels(ax1.get_xticklabels(),rotation=90)\n",
    "plt.show()"
   ]
  },
  {
   "cell_type": "markdown",
   "id": "b1fb5cda",
   "metadata": {},
   "source": [
    "### Observation\n",
    "    1.The potential lead are less in number but have high conversion rate although unspecified are more converting ."
   ]
  },
  {
   "cell_type": "code",
   "execution_count": 75,
   "id": "8ff29842",
   "metadata": {},
   "outputs": [
    {
     "data": {
      "image/png": "[encoded data removed]",
      "text/plain": [
       "<Figure size 1008x360 with 1 Axes>"
      ]
     },
     "metadata": {
      "needs_background": "light"
     },
     "output_type": "display_data"
    }
   ],
   "source": [
    "plt.figure(figsize = (14,5))\n",
    "ax1=sns.countplot(x = \"Last Notable Activity\", hue = \"Converted\", data = Leads)\n",
    "ax1.set_xticklabels(ax1.get_xticklabels(),rotation=90)\n",
    "plt.show()"
   ]
  },
  {
   "cell_type": "markdown",
   "id": "7bd58d70",
   "metadata": {},
   "source": [
    "#### observation : \n",
    "\n",
    "SMS sent have high conversion rate."
   ]
  },
  {
   "cell_type": "code",
   "execution_count": 76,
   "id": "be56c716",
   "metadata": {},
   "outputs": [],
   "source": [
    "## NUMRICAL COLUMN"
   ]
  },
  {
   "cell_type": "code",
   "execution_count": 77,
   "id": "c737fe11",
   "metadata": {},
   "outputs": [
    {
     "data": {
      "image/png": "[encoded data removed]",
      "text/plain": [
       "<Figure size 432x288 with 1 Axes>"
      ]
     },
     "metadata": {
      "needs_background": "light"
     },
     "output_type": "display_data"
    }
   ],
   "source": [
    "sns.boxplot(y = 'TotalVisits', x = 'Converted', data = Leads)\n",
    "plt.show()"
   ]
  },
  {
   "cell_type": "markdown",
   "id": "69d295ca",
   "metadata": {},
   "source": [
    "## Observation \n",
    "Both have almost close median value"
   ]
  },
  {
   "cell_type": "code",
   "execution_count": 78,
   "id": "50abf9ae",
   "metadata": {},
   "outputs": [
    {
     "data": {
      "image/png": "[encoded data removed]",
      "text/plain": [
       "<Figure size 432x288 with 1 Axes>"
      ]
     },
     "metadata": {
      "needs_background": "light"
     },
     "output_type": "display_data"
    }
   ],
   "source": [
    "sns.boxplot(y = 'Total Time Spent on Website', x = 'Converted', data = Leads)\n",
    "plt.show()"
   ]
  },
  {
   "cell_type": "markdown",
   "id": "9ab73db8",
   "metadata": {},
   "source": [
    "### Observation\n",
    "    \n",
    "    1. leads spending more time on the website are more likely to be converted"
   ]
  },
  {
   "cell_type": "code",
   "execution_count": 79,
   "id": "3dc43b80",
   "metadata": {},
   "outputs": [
    {
     "data": {
      "image/png": "[encoded data removed]",
      "text/plain": [
       "<Figure size 432x288 with 1 Axes>"
      ]
     },
     "metadata": {
      "needs_background": "light"
     },
     "output_type": "display_data"
    }
   ],
   "source": [
    "\n",
    "sns.boxplot(y = 'Page Views Per Visit', x = 'Converted', data = Leads)\n",
    "plt.show()"
   ]
  },
  {
   "cell_type": "markdown",
   "id": "0a2721ed",
   "metadata": {},
   "source": [
    "### Observation\n",
    "    1.The median value are almost same for the converted and not converted."
   ]
  },
  {
   "cell_type": "markdown",
   "id": "1001ec20",
   "metadata": {},
   "source": [
    "## MULTIVARIATE ANALYSIS"
   ]
  },
  {
   "cell_type": "code",
   "execution_count": 80,
   "id": "eb501ec1",
   "metadata": {},
   "outputs": [
    {
     "data": {
      "image/png": "[encoded data removed]",
      "text/plain": [
       "<Figure size 432x288 with 2 Axes>"
      ]
     },
     "metadata": {
      "needs_background": "light"
     },
     "output_type": "display_data"
    }
   ],
   "source": [
    "sns.heatmap(numerical_data.corr(),cmap=\"BuPu\",annot=True);"
   ]
  },
  {
   "cell_type": "markdown",
   "id": "63f68efe",
   "metadata": {},
   "source": [
    " \"the pages per visit\" and \"Total visits\" are highly correlated as compated to other variables."
   ]
  },
  {
   "cell_type": "code",
   "execution_count": 81,
   "id": "4daf2fc9",
   "metadata": {},
   "outputs": [
    {
     "data": {
      "text/plain": [
       "<Figure size 576x576 with 0 Axes>"
      ]
     },
     "metadata": {},
     "output_type": "display_data"
    },
    {
     "data": {
      "image/png": "[encoded data removed]",
      "text/plain": [
       "<Figure size 720x720 with 20 Axes>"
      ]
     },
     "metadata": {
      "needs_background": "light"
     },
     "output_type": "display_data"
    }
   ],
   "source": [
    "plt.figure(figsize=(8,8))\n",
    "sns.pairplot(numerical_data);"
   ]
  },
  {
   "cell_type": "markdown",
   "id": "25555f2b",
   "metadata": {},
   "source": [
    "## DATA PREPARATION"
   ]
  },
  {
   "cell_type": "code",
   "execution_count": 82,
   "id": "cb3ea0be",
   "metadata": {},
   "outputs": [],
   "source": [
    "# Creating Dummies for the categorical columns \n",
    "dummy=pd.get_dummies(Leads[[\"Lead Origin\",\"Lead Source\",\"Specialization\",\"Last Activity\",\"What is your current occupation\",\"Lead Profile\",\"Last Notable Activity\"]],drop_first=True)"
   ]
  },
  {
   "cell_type": "code",
   "execution_count": 83,
   "id": "096e198f",
   "metadata": {},
   "outputs": [],
   "source": [
    "# Droping those variable for which we have created Dummies.\n",
    "Leads.drop([\"Lead Origin\",\"Lead Source\",\"Specialization\",\"Last Activity\",\"What is your current occupation\",\"Lead Profile\",\"Last Notable Activity\"],axis=1,inplace=True)"
   ]
  },
  {
   "cell_type": "code",
   "execution_count": 84,
   "id": "fc308ec1",
   "metadata": {},
   "outputs": [],
   "source": [
    "Leads[\"A free copy of Mastering The Interview\"].replace({\"Yes\":0,\"No\":1},inplace=True) ### Converting categorical to the numerical column."
   ]
  },
  {
   "cell_type": "code",
   "execution_count": 85,
   "id": "bea0d6b8",
   "metadata": {},
   "outputs": [],
   "source": [
    "Leads=pd.concat([Leads,dummy],axis=1)"
   ]
  },
  {
   "cell_type": "code",
   "execution_count": 86,
   "id": "455bca06",
   "metadata": {},
   "outputs": [
    {
     "data": {
      "text/html": [
       "<div>\n",
       "<style scoped>\n",
       "    .dataframe tbody tr th:only-of-type {\n",
       "        vertical-align: middle;\n",
       "    }\n",
       "\n",
       "    .dataframe tbody tr th {\n",
       "        vertical-align: top;\n",
       "    }\n",
       "\n",
       "    .dataframe thead th {\n",
       "        text-align: right;\n",
       "    }\n",
       "</style>\n",
       "<table border=\"1\" class=\"dataframe\">\n",
       "  <thead>\n",
       "    <tr style=\"text-align: right;\">\n",
       "      <th></th>\n",
       "      <th>Converted</th>\n",
       "      <th>TotalVisits</th>\n",
       "      <th>Total Time Spent on Website</th>\n",
       "      <th>Page Views Per Visit</th>\n",
       "      <th>A free copy of Mastering The Interview</th>\n",
       "      <th>Lead Origin_Landing Page Submission</th>\n",
       "      <th>Lead Origin_Lead Add Form</th>\n",
       "      <th>Lead Origin_Lead Import</th>\n",
       "      <th>Lead Origin_Quick Add Form</th>\n",
       "      <th>Lead Source_Google</th>\n",
       "      <th>...</th>\n",
       "      <th>Lead Profile_Other Leads</th>\n",
       "      <th>Lead Profile_Potential Lead</th>\n",
       "      <th>Lead Profile_Student of SomeSchool</th>\n",
       "      <th>Lead Profile_unspecified</th>\n",
       "      <th>Last Notable Activity_Email Opened</th>\n",
       "      <th>Last Notable Activity_Modified</th>\n",
       "      <th>Last Notable Activity_Olark Chat Conversation</th>\n",
       "      <th>Last Notable Activity_Page Visited on Website</th>\n",
       "      <th>Last Notable Activity_SMS Sent</th>\n",
       "      <th>Last Notable Activity_others</th>\n",
       "    </tr>\n",
       "  </thead>\n",
       "  <tbody>\n",
       "    <tr>\n",
       "      <th>0</th>\n",
       "      <td>0</td>\n",
       "      <td>0.0</td>\n",
       "      <td>0</td>\n",
       "      <td>0.0</td>\n",
       "      <td>1</td>\n",
       "      <td>0</td>\n",
       "      <td>0</td>\n",
       "      <td>0</td>\n",
       "      <td>0</td>\n",
       "      <td>0</td>\n",
       "      <td>...</td>\n",
       "      <td>0</td>\n",
       "      <td>0</td>\n",
       "      <td>0</td>\n",
       "      <td>1</td>\n",
       "      <td>0</td>\n",
       "      <td>1</td>\n",
       "      <td>0</td>\n",
       "      <td>0</td>\n",
       "      <td>0</td>\n",
       "      <td>0</td>\n",
       "    </tr>\n",
       "    <tr>\n",
       "      <th>1</th>\n",
       "      <td>0</td>\n",
       "      <td>5.0</td>\n",
       "      <td>674</td>\n",
       "      <td>2.5</td>\n",
       "      <td>1</td>\n",
       "      <td>0</td>\n",
       "      <td>0</td>\n",
       "      <td>0</td>\n",
       "      <td>0</td>\n",
       "      <td>0</td>\n",
       "      <td>...</td>\n",
       "      <td>0</td>\n",
       "      <td>0</td>\n",
       "      <td>0</td>\n",
       "      <td>1</td>\n",
       "      <td>1</td>\n",
       "      <td>0</td>\n",
       "      <td>0</td>\n",
       "      <td>0</td>\n",
       "      <td>0</td>\n",
       "      <td>0</td>\n",
       "    </tr>\n",
       "    <tr>\n",
       "      <th>2</th>\n",
       "      <td>1</td>\n",
       "      <td>2.0</td>\n",
       "      <td>1532</td>\n",
       "      <td>2.0</td>\n",
       "      <td>0</td>\n",
       "      <td>1</td>\n",
       "      <td>0</td>\n",
       "      <td>0</td>\n",
       "      <td>0</td>\n",
       "      <td>0</td>\n",
       "      <td>...</td>\n",
       "      <td>0</td>\n",
       "      <td>1</td>\n",
       "      <td>0</td>\n",
       "      <td>0</td>\n",
       "      <td>1</td>\n",
       "      <td>0</td>\n",
       "      <td>0</td>\n",
       "      <td>0</td>\n",
       "      <td>0</td>\n",
       "      <td>0</td>\n",
       "    </tr>\n",
       "    <tr>\n",
       "      <th>3</th>\n",
       "      <td>0</td>\n",
       "      <td>1.0</td>\n",
       "      <td>305</td>\n",
       "      <td>1.0</td>\n",
       "      <td>1</td>\n",
       "      <td>1</td>\n",
       "      <td>0</td>\n",
       "      <td>0</td>\n",
       "      <td>0</td>\n",
       "      <td>0</td>\n",
       "      <td>...</td>\n",
       "      <td>0</td>\n",
       "      <td>0</td>\n",
       "      <td>0</td>\n",
       "      <td>1</td>\n",
       "      <td>0</td>\n",
       "      <td>1</td>\n",
       "      <td>0</td>\n",
       "      <td>0</td>\n",
       "      <td>0</td>\n",
       "      <td>0</td>\n",
       "    </tr>\n",
       "    <tr>\n",
       "      <th>4</th>\n",
       "      <td>1</td>\n",
       "      <td>2.0</td>\n",
       "      <td>1428</td>\n",
       "      <td>1.0</td>\n",
       "      <td>1</td>\n",
       "      <td>1</td>\n",
       "      <td>0</td>\n",
       "      <td>0</td>\n",
       "      <td>0</td>\n",
       "      <td>1</td>\n",
       "      <td>...</td>\n",
       "      <td>0</td>\n",
       "      <td>0</td>\n",
       "      <td>0</td>\n",
       "      <td>1</td>\n",
       "      <td>0</td>\n",
       "      <td>1</td>\n",
       "      <td>0</td>\n",
       "      <td>0</td>\n",
       "      <td>0</td>\n",
       "      <td>0</td>\n",
       "    </tr>\n",
       "  </tbody>\n",
       "</table>\n",
       "<p>5 rows × 50 columns</p>\n",
       "</div>"
      ],
      "text/plain": [
       "   Converted  TotalVisits  Total Time Spent on Website  Page Views Per Visit  \\\n",
       "0          0          0.0                            0                   0.0   \n",
       "1          0          5.0                          674                   2.5   \n",
       "2          1          2.0                         1532                   2.0   \n",
       "3          0          1.0                          305                   1.0   \n",
       "4          1          2.0                         1428                   1.0   \n",
       "\n",
       "   A free copy of Mastering The Interview  \\\n",
       "0                                       1   \n",
       "1                                       1   \n",
       "2                                       0   \n",
       "3                                       1   \n",
       "4                                       1   \n",
       "\n",
       "   Lead Origin_Landing Page Submission  Lead Origin_Lead Add Form  \\\n",
       "0                                    0                          0   \n",
       "1                                    0                          0   \n",
       "2                                    1                          0   \n",
       "3                                    1                          0   \n",
       "4                                    1                          0   \n",
       "\n",
       "   Lead Origin_Lead Import  Lead Origin_Quick Add Form  Lead Source_Google  \\\n",
       "0                        0                           0                   0   \n",
       "1                        0                           0                   0   \n",
       "2                        0                           0                   0   \n",
       "3                        0                           0                   0   \n",
       "4                        0                           0                   1   \n",
       "\n",
       "   ...  Lead Profile_Other Leads  Lead Profile_Potential Lead  \\\n",
       "0  ...                         0                            0   \n",
       "1  ...                         0                            0   \n",
       "2  ...                         0                            1   \n",
       "3  ...                         0                            0   \n",
       "4  ...                         0                            0   \n",
       "\n",
       "   Lead Profile_Student of SomeSchool  Lead Profile_unspecified  \\\n",
       "0                                   0                         1   \n",
       "1                                   0                         1   \n",
       "2                                   0                         0   \n",
       "3                                   0                         1   \n",
       "4                                   0                         1   \n",
       "\n",
       "   Last Notable Activity_Email Opened  Last Notable Activity_Modified  \\\n",
       "0                                   0                               1   \n",
       "1                                   1                               0   \n",
       "2                                   1                               0   \n",
       "3                                   0                               1   \n",
       "4                                   0                               1   \n",
       "\n",
       "   Last Notable Activity_Olark Chat Conversation  \\\n",
       "0                                              0   \n",
       "1                                              0   \n",
       "2                                              0   \n",
       "3                                              0   \n",
       "4                                              0   \n",
       "\n",
       "   Last Notable Activity_Page Visited on Website  \\\n",
       "0                                              0   \n",
       "1                                              0   \n",
       "2                                              0   \n",
       "3                                              0   \n",
       "4                                              0   \n",
       "\n",
       "   Last Notable Activity_SMS Sent  Last Notable Activity_others  \n",
       "0                               0                             0  \n",
       "1                               0                             0  \n",
       "2                               0                             0  \n",
       "3                               0                             0  \n",
       "4                               0                             0  \n",
       "\n",
       "[5 rows x 50 columns]"
      ]
     },
     "execution_count": 86,
     "metadata": {},
     "output_type": "execute_result"
    }
   ],
   "source": [
    "Leads.head()"
   ]
  },
  {
   "cell_type": "code",
   "execution_count": 87,
   "id": "2a24a4be",
   "metadata": {},
   "outputs": [
    {
     "data": {
      "text/plain": [
       "(9090, 50)"
      ]
     },
     "execution_count": 87,
     "metadata": {},
     "output_type": "execute_result"
    }
   ],
   "source": [
    "Leads.shape   "
   ]
  },
  {
   "cell_type": "code",
   "execution_count": 88,
   "id": "98be4c34",
   "metadata": {},
   "outputs": [],
   "source": [
    "y=Leads[\"Converted\"]\n",
    "X=Leads.drop([\"Converted\"],axis=1)"
   ]
  },
  {
   "cell_type": "code",
   "execution_count": 89,
   "id": "6c905143",
   "metadata": {},
   "outputs": [],
   "source": [
    "#  Splitting the Data into Training and Testing Sets\n",
    "\n",
    "X_train,X_test,y_train,y_test=train_test_split(X,y,train_size=0.7,test_size=0.3,random_state=100)\n"
   ]
  },
  {
   "cell_type": "markdown",
   "id": "1aff5186",
   "metadata": {},
   "source": [
    "#### Scaling of Data "
   ]
  },
  {
   "cell_type": "code",
   "execution_count": 90,
   "id": "5ad026da",
   "metadata": {},
   "outputs": [],
   "source": [
    "scaler=StandardScaler()"
   ]
  },
  {
   "cell_type": "code",
   "execution_count": 91,
   "id": "ae8da7ed",
   "metadata": {},
   "outputs": [
    {
     "data": {
      "text/html": [
       "<div>\n",
       "<style scoped>\n",
       "    .dataframe tbody tr th:only-of-type {\n",
       "        vertical-align: middle;\n",
       "    }\n",
       "\n",
       "    .dataframe tbody tr th {\n",
       "        vertical-align: top;\n",
       "    }\n",
       "\n",
       "    .dataframe thead th {\n",
       "        text-align: right;\n",
       "    }\n",
       "</style>\n",
       "<table border=\"1\" class=\"dataframe\">\n",
       "  <thead>\n",
       "    <tr style=\"text-align: right;\">\n",
       "      <th></th>\n",
       "      <th>TotalVisits</th>\n",
       "      <th>Total Time Spent on Website</th>\n",
       "      <th>Page Views Per Visit</th>\n",
       "      <th>A free copy of Mastering The Interview</th>\n",
       "      <th>Lead Origin_Landing Page Submission</th>\n",
       "      <th>Lead Origin_Lead Add Form</th>\n",
       "      <th>Lead Origin_Lead Import</th>\n",
       "      <th>Lead Origin_Quick Add Form</th>\n",
       "      <th>Lead Source_Google</th>\n",
       "      <th>Lead Source_Olark Chat</th>\n",
       "      <th>...</th>\n",
       "      <th>Lead Profile_Other Leads</th>\n",
       "      <th>Lead Profile_Potential Lead</th>\n",
       "      <th>Lead Profile_Student of SomeSchool</th>\n",
       "      <th>Lead Profile_unspecified</th>\n",
       "      <th>Last Notable Activity_Email Opened</th>\n",
       "      <th>Last Notable Activity_Modified</th>\n",
       "      <th>Last Notable Activity_Olark Chat Conversation</th>\n",
       "      <th>Last Notable Activity_Page Visited on Website</th>\n",
       "      <th>Last Notable Activity_SMS Sent</th>\n",
       "      <th>Last Notable Activity_others</th>\n",
       "    </tr>\n",
       "  </thead>\n",
       "  <tbody>\n",
       "    <tr>\n",
       "      <th>302</th>\n",
       "      <td>1.336782</td>\n",
       "      <td>-0.428736</td>\n",
       "      <td>0.044021</td>\n",
       "      <td>1</td>\n",
       "      <td>0</td>\n",
       "      <td>0</td>\n",
       "      <td>0</td>\n",
       "      <td>0</td>\n",
       "      <td>0</td>\n",
       "      <td>0</td>\n",
       "      <td>...</td>\n",
       "      <td>0</td>\n",
       "      <td>0</td>\n",
       "      <td>0</td>\n",
       "      <td>1</td>\n",
       "      <td>1</td>\n",
       "      <td>0</td>\n",
       "      <td>0</td>\n",
       "      <td>0</td>\n",
       "      <td>0</td>\n",
       "      <td>0</td>\n",
       "    </tr>\n",
       "    <tr>\n",
       "      <th>6087</th>\n",
       "      <td>-1.094877</td>\n",
       "      <td>-0.887355</td>\n",
       "      <td>-1.206716</td>\n",
       "      <td>1</td>\n",
       "      <td>0</td>\n",
       "      <td>0</td>\n",
       "      <td>0</td>\n",
       "      <td>0</td>\n",
       "      <td>0</td>\n",
       "      <td>1</td>\n",
       "      <td>...</td>\n",
       "      <td>0</td>\n",
       "      <td>0</td>\n",
       "      <td>0</td>\n",
       "      <td>1</td>\n",
       "      <td>0</td>\n",
       "      <td>1</td>\n",
       "      <td>0</td>\n",
       "      <td>0</td>\n",
       "      <td>0</td>\n",
       "      <td>0</td>\n",
       "    </tr>\n",
       "    <tr>\n",
       "      <th>1033</th>\n",
       "      <td>0.642022</td>\n",
       "      <td>-0.025151</td>\n",
       "      <td>1.477269</td>\n",
       "      <td>1</td>\n",
       "      <td>0</td>\n",
       "      <td>0</td>\n",
       "      <td>0</td>\n",
       "      <td>0</td>\n",
       "      <td>1</td>\n",
       "      <td>0</td>\n",
       "      <td>...</td>\n",
       "      <td>0</td>\n",
       "      <td>0</td>\n",
       "      <td>0</td>\n",
       "      <td>1</td>\n",
       "      <td>1</td>\n",
       "      <td>0</td>\n",
       "      <td>0</td>\n",
       "      <td>0</td>\n",
       "      <td>0</td>\n",
       "      <td>0</td>\n",
       "    </tr>\n",
       "    <tr>\n",
       "      <th>7656</th>\n",
       "      <td>0.989402</td>\n",
       "      <td>-0.241619</td>\n",
       "      <td>2.014065</td>\n",
       "      <td>0</td>\n",
       "      <td>1</td>\n",
       "      <td>0</td>\n",
       "      <td>0</td>\n",
       "      <td>0</td>\n",
       "      <td>0</td>\n",
       "      <td>0</td>\n",
       "      <td>...</td>\n",
       "      <td>0</td>\n",
       "      <td>0</td>\n",
       "      <td>0</td>\n",
       "      <td>1</td>\n",
       "      <td>0</td>\n",
       "      <td>0</td>\n",
       "      <td>0</td>\n",
       "      <td>0</td>\n",
       "      <td>1</td>\n",
       "      <td>0</td>\n",
       "    </tr>\n",
       "    <tr>\n",
       "      <th>3241</th>\n",
       "      <td>0.294642</td>\n",
       "      <td>0.897591</td>\n",
       "      <td>-0.492776</td>\n",
       "      <td>0</td>\n",
       "      <td>1</td>\n",
       "      <td>0</td>\n",
       "      <td>0</td>\n",
       "      <td>0</td>\n",
       "      <td>0</td>\n",
       "      <td>0</td>\n",
       "      <td>...</td>\n",
       "      <td>0</td>\n",
       "      <td>0</td>\n",
       "      <td>0</td>\n",
       "      <td>1</td>\n",
       "      <td>0</td>\n",
       "      <td>0</td>\n",
       "      <td>0</td>\n",
       "      <td>0</td>\n",
       "      <td>1</td>\n",
       "      <td>0</td>\n",
       "    </tr>\n",
       "  </tbody>\n",
       "</table>\n",
       "<p>5 rows × 49 columns</p>\n",
       "</div>"
      ],
      "text/plain": [
       "      TotalVisits  Total Time Spent on Website  Page Views Per Visit  \\\n",
       "302      1.336782                    -0.428736              0.044021   \n",
       "6087    -1.094877                    -0.887355             -1.206716   \n",
       "1033     0.642022                    -0.025151              1.477269   \n",
       "7656     0.989402                    -0.241619              2.014065   \n",
       "3241     0.294642                     0.897591             -0.492776   \n",
       "\n",
       "      A free copy of Mastering The Interview  \\\n",
       "302                                        1   \n",
       "6087                                       1   \n",
       "1033                                       1   \n",
       "7656                                       0   \n",
       "3241                                       0   \n",
       "\n",
       "      Lead Origin_Landing Page Submission  Lead Origin_Lead Add Form  \\\n",
       "302                                     0                          0   \n",
       "6087                                    0                          0   \n",
       "1033                                    0                          0   \n",
       "7656                                    1                          0   \n",
       "3241                                    1                          0   \n",
       "\n",
       "      Lead Origin_Lead Import  Lead Origin_Quick Add Form  Lead Source_Google  \\\n",
       "302                         0                           0                   0   \n",
       "6087                        0                           0                   0   \n",
       "1033                        0                           0                   1   \n",
       "7656                        0                           0                   0   \n",
       "3241                        0                           0                   0   \n",
       "\n",
       "      Lead Source_Olark Chat  ...  Lead Profile_Other Leads  \\\n",
       "302                        0  ...                         0   \n",
       "6087                       1  ...                         0   \n",
       "1033                       0  ...                         0   \n",
       "7656                       0  ...                         0   \n",
       "3241                       0  ...                         0   \n",
       "\n",
       "      Lead Profile_Potential Lead  Lead Profile_Student of SomeSchool  \\\n",
       "302                             0                                   0   \n",
       "6087                            0                                   0   \n",
       "1033                            0                                   0   \n",
       "7656                            0                                   0   \n",
       "3241                            0                                   0   \n",
       "\n",
       "      Lead Profile_unspecified  Last Notable Activity_Email Opened  \\\n",
       "302                          1                                   1   \n",
       "6087                         1                                   0   \n",
       "1033                         1                                   1   \n",
       "7656                         1                                   0   \n",
       "3241                         1                                   0   \n",
       "\n",
       "      Last Notable Activity_Modified  \\\n",
       "302                                0   \n",
       "6087                               1   \n",
       "1033                               0   \n",
       "7656                               0   \n",
       "3241                               0   \n",
       "\n",
       "      Last Notable Activity_Olark Chat Conversation  \\\n",
       "302                                               0   \n",
       "6087                                              0   \n",
       "1033                                              0   \n",
       "7656                                              0   \n",
       "3241                                              0   \n",
       "\n",
       "      Last Notable Activity_Page Visited on Website  \\\n",
       "302                                               0   \n",
       "6087                                              0   \n",
       "1033                                              0   \n",
       "7656                                              0   \n",
       "3241                                              0   \n",
       "\n",
       "      Last Notable Activity_SMS Sent  Last Notable Activity_others  \n",
       "302                                0                             0  \n",
       "6087                               0                             0  \n",
       "1033                               0                             0  \n",
       "7656                               1                             0  \n",
       "3241                               1                             0  \n",
       "\n",
       "[5 rows x 49 columns]"
      ]
     },
     "execution_count": 91,
     "metadata": {},
     "output_type": "execute_result"
    }
   ],
   "source": [
    "X_train[[\"TotalVisits\",\"Total Time Spent on Website\",\"Page Views Per Visit\"]] = scaler.fit_transform(X_train[[\"TotalVisits\",\"Total Time Spent on Website\",\"Page Views Per Visit\"]])\n",
    "\n",
    "X_train.head()"
   ]
  },
  {
   "cell_type": "code",
   "execution_count": 92,
   "id": "18f5d265",
   "metadata": {},
   "outputs": [
    {
     "data": {
      "text/plain": [
       "38.448844884488445"
      ]
     },
     "execution_count": 92,
     "metadata": {},
     "output_type": "execute_result"
    }
   ],
   "source": [
    "### Checking the Converted Rate\n",
    "Converted = (sum(Leads['Converted'])/len(Leads['Converted'].index))*100\n",
    "Converted"
   ]
  },
  {
   "cell_type": "markdown",
   "id": "87cde96d",
   "metadata": {},
   "source": [
    "### <i> MODEL BUILDING </i>"
   ]
  },
  {
   "cell_type": "code",
   "execution_count": 93,
   "id": "6fd554b8",
   "metadata": {},
   "outputs": [
    {
     "data": {
      "text/html": [
       "<table class=\"simpletable\">\n",
       "<caption>Generalized Linear Model Regression Results</caption>\n",
       "<tr>\n",
       "  <th>Dep. Variable:</th>       <td>Converted</td>    <th>  No. Observations:  </th>  <td>  6363</td> \n",
       "</tr>\n",
       "<tr>\n",
       "  <th>Model:</th>                  <td>GLM</td>       <th>  Df Residuals:      </th>  <td>  6313</td> \n",
       "</tr>\n",
       "<tr>\n",
       "  <th>Model Family:</th>        <td>Binomial</td>     <th>  Df Model:          </th>  <td>    49</td> \n",
       "</tr>\n",
       "<tr>\n",
       "  <th>Link Function:</th>         <td>Logit</td>      <th>  Scale:             </th> <td>  1.0000</td>\n",
       "</tr>\n",
       "<tr>\n",
       "  <th>Method:</th>                <td>IRLS</td>       <th>  Log-Likelihood:    </th> <td> -2382.2</td>\n",
       "</tr>\n",
       "<tr>\n",
       "  <th>Date:</th>            <td>Sat, 21 Jan 2023</td> <th>  Deviance:          </th> <td>  4764.4</td>\n",
       "</tr>\n",
       "<tr>\n",
       "  <th>Time:</th>                <td>18:15:33</td>     <th>  Pearson chi2:      </th> <td>7.45e+03</td>\n",
       "</tr>\n",
       "<tr>\n",
       "  <th>No. Iterations:</th>         <td>22</td>        <th>  Pseudo R-squ. (CS):</th>  <td>0.4406</td> \n",
       "</tr>\n",
       "<tr>\n",
       "  <th>Covariance Type:</th>     <td>nonrobust</td>    <th>                     </th>     <td> </td>   \n",
       "</tr>\n",
       "</table>\n",
       "<table class=\"simpletable\">\n",
       "<tr>\n",
       "                            <td></td>                              <th>coef</th>     <th>std err</th>      <th>z</th>      <th>P>|z|</th>  <th>[0.025</th>    <th>0.975]</th>  \n",
       "</tr>\n",
       "<tr>\n",
       "  <th>const</th>                                                <td>   21.7798</td> <td> 2.14e+04</td> <td>    0.001</td> <td> 0.999</td> <td>-4.19e+04</td> <td>  4.2e+04</td>\n",
       "</tr>\n",
       "<tr>\n",
       "  <th>TotalVisits</th>                                          <td>    0.2441</td> <td>    0.053</td> <td>    4.592</td> <td> 0.000</td> <td>    0.140</td> <td>    0.348</td>\n",
       "</tr>\n",
       "<tr>\n",
       "  <th>Total Time Spent on Website</th>                          <td>    1.0776</td> <td>    0.042</td> <td>   25.488</td> <td> 0.000</td> <td>    0.995</td> <td>    1.160</td>\n",
       "</tr>\n",
       "<tr>\n",
       "  <th>Page Views Per Visit</th>                                 <td>   -0.2026</td> <td>    0.060</td> <td>   -3.370</td> <td> 0.001</td> <td>   -0.320</td> <td>   -0.085</td>\n",
       "</tr>\n",
       "<tr>\n",
       "  <th>A free copy of Mastering The Interview</th>               <td>    0.0745</td> <td>    0.116</td> <td>    0.644</td> <td> 0.520</td> <td>   -0.152</td> <td>    0.301</td>\n",
       "</tr>\n",
       "<tr>\n",
       "  <th>Lead Origin_Landing Page Submission</th>                  <td>   -0.4006</td> <td>    0.151</td> <td>   -2.656</td> <td> 0.008</td> <td>   -0.696</td> <td>   -0.105</td>\n",
       "</tr>\n",
       "<tr>\n",
       "  <th>Lead Origin_Lead Add Form</th>                            <td>    3.4712</td> <td>    0.710</td> <td>    4.892</td> <td> 0.000</td> <td>    2.080</td> <td>    4.862</td>\n",
       "</tr>\n",
       "<tr>\n",
       "  <th>Lead Origin_Lead Import</th>                              <td>   -0.1077</td> <td>    1.485</td> <td>   -0.073</td> <td> 0.942</td> <td>   -3.019</td> <td>    2.803</td>\n",
       "</tr>\n",
       "<tr>\n",
       "  <th>Lead Origin_Quick Add Form</th>                           <td>   23.2735</td> <td> 7.95e+04</td> <td>    0.000</td> <td> 1.000</td> <td>-1.56e+05</td> <td> 1.56e+05</td>\n",
       "</tr>\n",
       "<tr>\n",
       "  <th>Lead Source_Google</th>                                   <td>    0.3502</td> <td>    0.121</td> <td>    2.885</td> <td> 0.004</td> <td>    0.112</td> <td>    0.588</td>\n",
       "</tr>\n",
       "<tr>\n",
       "  <th>Lead Source_Olark Chat</th>                               <td>    1.3276</td> <td>    0.174</td> <td>    7.636</td> <td> 0.000</td> <td>    0.987</td> <td>    1.668</td>\n",
       "</tr>\n",
       "<tr>\n",
       "  <th>Lead Source_Organic Search</th>                           <td>    0.0288</td> <td>    0.140</td> <td>    0.206</td> <td> 0.837</td> <td>   -0.245</td> <td>    0.303</td>\n",
       "</tr>\n",
       "<tr>\n",
       "  <th>Lead Source_Reference</th>                                <td>   -0.4190</td> <td>    0.740</td> <td>   -0.566</td> <td> 0.571</td> <td>   -1.870</td> <td>    1.032</td>\n",
       "</tr>\n",
       "<tr>\n",
       "  <th>Lead Source_Referral Sites</th>                           <td>    0.3928</td> <td>    0.351</td> <td>    1.119</td> <td> 0.263</td> <td>   -0.295</td> <td>    1.081</td>\n",
       "</tr>\n",
       "<tr>\n",
       "  <th>Lead Source_Social Media</th>                             <td>    0.1969</td> <td>    1.389</td> <td>    0.142</td> <td> 0.887</td> <td>   -2.526</td> <td>    2.919</td>\n",
       "</tr>\n",
       "<tr>\n",
       "  <th>Lead Source_Welingak Website</th>                         <td>    3.2504</td> <td>    1.234</td> <td>    2.635</td> <td> 0.008</td> <td>    0.833</td> <td>    5.668</td>\n",
       "</tr>\n",
       "<tr>\n",
       "  <th>Lead Source_others</th>                                   <td>    0.9128</td> <td>    0.856</td> <td>    1.067</td> <td> 0.286</td> <td>   -0.765</td> <td>    2.590</td>\n",
       "</tr>\n",
       "<tr>\n",
       "  <th>Specialization_Business</th>                              <td>   -0.0908</td> <td>    0.290</td> <td>   -0.313</td> <td> 0.754</td> <td>   -0.659</td> <td>    0.477</td>\n",
       "</tr>\n",
       "<tr>\n",
       "  <th>Specialization_Business Administration</th>               <td>   -0.3442</td> <td>    0.256</td> <td>   -1.346</td> <td> 0.178</td> <td>   -0.845</td> <td>    0.157</td>\n",
       "</tr>\n",
       "<tr>\n",
       "  <th>Specialization_E-COMMERCE</th>                            <td>    0.3479</td> <td>    0.383</td> <td>    0.908</td> <td> 0.364</td> <td>   -0.403</td> <td>    1.099</td>\n",
       "</tr>\n",
       "<tr>\n",
       "  <th>Specialization_Management</th>                            <td>   -0.0098</td> <td>    0.199</td> <td>   -0.049</td> <td> 0.961</td> <td>   -0.399</td> <td>    0.380</td>\n",
       "</tr>\n",
       "<tr>\n",
       "  <th>Specialization_Media and Advertising</th>                 <td>   -0.1739</td> <td>    0.311</td> <td>   -0.560</td> <td> 0.576</td> <td>   -0.783</td> <td>    0.435</td>\n",
       "</tr>\n",
       "<tr>\n",
       "  <th>Specialization_Rural and Agribusiness</th>                <td>    0.1767</td> <td>    0.430</td> <td>    0.411</td> <td> 0.681</td> <td>   -0.665</td> <td>    1.019</td>\n",
       "</tr>\n",
       "<tr>\n",
       "  <th>Specialization_Services Excellence</th>                   <td>   -0.2455</td> <td>    0.636</td> <td>   -0.386</td> <td> 0.699</td> <td>   -1.491</td> <td>    1.000</td>\n",
       "</tr>\n",
       "<tr>\n",
       "  <th>Specialization_Travel and Tourism</th>                    <td>   -0.1910</td> <td>    0.321</td> <td>   -0.595</td> <td> 0.552</td> <td>   -0.820</td> <td>    0.438</td>\n",
       "</tr>\n",
       "<tr>\n",
       "  <th>Specialization_Unspecified</th>                           <td>   -0.3625</td> <td>    0.235</td> <td>   -1.546</td> <td> 0.122</td> <td>   -0.822</td> <td>    0.097</td>\n",
       "</tr>\n",
       "<tr>\n",
       "  <th>Last Activity_Email Bounced</th>                          <td>   -1.2760</td> <td>    0.428</td> <td>   -2.983</td> <td> 0.003</td> <td>   -2.115</td> <td>   -0.438</td>\n",
       "</tr>\n",
       "<tr>\n",
       "  <th>Last Activity_Email Link Clicked</th>                     <td>    0.3688</td> <td>    0.470</td> <td>    0.785</td> <td> 0.433</td> <td>   -0.552</td> <td>    1.290</td>\n",
       "</tr>\n",
       "<tr>\n",
       "  <th>Last Activity_Email Opened</th>                           <td>    0.7896</td> <td>    0.256</td> <td>    3.089</td> <td> 0.002</td> <td>    0.289</td> <td>    1.291</td>\n",
       "</tr>\n",
       "<tr>\n",
       "  <th>Last Activity_Form Submitted on Website</th>              <td>    0.5011</td> <td>    0.393</td> <td>    1.275</td> <td> 0.202</td> <td>   -0.269</td> <td>    1.271</td>\n",
       "</tr>\n",
       "<tr>\n",
       "  <th>Last Activity_Olark Chat Conversation</th>                <td>   -0.4169</td> <td>    0.287</td> <td>   -1.450</td> <td> 0.147</td> <td>   -0.980</td> <td>    0.147</td>\n",
       "</tr>\n",
       "<tr>\n",
       "  <th>Last Activity_Page Visited on Website</th>                <td>    0.2883</td> <td>    0.313</td> <td>    0.923</td> <td> 0.356</td> <td>   -0.324</td> <td>    0.901</td>\n",
       "</tr>\n",
       "<tr>\n",
       "  <th>Last Activity_SMS Sent</th>                               <td>    1.2255</td> <td>    0.259</td> <td>    4.737</td> <td> 0.000</td> <td>    0.719</td> <td>    1.733</td>\n",
       "</tr>\n",
       "<tr>\n",
       "  <th>Last Activity_others</th>                                 <td>    0.8402</td> <td>    0.379</td> <td>    2.220</td> <td> 0.026</td> <td>    0.098</td> <td>    1.582</td>\n",
       "</tr>\n",
       "<tr>\n",
       "  <th>What is your current occupation_Housewife</th>            <td>   23.3151</td> <td> 2.21e+04</td> <td>    0.001</td> <td> 0.999</td> <td>-4.33e+04</td> <td> 4.33e+04</td>\n",
       "</tr>\n",
       "<tr>\n",
       "  <th>What is your current occupation_Other</th>                <td>    0.1974</td> <td>    1.404</td> <td>    0.141</td> <td> 0.888</td> <td>   -2.554</td> <td>    2.949</td>\n",
       "</tr>\n",
       "<tr>\n",
       "  <th>What is your current occupation_Student</th>              <td>   -0.1095</td> <td>    1.201</td> <td>   -0.091</td> <td> 0.927</td> <td>   -2.463</td> <td>    2.244</td>\n",
       "</tr>\n",
       "<tr>\n",
       "  <th>What is your current occupation_Unemployed</th>           <td>   -0.8287</td> <td>    1.167</td> <td>   -0.710</td> <td> 0.477</td> <td>   -3.115</td> <td>    1.458</td>\n",
       "</tr>\n",
       "<tr>\n",
       "  <th>What is your current occupation_Working Professional</th> <td>    1.5896</td> <td>    1.180</td> <td>    1.347</td> <td> 0.178</td> <td>   -0.724</td> <td>    3.903</td>\n",
       "</tr>\n",
       "<tr>\n",
       "  <th>Lead Profile_Lateral Student</th>                         <td>  -20.5763</td> <td> 2.14e+04</td> <td>   -0.001</td> <td> 0.999</td> <td> -4.2e+04</td> <td> 4.19e+04</td>\n",
       "</tr>\n",
       "<tr>\n",
       "  <th>Lead Profile_Other Leads</th>                             <td>  -22.7178</td> <td> 2.14e+04</td> <td>   -0.001</td> <td> 0.999</td> <td> -4.2e+04</td> <td> 4.19e+04</td>\n",
       "</tr>\n",
       "<tr>\n",
       "  <th>Lead Profile_Potential Lead</th>                          <td>  -21.3825</td> <td> 2.14e+04</td> <td>   -0.001</td> <td> 0.999</td> <td> -4.2e+04</td> <td> 4.19e+04</td>\n",
       "</tr>\n",
       "<tr>\n",
       "  <th>Lead Profile_Student of SomeSchool</th>                   <td>  -25.2824</td> <td> 2.14e+04</td> <td>   -0.001</td> <td> 0.999</td> <td> -4.2e+04</td> <td> 4.19e+04</td>\n",
       "</tr>\n",
       "<tr>\n",
       "  <th>Lead Profile_unspecified</th>                             <td>  -23.2574</td> <td> 2.14e+04</td> <td>   -0.001</td> <td> 0.999</td> <td> -4.2e+04</td> <td> 4.19e+04</td>\n",
       "</tr>\n",
       "<tr>\n",
       "  <th>Last Notable Activity_Email Opened</th>                   <td>    0.0381</td> <td>    0.516</td> <td>    0.074</td> <td> 0.941</td> <td>   -0.974</td> <td>    1.050</td>\n",
       "</tr>\n",
       "<tr>\n",
       "  <th>Last Notable Activity_Modified</th>                       <td>   -0.3381</td> <td>    0.495</td> <td>   -0.683</td> <td> 0.495</td> <td>   -1.308</td> <td>    0.632</td>\n",
       "</tr>\n",
       "<tr>\n",
       "  <th>Last Notable Activity_Olark Chat Conversation</th>        <td>   -0.2412</td> <td>    0.618</td> <td>   -0.390</td> <td> 0.696</td> <td>   -1.453</td> <td>    0.971</td>\n",
       "</tr>\n",
       "<tr>\n",
       "  <th>Last Notable Activity_Page Visited on Website</th>        <td>   -0.0197</td> <td>    0.581</td> <td>   -0.034</td> <td> 0.973</td> <td>   -1.158</td> <td>    1.119</td>\n",
       "</tr>\n",
       "<tr>\n",
       "  <th>Last Notable Activity_SMS Sent</th>                       <td>    1.1308</td> <td>    0.518</td> <td>    2.181</td> <td> 0.029</td> <td>    0.115</td> <td>    2.147</td>\n",
       "</tr>\n",
       "<tr>\n",
       "  <th>Last Notable Activity_others</th>                         <td>    0.8033</td> <td>    0.632</td> <td>    1.270</td> <td> 0.204</td> <td>   -0.436</td> <td>    2.043</td>\n",
       "</tr>\n",
       "</table>"
      ],
      "text/plain": [
       "<class 'statsmodels.iolib.summary.Summary'>\n",
       "\"\"\"\n",
       "                 Generalized Linear Model Regression Results                  \n",
       "==============================================================================\n",
       "Dep. Variable:              Converted   No. Observations:                 6363\n",
       "Model:                            GLM   Df Residuals:                     6313\n",
       "Model Family:                Binomial   Df Model:                           49\n",
       "Link Function:                  Logit   Scale:                          1.0000\n",
       "Method:                          IRLS   Log-Likelihood:                -2382.2\n",
       "Date:                Sat, 21 Jan 2023   Deviance:                       4764.4\n",
       "Time:                        18:15:33   Pearson chi2:                 7.45e+03\n",
       "No. Iterations:                    22   Pseudo R-squ. (CS):             0.4406\n",
       "Covariance Type:            nonrobust                                         \n",
       "========================================================================================================================\n",
       "                                                           coef    std err          z      P>|z|      [0.025      0.975]\n",
       "------------------------------------------------------------------------------------------------------------------------\n",
       "const                                                   21.7798   2.14e+04      0.001      0.999   -4.19e+04     4.2e+04\n",
       "TotalVisits                                              0.2441      0.053      4.592      0.000       0.140       0.348\n",
       "Total Time Spent on Website                              1.0776      0.042     25.488      0.000       0.995       1.160\n",
       "Page Views Per Visit                                    -0.2026      0.060     -3.370      0.001      -0.320      -0.085\n",
       "A free copy of Mastering The Interview                   0.0745      0.116      0.644      0.520      -0.152       0.301\n",
       "Lead Origin_Landing Page Submission                     -0.4006      0.151     -2.656      0.008      -0.696      -0.105\n",
       "Lead Origin_Lead Add Form                                3.4712      0.710      4.892      0.000       2.080       4.862\n",
       "Lead Origin_Lead Import                                 -0.1077      1.485     -0.073      0.942      -3.019       2.803\n",
       "Lead Origin_Quick Add Form                              23.2735   7.95e+04      0.000      1.000   -1.56e+05    1.56e+05\n",
       "Lead Source_Google                                       0.3502      0.121      2.885      0.004       0.112       0.588\n",
       "Lead Source_Olark Chat                                   1.3276      0.174      7.636      0.000       0.987       1.668\n",
       "Lead Source_Organic Search                               0.0288      0.140      0.206      0.837      -0.245       0.303\n",
       "Lead Source_Reference                                   -0.4190      0.740     -0.566      0.571      -1.870       1.032\n",
       "Lead Source_Referral Sites                               0.3928      0.351      1.119      0.263      -0.295       1.081\n",
       "Lead Source_Social Media                                 0.1969      1.389      0.142      0.887      -2.526       2.919\n",
       "Lead Source_Welingak Website                             3.2504      1.234      2.635      0.008       0.833       5.668\n",
       "Lead Source_others                                       0.9128      0.856      1.067      0.286      -0.765       2.590\n",
       "Specialization_Business                                 -0.0908      0.290     -0.313      0.754      -0.659       0.477\n",
       "Specialization_Business Administration                  -0.3442      0.256     -1.346      0.178      -0.845       0.157\n",
       "Specialization_E-COMMERCE                                0.3479      0.383      0.908      0.364      -0.403       1.099\n",
       "Specialization_Management                               -0.0098      0.199     -0.049      0.961      -0.399       0.380\n",
       "Specialization_Media and Advertising                    -0.1739      0.311     -0.560      0.576      -0.783       0.435\n",
       "Specialization_Rural and Agribusiness                    0.1767      0.430      0.411      0.681      -0.665       1.019\n",
       "Specialization_Services Excellence                      -0.2455      0.636     -0.386      0.699      -1.491       1.000\n",
       "Specialization_Travel and Tourism                       -0.1910      0.321     -0.595      0.552      -0.820       0.438\n",
       "Specialization_Unspecified                              -0.3625      0.235     -1.546      0.122      -0.822       0.097\n",
       "Last Activity_Email Bounced                             -1.2760      0.428     -2.983      0.003      -2.115      -0.438\n",
       "Last Activity_Email Link Clicked                         0.3688      0.470      0.785      0.433      -0.552       1.290\n",
       "Last Activity_Email Opened                               0.7896      0.256      3.089      0.002       0.289       1.291\n",
       "Last Activity_Form Submitted on Website                  0.5011      0.393      1.275      0.202      -0.269       1.271\n",
       "Last Activity_Olark Chat Conversation                   -0.4169      0.287     -1.450      0.147      -0.980       0.147\n",
       "Last Activity_Page Visited on Website                    0.2883      0.313      0.923      0.356      -0.324       0.901\n",
       "Last Activity_SMS Sent                                   1.2255      0.259      4.737      0.000       0.719       1.733\n",
       "Last Activity_others                                     0.8402      0.379      2.220      0.026       0.098       1.582\n",
       "What is your current occupation_Housewife               23.3151   2.21e+04      0.001      0.999   -4.33e+04    4.33e+04\n",
       "What is your current occupation_Other                    0.1974      1.404      0.141      0.888      -2.554       2.949\n",
       "What is your current occupation_Student                 -0.1095      1.201     -0.091      0.927      -2.463       2.244\n",
       "What is your current occupation_Unemployed              -0.8287      1.167     -0.710      0.477      -3.115       1.458\n",
       "What is your current occupation_Working Professional     1.5896      1.180      1.347      0.178      -0.724       3.903\n",
       "Lead Profile_Lateral Student                           -20.5763   2.14e+04     -0.001      0.999    -4.2e+04    4.19e+04\n",
       "Lead Profile_Other Leads                               -22.7178   2.14e+04     -0.001      0.999    -4.2e+04    4.19e+04\n",
       "Lead Profile_Potential Lead                            -21.3825   2.14e+04     -0.001      0.999    -4.2e+04    4.19e+04\n",
       "Lead Profile_Student of SomeSchool                     -25.2824   2.14e+04     -0.001      0.999    -4.2e+04    4.19e+04\n",
       "Lead Profile_unspecified                               -23.2574   2.14e+04     -0.001      0.999    -4.2e+04    4.19e+04\n",
       "Last Notable Activity_Email Opened                       0.0381      0.516      0.074      0.941      -0.974       1.050\n",
       "Last Notable Activity_Modified                          -0.3381      0.495     -0.683      0.495      -1.308       0.632\n",
       "Last Notable Activity_Olark Chat Conversation           -0.2412      0.618     -0.390      0.696      -1.453       0.971\n",
       "Last Notable Activity_Page Visited on Website           -0.0197      0.581     -0.034      0.973      -1.158       1.119\n",
       "Last Notable Activity_SMS Sent                           1.1308      0.518      2.181      0.029       0.115       2.147\n",
       "Last Notable Activity_others                             0.8033      0.632      1.270      0.204      -0.436       2.043\n",
       "========================================================================================================================\n",
       "\"\"\""
      ]
     },
     "execution_count": 93,
     "metadata": {},
     "output_type": "execute_result"
    }
   ],
   "source": [
    "# Logistic regression model\n",
    "logm1 = sm.GLM(y_train,(sm.add_constant(X_train)), family = sm.families.Binomial())   # Using the stats model adding the constant and using the family group as Binomial  which is already imported above.\n",
    "logm1.fit().summary()"
   ]
  },
  {
   "cell_type": "code",
   "execution_count": 94,
   "id": "1b6e17b3",
   "metadata": {},
   "outputs": [],
   "source": [
    "### Already Imported the logistic Regression so we are calling the Logistic Regression for model building .\n",
    "logreg = LogisticRegression()  "
   ]
  },
  {
   "cell_type": "code",
   "execution_count": 95,
   "id": "2c896671",
   "metadata": {},
   "outputs": [],
   "source": [
    "rfe = RFE(logreg, n_features_to_select=18)             # running RFE with 18 variables as output\n",
    "rfe = rfe.fit(X_train, y_train)"
   ]
  },
  {
   "cell_type": "code",
   "execution_count": 96,
   "id": "db9957bf",
   "metadata": {},
   "outputs": [
    {
     "data": {
      "text/plain": [
       "array([False,  True, False, False, False,  True, False, False, False,\n",
       "        True, False, False, False, False,  True, False, False, False,\n",
       "       False, False, False, False, False, False, False,  True, False,\n",
       "        True, False,  True, False,  True, False,  True, False,  True,\n",
       "        True,  True,  True, False,  True,  True,  True, False, False,\n",
       "       False, False,  True,  True])"
      ]
     },
     "execution_count": 96,
     "metadata": {},
     "output_type": "execute_result"
    }
   ],
   "source": [
    "rfe.support_  "
   ]
  },
  {
   "cell_type": "code",
   "execution_count": 97,
   "id": "9051c7ba",
   "metadata": {},
   "outputs": [
    {
     "data": {
      "text/plain": [
       "[('TotalVisits', False, 15),\n",
       " ('Total Time Spent on Website', True, 1),\n",
       " ('Page Views Per Visit', False, 16),\n",
       " ('A free copy of Mastering The Interview', False, 24),\n",
       " ('Lead Origin_Landing Page Submission', False, 6),\n",
       " ('Lead Origin_Lead Add Form', True, 1),\n",
       " ('Lead Origin_Lead Import', False, 30),\n",
       " ('Lead Origin_Quick Add Form', False, 12),\n",
       " ('Lead Source_Google', False, 9),\n",
       " ('Lead Source_Olark Chat', True, 1),\n",
       " ('Lead Source_Organic Search', False, 32),\n",
       " ('Lead Source_Reference', False, 25),\n",
       " ('Lead Source_Referral Sites', False, 10),\n",
       " ('Lead Source_Social Media', False, 29),\n",
       " ('Lead Source_Welingak Website', True, 1),\n",
       " ('Lead Source_others', False, 3),\n",
       " ('Specialization_Business', False, 28),\n",
       " ('Specialization_Business Administration', False, 13),\n",
       " ('Specialization_E-COMMERCE', False, 8),\n",
       " ('Specialization_Management', False, 31),\n",
       " ('Specialization_Media and Advertising', False, 22),\n",
       " ('Specialization_Rural and Agribusiness', False, 17),\n",
       " ('Specialization_Services Excellence', False, 20),\n",
       " ('Specialization_Travel and Tourism', False, 21),\n",
       " ('Specialization_Unspecified', False, 7),\n",
       " ('Last Activity_Email Bounced', True, 1),\n",
       " ('Last Activity_Email Link Clicked', False, 18),\n",
       " ('Last Activity_Email Opened', True, 1),\n",
       " ('Last Activity_Form Submitted on Website', False, 14),\n",
       " ('Last Activity_Olark Chat Conversation', True, 1),\n",
       " ('Last Activity_Page Visited on Website', False, 19),\n",
       " ('Last Activity_SMS Sent', True, 1),\n",
       " ('Last Activity_others', False, 4),\n",
       " ('What is your current occupation_Housewife', True, 1),\n",
       " ('What is your current occupation_Other', False, 23),\n",
       " ('What is your current occupation_Student', True, 1),\n",
       " ('What is your current occupation_Unemployed', True, 1),\n",
       " ('What is your current occupation_Working Professional', True, 1),\n",
       " ('Lead Profile_Lateral Student', True, 1),\n",
       " ('Lead Profile_Other Leads', False, 2),\n",
       " ('Lead Profile_Potential Lead', True, 1),\n",
       " ('Lead Profile_Student of SomeSchool', True, 1),\n",
       " ('Lead Profile_unspecified', True, 1),\n",
       " ('Last Notable Activity_Email Opened', False, 27),\n",
       " ('Last Notable Activity_Modified', False, 5),\n",
       " ('Last Notable Activity_Olark Chat Conversation', False, 11),\n",
       " ('Last Notable Activity_Page Visited on Website', False, 26),\n",
       " ('Last Notable Activity_SMS Sent', True, 1),\n",
       " ('Last Notable Activity_others', True, 1)]"
      ]
     },
     "execution_count": 97,
     "metadata": {},
     "output_type": "execute_result"
    }
   ],
   "source": [
    "list(zip(X_train.columns, rfe.support_, rfe.ranking_))  "
   ]
  },
  {
   "cell_type": "code",
   "execution_count": 98,
   "id": "37a0ea23",
   "metadata": {},
   "outputs": [
    {
     "data": {
      "text/plain": [
       "Index(['Total Time Spent on Website', 'Lead Origin_Lead Add Form',\n",
       "       'Lead Source_Olark Chat', 'Lead Source_Welingak Website',\n",
       "       'Last Activity_Email Bounced', 'Last Activity_Email Opened',\n",
       "       'Last Activity_Olark Chat Conversation', 'Last Activity_SMS Sent',\n",
       "       'What is your current occupation_Housewife',\n",
       "       'What is your current occupation_Student',\n",
       "       'What is your current occupation_Unemployed',\n",
       "       'What is your current occupation_Working Professional',\n",
       "       'Lead Profile_Lateral Student', 'Lead Profile_Potential Lead',\n",
       "       'Lead Profile_Student of SomeSchool', 'Lead Profile_unspecified',\n",
       "       'Last Notable Activity_SMS Sent', 'Last Notable Activity_others'],\n",
       "      dtype='object')"
      ]
     },
     "execution_count": 98,
     "metadata": {},
     "output_type": "execute_result"
    }
   ],
   "source": [
    "col = X_train.columns[rfe.support_]                           \n",
    "col"
   ]
  },
  {
   "cell_type": "code",
   "execution_count": 99,
   "id": "4a588f44",
   "metadata": {},
   "outputs": [
    {
     "data": {
      "text/plain": [
       "Index(['TotalVisits', 'Page Views Per Visit',\n",
       "       'A free copy of Mastering The Interview',\n",
       "       'Lead Origin_Landing Page Submission', 'Lead Origin_Lead Import',\n",
       "       'Lead Origin_Quick Add Form', 'Lead Source_Google',\n",
       "       'Lead Source_Organic Search', 'Lead Source_Reference',\n",
       "       'Lead Source_Referral Sites', 'Lead Source_Social Media',\n",
       "       'Lead Source_others', 'Specialization_Business',\n",
       "       'Specialization_Business Administration', 'Specialization_E-COMMERCE',\n",
       "       'Specialization_Management', 'Specialization_Media and Advertising',\n",
       "       'Specialization_Rural and Agribusiness',\n",
       "       'Specialization_Services Excellence',\n",
       "       'Specialization_Travel and Tourism', 'Specialization_Unspecified',\n",
       "       'Last Activity_Email Link Clicked',\n",
       "       'Last Activity_Form Submitted on Website',\n",
       "       'Last Activity_Page Visited on Website', 'Last Activity_others',\n",
       "       'What is your current occupation_Other', 'Lead Profile_Other Leads',\n",
       "       'Last Notable Activity_Email Opened', 'Last Notable Activity_Modified',\n",
       "       'Last Notable Activity_Olark Chat Conversation',\n",
       "       'Last Notable Activity_Page Visited on Website'],\n",
       "      dtype='object')"
      ]
     },
     "execution_count": 99,
     "metadata": {},
     "output_type": "execute_result"
    }
   ],
   "source": [
    "X_train.columns[~rfe.support_]"
   ]
  },
  {
   "cell_type": "markdown",
   "id": "607efbf2",
   "metadata": {},
   "source": [
    "### Model 2"
   ]
  },
  {
   "cell_type": "code",
   "execution_count": 100,
   "id": "ce902c34",
   "metadata": {},
   "outputs": [
    {
     "data": {
      "text/html": [
       "<table class=\"simpletable\">\n",
       "<caption>Generalized Linear Model Regression Results</caption>\n",
       "<tr>\n",
       "  <th>Dep. Variable:</th>       <td>Converted</td>    <th>  No. Observations:  </th>  <td>  6363</td> \n",
       "</tr>\n",
       "<tr>\n",
       "  <th>Model:</th>                  <td>GLM</td>       <th>  Df Residuals:      </th>  <td>  6344</td> \n",
       "</tr>\n",
       "<tr>\n",
       "  <th>Model Family:</th>        <td>Binomial</td>     <th>  Df Model:          </th>  <td>    18</td> \n",
       "</tr>\n",
       "<tr>\n",
       "  <th>Link Function:</th>         <td>Logit</td>      <th>  Scale:             </th> <td>  1.0000</td>\n",
       "</tr>\n",
       "<tr>\n",
       "  <th>Method:</th>                <td>IRLS</td>       <th>  Log-Likelihood:    </th> <td> -2431.9</td>\n",
       "</tr>\n",
       "<tr>\n",
       "  <th>Date:</th>            <td>Sat, 21 Jan 2023</td> <th>  Deviance:          </th> <td>  4863.9</td>\n",
       "</tr>\n",
       "<tr>\n",
       "  <th>Time:</th>                <td>18:15:38</td>     <th>  Pearson chi2:      </th> <td>7.67e+03</td>\n",
       "</tr>\n",
       "<tr>\n",
       "  <th>No. Iterations:</th>         <td>21</td>        <th>  Pseudo R-squ. (CS):</th>  <td>0.4318</td> \n",
       "</tr>\n",
       "<tr>\n",
       "  <th>Covariance Type:</th>     <td>nonrobust</td>    <th>                     </th>     <td> </td>   \n",
       "</tr>\n",
       "</table>\n",
       "<table class=\"simpletable\">\n",
       "<tr>\n",
       "                            <td></td>                              <th>coef</th>     <th>std err</th>      <th>z</th>      <th>P>|z|</th>  <th>[0.025</th>    <th>0.975]</th>  \n",
       "</tr>\n",
       "<tr>\n",
       "  <th>const</th>                                                <td>   -0.7709</td> <td>    0.652</td> <td>   -1.182</td> <td> 0.237</td> <td>   -2.049</td> <td>    0.507</td>\n",
       "</tr>\n",
       "<tr>\n",
       "  <th>Total Time Spent on Website</th>                          <td>    1.0971</td> <td>    0.042</td> <td>   26.429</td> <td> 0.000</td> <td>    1.016</td> <td>    1.178</td>\n",
       "</tr>\n",
       "<tr>\n",
       "  <th>Lead Origin_Lead Add Form</th>                            <td>    3.1474</td> <td>    0.205</td> <td>   15.378</td> <td> 0.000</td> <td>    2.746</td> <td>    3.549</td>\n",
       "</tr>\n",
       "<tr>\n",
       "  <th>Lead Source_Olark Chat</th>                               <td>    1.2905</td> <td>    0.109</td> <td>   11.820</td> <td> 0.000</td> <td>    1.077</td> <td>    1.505</td>\n",
       "</tr>\n",
       "<tr>\n",
       "  <th>Lead Source_Welingak Website</th>                         <td>    3.4968</td> <td>    1.028</td> <td>    3.401</td> <td> 0.001</td> <td>    1.482</td> <td>    5.512</td>\n",
       "</tr>\n",
       "<tr>\n",
       "  <th>Last Activity_Email Bounced</th>                          <td>   -1.9430</td> <td>    0.358</td> <td>   -5.426</td> <td> 0.000</td> <td>   -2.645</td> <td>   -1.241</td>\n",
       "</tr>\n",
       "<tr>\n",
       "  <th>Last Activity_Email Opened</th>                           <td>    0.6344</td> <td>    0.111</td> <td>    5.692</td> <td> 0.000</td> <td>    0.416</td> <td>    0.853</td>\n",
       "</tr>\n",
       "<tr>\n",
       "  <th>Last Activity_Olark Chat Conversation</th>                <td>   -0.7976</td> <td>    0.189</td> <td>   -4.221</td> <td> 0.000</td> <td>   -1.168</td> <td>   -0.427</td>\n",
       "</tr>\n",
       "<tr>\n",
       "  <th>Last Activity_SMS Sent</th>                               <td>    0.7276</td> <td>    0.168</td> <td>    4.325</td> <td> 0.000</td> <td>    0.398</td> <td>    1.057</td>\n",
       "</tr>\n",
       "<tr>\n",
       "  <th>What is your current occupation_Housewife</th>            <td>   22.0691</td> <td> 1.35e+04</td> <td>    0.002</td> <td> 0.999</td> <td>-2.64e+04</td> <td> 2.64e+04</td>\n",
       "</tr>\n",
       "<tr>\n",
       "  <th>What is your current occupation_Student</th>              <td>   -0.3496</td> <td>    0.706</td> <td>   -0.495</td> <td> 0.620</td> <td>   -1.732</td> <td>    1.033</td>\n",
       "</tr>\n",
       "<tr>\n",
       "  <th>What is your current occupation_Unemployed</th>           <td>   -1.0146</td> <td>    0.650</td> <td>   -1.560</td> <td> 0.119</td> <td>   -2.290</td> <td>    0.260</td>\n",
       "</tr>\n",
       "<tr>\n",
       "  <th>What is your current occupation_Working Professional</th> <td>    1.3927</td> <td>    0.674</td> <td>    2.065</td> <td> 0.039</td> <td>    0.071</td> <td>    2.715</td>\n",
       "</tr>\n",
       "<tr>\n",
       "  <th>Lead Profile_Lateral Student</th>                         <td>    2.3601</td> <td>    1.120</td> <td>    2.107</td> <td> 0.035</td> <td>    0.164</td> <td>    4.556</td>\n",
       "</tr>\n",
       "<tr>\n",
       "  <th>Lead Profile_Potential Lead</th>                          <td>    1.3325</td> <td>    0.173</td> <td>    7.683</td> <td> 0.000</td> <td>    0.993</td> <td>    1.672</td>\n",
       "</tr>\n",
       "<tr>\n",
       "  <th>Lead Profile_Student of SomeSchool</th>                   <td>   -2.6272</td> <td>    0.476</td> <td>   -5.518</td> <td> 0.000</td> <td>   -3.560</td> <td>   -1.694</td>\n",
       "</tr>\n",
       "<tr>\n",
       "  <th>Lead Profile_unspecified</th>                             <td>   -0.5783</td> <td>    0.156</td> <td>   -3.712</td> <td> 0.000</td> <td>   -0.884</td> <td>   -0.273</td>\n",
       "</tr>\n",
       "<tr>\n",
       "  <th>Last Notable Activity_SMS Sent</th>                       <td>    1.4370</td> <td>    0.153</td> <td>    9.367</td> <td> 0.000</td> <td>    1.136</td> <td>    1.738</td>\n",
       "</tr>\n",
       "<tr>\n",
       "  <th>Last Notable Activity_others</th>                         <td>    1.4703</td> <td>    0.301</td> <td>    4.886</td> <td> 0.000</td> <td>    0.881</td> <td>    2.060</td>\n",
       "</tr>\n",
       "</table>"
      ],
      "text/plain": [
       "<class 'statsmodels.iolib.summary.Summary'>\n",
       "\"\"\"\n",
       "                 Generalized Linear Model Regression Results                  \n",
       "==============================================================================\n",
       "Dep. Variable:              Converted   No. Observations:                 6363\n",
       "Model:                            GLM   Df Residuals:                     6344\n",
       "Model Family:                Binomial   Df Model:                           18\n",
       "Link Function:                  Logit   Scale:                          1.0000\n",
       "Method:                          IRLS   Log-Likelihood:                -2431.9\n",
       "Date:                Sat, 21 Jan 2023   Deviance:                       4863.9\n",
       "Time:                        18:15:38   Pearson chi2:                 7.67e+03\n",
       "No. Iterations:                    21   Pseudo R-squ. (CS):             0.4318\n",
       "Covariance Type:            nonrobust                                         \n",
       "========================================================================================================================\n",
       "                                                           coef    std err          z      P>|z|      [0.025      0.975]\n",
       "------------------------------------------------------------------------------------------------------------------------\n",
       "const                                                   -0.7709      0.652     -1.182      0.237      -2.049       0.507\n",
       "Total Time Spent on Website                              1.0971      0.042     26.429      0.000       1.016       1.178\n",
       "Lead Origin_Lead Add Form                                3.1474      0.205     15.378      0.000       2.746       3.549\n",
       "Lead Source_Olark Chat                                   1.2905      0.109     11.820      0.000       1.077       1.505\n",
       "Lead Source_Welingak Website                             3.4968      1.028      3.401      0.001       1.482       5.512\n",
       "Last Activity_Email Bounced                             -1.9430      0.358     -5.426      0.000      -2.645      -1.241\n",
       "Last Activity_Email Opened                               0.6344      0.111      5.692      0.000       0.416       0.853\n",
       "Last Activity_Olark Chat Conversation                   -0.7976      0.189     -4.221      0.000      -1.168      -0.427\n",
       "Last Activity_SMS Sent                                   0.7276      0.168      4.325      0.000       0.398       1.057\n",
       "What is your current occupation_Housewife               22.0691   1.35e+04      0.002      0.999   -2.64e+04    2.64e+04\n",
       "What is your current occupation_Student                 -0.3496      0.706     -0.495      0.620      -1.732       1.033\n",
       "What is your current occupation_Unemployed              -1.0146      0.650     -1.560      0.119      -2.290       0.260\n",
       "What is your current occupation_Working Professional     1.3927      0.674      2.065      0.039       0.071       2.715\n",
       "Lead Profile_Lateral Student                             2.3601      1.120      2.107      0.035       0.164       4.556\n",
       "Lead Profile_Potential Lead                              1.3325      0.173      7.683      0.000       0.993       1.672\n",
       "Lead Profile_Student of SomeSchool                      -2.6272      0.476     -5.518      0.000      -3.560      -1.694\n",
       "Lead Profile_unspecified                                -0.5783      0.156     -3.712      0.000      -0.884      -0.273\n",
       "Last Notable Activity_SMS Sent                           1.4370      0.153      9.367      0.000       1.136       1.738\n",
       "Last Notable Activity_others                             1.4703      0.301      4.886      0.000       0.881       2.060\n",
       "========================================================================================================================\n",
       "\"\"\""
      ]
     },
     "execution_count": 100,
     "metadata": {},
     "output_type": "execute_result"
    }
   ],
   "source": [
    "X_train_sm = sm.add_constant(X_train[col])\n",
    "logm2 = sm.GLM(y_train,X_train_sm, family = sm.families.Binomial())\n",
    "res = logm2.fit()\n",
    "res.summary()"
   ]
  },
  {
   "cell_type": "code",
   "execution_count": 101,
   "id": "9a49a2fc",
   "metadata": {},
   "outputs": [
    {
     "data": {
      "text/html": [
       "<div>\n",
       "<style scoped>\n",
       "    .dataframe tbody tr th:only-of-type {\n",
       "        vertical-align: middle;\n",
       "    }\n",
       "\n",
       "    .dataframe tbody tr th {\n",
       "        vertical-align: top;\n",
       "    }\n",
       "\n",
       "    .dataframe thead th {\n",
       "        text-align: right;\n",
       "    }\n",
       "</style>\n",
       "<table border=\"1\" class=\"dataframe\">\n",
       "  <thead>\n",
       "    <tr style=\"text-align: right;\">\n",
       "      <th></th>\n",
       "      <th>Features</th>\n",
       "      <th>VIF</th>\n",
       "    </tr>\n",
       "  </thead>\n",
       "  <tbody>\n",
       "    <tr>\n",
       "      <th>10</th>\n",
       "      <td>What is your current occupation_Unemployed</td>\n",
       "      <td>20.42</td>\n",
       "    </tr>\n",
       "    <tr>\n",
       "      <th>15</th>\n",
       "      <td>Lead Profile_unspecified</td>\n",
       "      <td>15.50</td>\n",
       "    </tr>\n",
       "    <tr>\n",
       "      <th>7</th>\n",
       "      <td>Last Activity_SMS Sent</td>\n",
       "      <td>6.58</td>\n",
       "    </tr>\n",
       "    <tr>\n",
       "      <th>16</th>\n",
       "      <td>Last Notable Activity_SMS Sent</td>\n",
       "      <td>4.81</td>\n",
       "    </tr>\n",
       "    <tr>\n",
       "      <th>13</th>\n",
       "      <td>Lead Profile_Potential Lead</td>\n",
       "      <td>4.41</td>\n",
       "    </tr>\n",
       "    <tr>\n",
       "      <th>5</th>\n",
       "      <td>Last Activity_Email Opened</td>\n",
       "      <td>3.28</td>\n",
       "    </tr>\n",
       "    <tr>\n",
       "      <th>11</th>\n",
       "      <td>What is your current occupation_Working Profes...</td>\n",
       "      <td>2.73</td>\n",
       "    </tr>\n",
       "    <tr>\n",
       "      <th>6</th>\n",
       "      <td>Last Activity_Olark Chat Conversation</td>\n",
       "      <td>1.94</td>\n",
       "    </tr>\n",
       "    <tr>\n",
       "      <th>2</th>\n",
       "      <td>Lead Source_Olark Chat</td>\n",
       "      <td>1.78</td>\n",
       "    </tr>\n",
       "    <tr>\n",
       "      <th>14</th>\n",
       "      <td>Lead Profile_Student of SomeSchool</td>\n",
       "      <td>1.64</td>\n",
       "    </tr>\n",
       "    <tr>\n",
       "      <th>1</th>\n",
       "      <td>Lead Origin_Lead Add Form</td>\n",
       "      <td>1.62</td>\n",
       "    </tr>\n",
       "    <tr>\n",
       "      <th>9</th>\n",
       "      <td>What is your current occupation_Student</td>\n",
       "      <td>1.59</td>\n",
       "    </tr>\n",
       "    <tr>\n",
       "      <th>3</th>\n",
       "      <td>Lead Source_Welingak Website</td>\n",
       "      <td>1.32</td>\n",
       "    </tr>\n",
       "    <tr>\n",
       "      <th>0</th>\n",
       "      <td>Total Time Spent on Website</td>\n",
       "      <td>1.27</td>\n",
       "    </tr>\n",
       "    <tr>\n",
       "      <th>4</th>\n",
       "      <td>Last Activity_Email Bounced</td>\n",
       "      <td>1.22</td>\n",
       "    </tr>\n",
       "    <tr>\n",
       "      <th>17</th>\n",
       "      <td>Last Notable Activity_others</td>\n",
       "      <td>1.11</td>\n",
       "    </tr>\n",
       "    <tr>\n",
       "      <th>12</th>\n",
       "      <td>Lead Profile_Lateral Student</td>\n",
       "      <td>1.06</td>\n",
       "    </tr>\n",
       "    <tr>\n",
       "      <th>8</th>\n",
       "      <td>What is your current occupation_Housewife</td>\n",
       "      <td>1.02</td>\n",
       "    </tr>\n",
       "  </tbody>\n",
       "</table>\n",
       "</div>"
      ],
      "text/plain": [
       "                                             Features    VIF\n",
       "10         What is your current occupation_Unemployed  20.42\n",
       "15                           Lead Profile_unspecified  15.50\n",
       "7                              Last Activity_SMS Sent   6.58\n",
       "16                     Last Notable Activity_SMS Sent   4.81\n",
       "13                        Lead Profile_Potential Lead   4.41\n",
       "5                          Last Activity_Email Opened   3.28\n",
       "11  What is your current occupation_Working Profes...   2.73\n",
       "6               Last Activity_Olark Chat Conversation   1.94\n",
       "2                              Lead Source_Olark Chat   1.78\n",
       "14                 Lead Profile_Student of SomeSchool   1.64\n",
       "1                           Lead Origin_Lead Add Form   1.62\n",
       "9             What is your current occupation_Student   1.59\n",
       "3                        Lead Source_Welingak Website   1.32\n",
       "0                         Total Time Spent on Website   1.27\n",
       "4                         Last Activity_Email Bounced   1.22\n",
       "17                       Last Notable Activity_others   1.11\n",
       "12                       Lead Profile_Lateral Student   1.06\n",
       "8           What is your current occupation_Housewife   1.02"
      ]
     },
     "execution_count": 101,
     "metadata": {},
     "output_type": "execute_result"
    }
   ],
   "source": [
    "#verifying the VIF values for the Feature Variables\n",
    "# Already imported the Variance Inflation Factor \n",
    "# Create a dataframe that will contain the names of all the feature variables and their respective VIFs\n",
    "vif = pd.DataFrame()\n",
    "vif['Features'] = X_train[col].columns\n",
    "vif['VIF'] = [variance_inflation_factor(X_train[col].values, i) for i in range(X_train[col].shape[1])]\n",
    "vif['VIF'] = round(vif['VIF'], 2)\n",
    "vif = vif.sort_values(by = \"VIF\", ascending = False)\n",
    "vif"
   ]
  },
  {
   "cell_type": "code",
   "execution_count": 102,
   "id": "35daa012",
   "metadata": {},
   "outputs": [],
   "source": [
    "col = col.drop(['What is your current occupation_Housewife'])"
   ]
  },
  {
   "cell_type": "markdown",
   "id": "e9fd14af",
   "metadata": {},
   "source": [
    "## MODEL 3"
   ]
  },
  {
   "cell_type": "code",
   "execution_count": 103,
   "id": "575ec9d9",
   "metadata": {},
   "outputs": [
    {
     "data": {
      "text/html": [
       "<table class=\"simpletable\">\n",
       "<caption>Generalized Linear Model Regression Results</caption>\n",
       "<tr>\n",
       "  <th>Dep. Variable:</th>       <td>Converted</td>    <th>  No. Observations:  </th>  <td>  6363</td> \n",
       "</tr>\n",
       "<tr>\n",
       "  <th>Model:</th>                  <td>GLM</td>       <th>  Df Residuals:      </th>  <td>  6345</td> \n",
       "</tr>\n",
       "<tr>\n",
       "  <th>Model Family:</th>        <td>Binomial</td>     <th>  Df Model:          </th>  <td>    17</td> \n",
       "</tr>\n",
       "<tr>\n",
       "  <th>Link Function:</th>         <td>Logit</td>      <th>  Scale:             </th> <td>  1.0000</td>\n",
       "</tr>\n",
       "<tr>\n",
       "  <th>Method:</th>                <td>IRLS</td>       <th>  Log-Likelihood:    </th> <td> -2434.9</td>\n",
       "</tr>\n",
       "<tr>\n",
       "  <th>Date:</th>            <td>Sat, 21 Jan 2023</td> <th>  Deviance:          </th> <td>  4869.8</td>\n",
       "</tr>\n",
       "<tr>\n",
       "  <th>Time:</th>                <td>18:15:38</td>     <th>  Pearson chi2:      </th> <td>7.68e+03</td>\n",
       "</tr>\n",
       "<tr>\n",
       "  <th>No. Iterations:</th>          <td>7</td>        <th>  Pseudo R-squ. (CS):</th>  <td>0.4313</td> \n",
       "</tr>\n",
       "<tr>\n",
       "  <th>Covariance Type:</th>     <td>nonrobust</td>    <th>                     </th>     <td> </td>   \n",
       "</tr>\n",
       "</table>\n",
       "<table class=\"simpletable\">\n",
       "<tr>\n",
       "                            <td></td>                              <th>coef</th>     <th>std err</th>      <th>z</th>      <th>P>|z|</th>  <th>[0.025</th>    <th>0.975]</th>  \n",
       "</tr>\n",
       "<tr>\n",
       "  <th>const</th>                                                <td>   -0.0617</td> <td>    0.572</td> <td>   -0.108</td> <td> 0.914</td> <td>   -1.183</td> <td>    1.060</td>\n",
       "</tr>\n",
       "<tr>\n",
       "  <th>Total Time Spent on Website</th>                          <td>    1.0956</td> <td>    0.041</td> <td>   26.412</td> <td> 0.000</td> <td>    1.014</td> <td>    1.177</td>\n",
       "</tr>\n",
       "<tr>\n",
       "  <th>Lead Origin_Lead Add Form</th>                            <td>    3.1516</td> <td>    0.204</td> <td>   15.414</td> <td> 0.000</td> <td>    2.751</td> <td>    3.552</td>\n",
       "</tr>\n",
       "<tr>\n",
       "  <th>Lead Source_Olark Chat</th>                               <td>    1.2876</td> <td>    0.109</td> <td>   11.797</td> <td> 0.000</td> <td>    1.074</td> <td>    1.502</td>\n",
       "</tr>\n",
       "<tr>\n",
       "  <th>Lead Source_Welingak Website</th>                         <td>    3.4899</td> <td>    1.028</td> <td>    3.395</td> <td> 0.001</td> <td>    1.475</td> <td>    5.505</td>\n",
       "</tr>\n",
       "<tr>\n",
       "  <th>Last Activity_Email Bounced</th>                          <td>   -1.9407</td> <td>    0.358</td> <td>   -5.420</td> <td> 0.000</td> <td>   -2.642</td> <td>   -1.239</td>\n",
       "</tr>\n",
       "<tr>\n",
       "  <th>Last Activity_Email Opened</th>                           <td>    0.6384</td> <td>    0.111</td> <td>    5.734</td> <td> 0.000</td> <td>    0.420</td> <td>    0.857</td>\n",
       "</tr>\n",
       "<tr>\n",
       "  <th>Last Activity_Olark Chat Conversation</th>                <td>   -0.7985</td> <td>    0.189</td> <td>   -4.224</td> <td> 0.000</td> <td>   -1.169</td> <td>   -0.428</td>\n",
       "</tr>\n",
       "<tr>\n",
       "  <th>Last Activity_SMS Sent</th>                               <td>    0.7291</td> <td>    0.168</td> <td>    4.335</td> <td> 0.000</td> <td>    0.399</td> <td>    1.059</td>\n",
       "</tr>\n",
       "<tr>\n",
       "  <th>What is your current occupation_Student</th>              <td>   -1.0619</td> <td>    0.635</td> <td>   -1.673</td> <td> 0.094</td> <td>   -2.306</td> <td>    0.182</td>\n",
       "</tr>\n",
       "<tr>\n",
       "  <th>What is your current occupation_Unemployed</th>           <td>   -1.7271</td> <td>    0.573</td> <td>   -3.015</td> <td> 0.003</td> <td>   -2.850</td> <td>   -0.604</td>\n",
       "</tr>\n",
       "<tr>\n",
       "  <th>What is your current occupation_Working Professional</th> <td>    0.6801</td> <td>    0.600</td> <td>    1.134</td> <td> 0.257</td> <td>   -0.495</td> <td>    1.855</td>\n",
       "</tr>\n",
       "<tr>\n",
       "  <th>Lead Profile_Lateral Student</th>                         <td>    2.3594</td> <td>    1.120</td> <td>    2.106</td> <td> 0.035</td> <td>    0.164</td> <td>    4.555</td>\n",
       "</tr>\n",
       "<tr>\n",
       "  <th>Lead Profile_Potential Lead</th>                          <td>    1.3327</td> <td>    0.173</td> <td>    7.695</td> <td> 0.000</td> <td>    0.993</td> <td>    1.672</td>\n",
       "</tr>\n",
       "<tr>\n",
       "  <th>Lead Profile_Student of SomeSchool</th>                   <td>   -2.6250</td> <td>    0.476</td> <td>   -5.515</td> <td> 0.000</td> <td>   -3.558</td> <td>   -1.692</td>\n",
       "</tr>\n",
       "<tr>\n",
       "  <th>Lead Profile_unspecified</th>                             <td>   -0.5763</td> <td>    0.156</td> <td>   -3.706</td> <td> 0.000</td> <td>   -0.881</td> <td>   -0.271</td>\n",
       "</tr>\n",
       "<tr>\n",
       "  <th>Last Notable Activity_SMS Sent</th>                       <td>    1.4374</td> <td>    0.153</td> <td>    9.369</td> <td> 0.000</td> <td>    1.137</td> <td>    1.738</td>\n",
       "</tr>\n",
       "<tr>\n",
       "  <th>Last Notable Activity_others</th>                         <td>    1.4721</td> <td>    0.301</td> <td>    4.893</td> <td> 0.000</td> <td>    0.882</td> <td>    2.062</td>\n",
       "</tr>\n",
       "</table>"
      ],
      "text/plain": [
       "<class 'statsmodels.iolib.summary.Summary'>\n",
       "\"\"\"\n",
       "                 Generalized Linear Model Regression Results                  \n",
       "==============================================================================\n",
       "Dep. Variable:              Converted   No. Observations:                 6363\n",
       "Model:                            GLM   Df Residuals:                     6345\n",
       "Model Family:                Binomial   Df Model:                           17\n",
       "Link Function:                  Logit   Scale:                          1.0000\n",
       "Method:                          IRLS   Log-Likelihood:                -2434.9\n",
       "Date:                Sat, 21 Jan 2023   Deviance:                       4869.8\n",
       "Time:                        18:15:38   Pearson chi2:                 7.68e+03\n",
       "No. Iterations:                     7   Pseudo R-squ. (CS):             0.4313\n",
       "Covariance Type:            nonrobust                                         \n",
       "========================================================================================================================\n",
       "                                                           coef    std err          z      P>|z|      [0.025      0.975]\n",
       "------------------------------------------------------------------------------------------------------------------------\n",
       "const                                                   -0.0617      0.572     -0.108      0.914      -1.183       1.060\n",
       "Total Time Spent on Website                              1.0956      0.041     26.412      0.000       1.014       1.177\n",
       "Lead Origin_Lead Add Form                                3.1516      0.204     15.414      0.000       2.751       3.552\n",
       "Lead Source_Olark Chat                                   1.2876      0.109     11.797      0.000       1.074       1.502\n",
       "Lead Source_Welingak Website                             3.4899      1.028      3.395      0.001       1.475       5.505\n",
       "Last Activity_Email Bounced                             -1.9407      0.358     -5.420      0.000      -2.642      -1.239\n",
       "Last Activity_Email Opened                               0.6384      0.111      5.734      0.000       0.420       0.857\n",
       "Last Activity_Olark Chat Conversation                   -0.7985      0.189     -4.224      0.000      -1.169      -0.428\n",
       "Last Activity_SMS Sent                                   0.7291      0.168      4.335      0.000       0.399       1.059\n",
       "What is your current occupation_Student                 -1.0619      0.635     -1.673      0.094      -2.306       0.182\n",
       "What is your current occupation_Unemployed              -1.7271      0.573     -3.015      0.003      -2.850      -0.604\n",
       "What is your current occupation_Working Professional     0.6801      0.600      1.134      0.257      -0.495       1.855\n",
       "Lead Profile_Lateral Student                             2.3594      1.120      2.106      0.035       0.164       4.555\n",
       "Lead Profile_Potential Lead                              1.3327      0.173      7.695      0.000       0.993       1.672\n",
       "Lead Profile_Student of SomeSchool                      -2.6250      0.476     -5.515      0.000      -3.558      -1.692\n",
       "Lead Profile_unspecified                                -0.5763      0.156     -3.706      0.000      -0.881      -0.271\n",
       "Last Notable Activity_SMS Sent                           1.4374      0.153      9.369      0.000       1.137       1.738\n",
       "Last Notable Activity_others                             1.4721      0.301      4.893      0.000       0.882       2.062\n",
       "========================================================================================================================\n",
       "\"\"\""
      ]
     },
     "execution_count": 103,
     "metadata": {},
     "output_type": "execute_result"
    }
   ],
   "source": [
    "X_train_rfe = X_train[col]\n",
    "X_train_sm = sm.add_constant(X_train_rfe)\n",
    "logm3 = sm.GLM(y_train,X_train_sm, family = sm.families.Binomial())\n",
    "logm3_model = logm3.fit()\n",
    "logm3_model.summary()"
   ]
  },
  {
   "cell_type": "code",
   "execution_count": 104,
   "id": "4e9910ac",
   "metadata": {},
   "outputs": [
    {
     "data": {
      "text/html": [
       "<div>\n",
       "<style scoped>\n",
       "    .dataframe tbody tr th:only-of-type {\n",
       "        vertical-align: middle;\n",
       "    }\n",
       "\n",
       "    .dataframe tbody tr th {\n",
       "        vertical-align: top;\n",
       "    }\n",
       "\n",
       "    .dataframe thead th {\n",
       "        text-align: right;\n",
       "    }\n",
       "</style>\n",
       "<table border=\"1\" class=\"dataframe\">\n",
       "  <thead>\n",
       "    <tr style=\"text-align: right;\">\n",
       "      <th></th>\n",
       "      <th>Features</th>\n",
       "      <th>VIF</th>\n",
       "    </tr>\n",
       "  </thead>\n",
       "  <tbody>\n",
       "    <tr>\n",
       "      <th>9</th>\n",
       "      <td>What is your current occupation_Unemployed</td>\n",
       "      <td>20.23</td>\n",
       "    </tr>\n",
       "    <tr>\n",
       "      <th>14</th>\n",
       "      <td>Lead Profile_unspecified</td>\n",
       "      <td>15.42</td>\n",
       "    </tr>\n",
       "    <tr>\n",
       "      <th>7</th>\n",
       "      <td>Last Activity_SMS Sent</td>\n",
       "      <td>6.57</td>\n",
       "    </tr>\n",
       "    <tr>\n",
       "      <th>15</th>\n",
       "      <td>Last Notable Activity_SMS Sent</td>\n",
       "      <td>4.81</td>\n",
       "    </tr>\n",
       "    <tr>\n",
       "      <th>12</th>\n",
       "      <td>Lead Profile_Potential Lead</td>\n",
       "      <td>4.39</td>\n",
       "    </tr>\n",
       "    <tr>\n",
       "      <th>5</th>\n",
       "      <td>Last Activity_Email Opened</td>\n",
       "      <td>3.26</td>\n",
       "    </tr>\n",
       "    <tr>\n",
       "      <th>10</th>\n",
       "      <td>What is your current occupation_Working Profes...</td>\n",
       "      <td>2.71</td>\n",
       "    </tr>\n",
       "    <tr>\n",
       "      <th>6</th>\n",
       "      <td>Last Activity_Olark Chat Conversation</td>\n",
       "      <td>1.93</td>\n",
       "    </tr>\n",
       "    <tr>\n",
       "      <th>2</th>\n",
       "      <td>Lead Source_Olark Chat</td>\n",
       "      <td>1.78</td>\n",
       "    </tr>\n",
       "    <tr>\n",
       "      <th>13</th>\n",
       "      <td>Lead Profile_Student of SomeSchool</td>\n",
       "      <td>1.63</td>\n",
       "    </tr>\n",
       "    <tr>\n",
       "      <th>1</th>\n",
       "      <td>Lead Origin_Lead Add Form</td>\n",
       "      <td>1.62</td>\n",
       "    </tr>\n",
       "    <tr>\n",
       "      <th>8</th>\n",
       "      <td>What is your current occupation_Student</td>\n",
       "      <td>1.58</td>\n",
       "    </tr>\n",
       "    <tr>\n",
       "      <th>3</th>\n",
       "      <td>Lead Source_Welingak Website</td>\n",
       "      <td>1.32</td>\n",
       "    </tr>\n",
       "    <tr>\n",
       "      <th>0</th>\n",
       "      <td>Total Time Spent on Website</td>\n",
       "      <td>1.27</td>\n",
       "    </tr>\n",
       "    <tr>\n",
       "      <th>4</th>\n",
       "      <td>Last Activity_Email Bounced</td>\n",
       "      <td>1.22</td>\n",
       "    </tr>\n",
       "    <tr>\n",
       "      <th>16</th>\n",
       "      <td>Last Notable Activity_others</td>\n",
       "      <td>1.11</td>\n",
       "    </tr>\n",
       "    <tr>\n",
       "      <th>11</th>\n",
       "      <td>Lead Profile_Lateral Student</td>\n",
       "      <td>1.06</td>\n",
       "    </tr>\n",
       "  </tbody>\n",
       "</table>\n",
       "</div>"
      ],
      "text/plain": [
       "                                             Features    VIF\n",
       "9          What is your current occupation_Unemployed  20.23\n",
       "14                           Lead Profile_unspecified  15.42\n",
       "7                              Last Activity_SMS Sent   6.57\n",
       "15                     Last Notable Activity_SMS Sent   4.81\n",
       "12                        Lead Profile_Potential Lead   4.39\n",
       "5                          Last Activity_Email Opened   3.26\n",
       "10  What is your current occupation_Working Profes...   2.71\n",
       "6               Last Activity_Olark Chat Conversation   1.93\n",
       "2                              Lead Source_Olark Chat   1.78\n",
       "13                 Lead Profile_Student of SomeSchool   1.63\n",
       "1                           Lead Origin_Lead Add Form   1.62\n",
       "8             What is your current occupation_Student   1.58\n",
       "3                        Lead Source_Welingak Website   1.32\n",
       "0                         Total Time Spent on Website   1.27\n",
       "4                         Last Activity_Email Bounced   1.22\n",
       "16                       Last Notable Activity_others   1.11\n",
       "11                       Lead Profile_Lateral Student   1.06"
      ]
     },
     "execution_count": 104,
     "metadata": {},
     "output_type": "execute_result"
    }
   ],
   "source": [
    "vif = pd.DataFrame()\n",
    "vif['Features'] = X_train[col].columns\n",
    "vif['VIF'] = [variance_inflation_factor(X_train[col].values, i) for i in range(X_train[col].shape[1])]\n",
    "vif['VIF'] = round(vif['VIF'], 2)\n",
    "vif = vif.sort_values(by = \"VIF\", ascending = False)\n",
    "vif"
   ]
  },
  {
   "cell_type": "code",
   "execution_count": 105,
   "id": "de414e07",
   "metadata": {},
   "outputs": [],
   "source": [
    "col = col.drop(['What is your current occupation_Working Professional'])"
   ]
  },
  {
   "cell_type": "markdown",
   "id": "b1e6aad9",
   "metadata": {},
   "source": [
    "### Model 4"
   ]
  },
  {
   "cell_type": "code",
   "execution_count": 106,
   "id": "314d5843",
   "metadata": {},
   "outputs": [
    {
     "data": {
      "text/html": [
       "<table class=\"simpletable\">\n",
       "<caption>Generalized Linear Model Regression Results</caption>\n",
       "<tr>\n",
       "  <th>Dep. Variable:</th>       <td>Converted</td>    <th>  No. Observations:  </th>  <td>  6363</td> \n",
       "</tr>\n",
       "<tr>\n",
       "  <th>Model:</th>                  <td>GLM</td>       <th>  Df Residuals:      </th>  <td>  6346</td> \n",
       "</tr>\n",
       "<tr>\n",
       "  <th>Model Family:</th>        <td>Binomial</td>     <th>  Df Model:          </th>  <td>    16</td> \n",
       "</tr>\n",
       "<tr>\n",
       "  <th>Link Function:</th>         <td>Logit</td>      <th>  Scale:             </th> <td>  1.0000</td>\n",
       "</tr>\n",
       "<tr>\n",
       "  <th>Method:</th>                <td>IRLS</td>       <th>  Log-Likelihood:    </th> <td> -2435.5</td>\n",
       "</tr>\n",
       "<tr>\n",
       "  <th>Date:</th>            <td>Sat, 21 Jan 2023</td> <th>  Deviance:          </th> <td>  4871.0</td>\n",
       "</tr>\n",
       "<tr>\n",
       "  <th>Time:</th>                <td>18:15:39</td>     <th>  Pearson chi2:      </th> <td>7.61e+03</td>\n",
       "</tr>\n",
       "<tr>\n",
       "  <th>No. Iterations:</th>          <td>7</td>        <th>  Pseudo R-squ. (CS):</th>  <td>0.4312</td> \n",
       "</tr>\n",
       "<tr>\n",
       "  <th>Covariance Type:</th>     <td>nonrobust</td>    <th>                     </th>     <td> </td>   \n",
       "</tr>\n",
       "</table>\n",
       "<table class=\"simpletable\">\n",
       "<tr>\n",
       "                       <td></td>                         <th>coef</th>     <th>std err</th>      <th>z</th>      <th>P>|z|</th>  <th>[0.025</th>    <th>0.975]</th>  \n",
       "</tr>\n",
       "<tr>\n",
       "  <th>const</th>                                      <td>    0.5403</td> <td>    0.228</td> <td>    2.366</td> <td> 0.018</td> <td>    0.093</td> <td>    0.988</td>\n",
       "</tr>\n",
       "<tr>\n",
       "  <th>Total Time Spent on Website</th>                <td>    1.0955</td> <td>    0.041</td> <td>   26.410</td> <td> 0.000</td> <td>    1.014</td> <td>    1.177</td>\n",
       "</tr>\n",
       "<tr>\n",
       "  <th>Lead Origin_Lead Add Form</th>                  <td>    3.1504</td> <td>    0.204</td> <td>   15.408</td> <td> 0.000</td> <td>    2.750</td> <td>    3.551</td>\n",
       "</tr>\n",
       "<tr>\n",
       "  <th>Lead Source_Olark Chat</th>                     <td>    1.2877</td> <td>    0.109</td> <td>   11.799</td> <td> 0.000</td> <td>    1.074</td> <td>    1.502</td>\n",
       "</tr>\n",
       "<tr>\n",
       "  <th>Lead Source_Welingak Website</th>               <td>    3.4893</td> <td>    1.028</td> <td>    3.394</td> <td> 0.001</td> <td>    1.474</td> <td>    5.504</td>\n",
       "</tr>\n",
       "<tr>\n",
       "  <th>Last Activity_Email Bounced</th>                <td>   -1.9326</td> <td>    0.357</td> <td>   -5.407</td> <td> 0.000</td> <td>   -2.633</td> <td>   -1.232</td>\n",
       "</tr>\n",
       "<tr>\n",
       "  <th>Last Activity_Email Opened</th>                 <td>    0.6428</td> <td>    0.111</td> <td>    5.774</td> <td> 0.000</td> <td>    0.425</td> <td>    0.861</td>\n",
       "</tr>\n",
       "<tr>\n",
       "  <th>Last Activity_Olark Chat Conversation</th>      <td>   -0.7959</td> <td>    0.189</td> <td>   -4.207</td> <td> 0.000</td> <td>   -1.167</td> <td>   -0.425</td>\n",
       "</tr>\n",
       "<tr>\n",
       "  <th>Last Activity_SMS Sent</th>                     <td>    0.7338</td> <td>    0.168</td> <td>    4.364</td> <td> 0.000</td> <td>    0.404</td> <td>    1.063</td>\n",
       "</tr>\n",
       "<tr>\n",
       "  <th>What is your current occupation_Student</th>    <td>   -1.6821</td> <td>    0.330</td> <td>   -5.103</td> <td> 0.000</td> <td>   -2.328</td> <td>   -1.036</td>\n",
       "</tr>\n",
       "<tr>\n",
       "  <th>What is your current occupation_Unemployed</th> <td>   -2.3482</td> <td>    0.182</td> <td>  -12.879</td> <td> 0.000</td> <td>   -2.706</td> <td>   -1.991</td>\n",
       "</tr>\n",
       "<tr>\n",
       "  <th>Lead Profile_Lateral Student</th>               <td>    2.3752</td> <td>    1.120</td> <td>    2.121</td> <td> 0.034</td> <td>    0.180</td> <td>    4.570</td>\n",
       "</tr>\n",
       "<tr>\n",
       "  <th>Lead Profile_Potential Lead</th>                <td>    1.3498</td> <td>    0.173</td> <td>    7.811</td> <td> 0.000</td> <td>    1.011</td> <td>    1.688</td>\n",
       "</tr>\n",
       "<tr>\n",
       "  <th>Lead Profile_Student of SomeSchool</th>         <td>   -2.6072</td> <td>    0.476</td> <td>   -5.482</td> <td> 0.000</td> <td>   -3.539</td> <td>   -1.675</td>\n",
       "</tr>\n",
       "<tr>\n",
       "  <th>Lead Profile_unspecified</th>                   <td>   -0.5605</td> <td>    0.155</td> <td>   -3.611</td> <td> 0.000</td> <td>   -0.865</td> <td>   -0.256</td>\n",
       "</tr>\n",
       "<tr>\n",
       "  <th>Last Notable Activity_SMS Sent</th>             <td>    1.4378</td> <td>    0.153</td> <td>    9.376</td> <td> 0.000</td> <td>    1.137</td> <td>    1.738</td>\n",
       "</tr>\n",
       "<tr>\n",
       "  <th>Last Notable Activity_others</th>               <td>    1.4800</td> <td>    0.300</td> <td>    4.927</td> <td> 0.000</td> <td>    0.891</td> <td>    2.069</td>\n",
       "</tr>\n",
       "</table>"
      ],
      "text/plain": [
       "<class 'statsmodels.iolib.summary.Summary'>\n",
       "\"\"\"\n",
       "                 Generalized Linear Model Regression Results                  \n",
       "==============================================================================\n",
       "Dep. Variable:              Converted   No. Observations:                 6363\n",
       "Model:                            GLM   Df Residuals:                     6346\n",
       "Model Family:                Binomial   Df Model:                           16\n",
       "Link Function:                  Logit   Scale:                          1.0000\n",
       "Method:                          IRLS   Log-Likelihood:                -2435.5\n",
       "Date:                Sat, 21 Jan 2023   Deviance:                       4871.0\n",
       "Time:                        18:15:39   Pearson chi2:                 7.61e+03\n",
       "No. Iterations:                     7   Pseudo R-squ. (CS):             0.4312\n",
       "Covariance Type:            nonrobust                                         \n",
       "==============================================================================================================\n",
       "                                                 coef    std err          z      P>|z|      [0.025      0.975]\n",
       "--------------------------------------------------------------------------------------------------------------\n",
       "const                                          0.5403      0.228      2.366      0.018       0.093       0.988\n",
       "Total Time Spent on Website                    1.0955      0.041     26.410      0.000       1.014       1.177\n",
       "Lead Origin_Lead Add Form                      3.1504      0.204     15.408      0.000       2.750       3.551\n",
       "Lead Source_Olark Chat                         1.2877      0.109     11.799      0.000       1.074       1.502\n",
       "Lead Source_Welingak Website                   3.4893      1.028      3.394      0.001       1.474       5.504\n",
       "Last Activity_Email Bounced                   -1.9326      0.357     -5.407      0.000      -2.633      -1.232\n",
       "Last Activity_Email Opened                     0.6428      0.111      5.774      0.000       0.425       0.861\n",
       "Last Activity_Olark Chat Conversation         -0.7959      0.189     -4.207      0.000      -1.167      -0.425\n",
       "Last Activity_SMS Sent                         0.7338      0.168      4.364      0.000       0.404       1.063\n",
       "What is your current occupation_Student       -1.6821      0.330     -5.103      0.000      -2.328      -1.036\n",
       "What is your current occupation_Unemployed    -2.3482      0.182    -12.879      0.000      -2.706      -1.991\n",
       "Lead Profile_Lateral Student                   2.3752      1.120      2.121      0.034       0.180       4.570\n",
       "Lead Profile_Potential Lead                    1.3498      0.173      7.811      0.000       1.011       1.688\n",
       "Lead Profile_Student of SomeSchool            -2.6072      0.476     -5.482      0.000      -3.539      -1.675\n",
       "Lead Profile_unspecified                      -0.5605      0.155     -3.611      0.000      -0.865      -0.256\n",
       "Last Notable Activity_SMS Sent                 1.4378      0.153      9.376      0.000       1.137       1.738\n",
       "Last Notable Activity_others                   1.4800      0.300      4.927      0.000       0.891       2.069\n",
       "==============================================================================================================\n",
       "\"\"\""
      ]
     },
     "execution_count": 106,
     "metadata": {},
     "output_type": "execute_result"
    }
   ],
   "source": [
    "X_train_rfe = X_train[col]\n",
    "X_train_sm = sm.add_constant(X_train_rfe)\n",
    "logm4 = sm.GLM(y_train,X_train_sm, family = sm.families.Binomial())\n",
    "logm4_model = logm4.fit()\n",
    "logm4_model.summary()"
   ]
  },
  {
   "cell_type": "code",
   "execution_count": 107,
   "id": "f4170498",
   "metadata": {},
   "outputs": [
    {
     "data": {
      "text/html": [
       "<div>\n",
       "<style scoped>\n",
       "    .dataframe tbody tr th:only-of-type {\n",
       "        vertical-align: middle;\n",
       "    }\n",
       "\n",
       "    .dataframe tbody tr th {\n",
       "        vertical-align: top;\n",
       "    }\n",
       "\n",
       "    .dataframe thead th {\n",
       "        text-align: right;\n",
       "    }\n",
       "</style>\n",
       "<table border=\"1\" class=\"dataframe\">\n",
       "  <thead>\n",
       "    <tr style=\"text-align: right;\">\n",
       "      <th></th>\n",
       "      <th>Features</th>\n",
       "      <th>VIF</th>\n",
       "    </tr>\n",
       "  </thead>\n",
       "  <tbody>\n",
       "    <tr>\n",
       "      <th>13</th>\n",
       "      <td>Lead Profile_unspecified</td>\n",
       "      <td>9.38</td>\n",
       "    </tr>\n",
       "    <tr>\n",
       "      <th>9</th>\n",
       "      <td>What is your current occupation_Unemployed</td>\n",
       "      <td>9.29</td>\n",
       "    </tr>\n",
       "    <tr>\n",
       "      <th>7</th>\n",
       "      <td>Last Activity_SMS Sent</td>\n",
       "      <td>6.41</td>\n",
       "    </tr>\n",
       "    <tr>\n",
       "      <th>14</th>\n",
       "      <td>Last Notable Activity_SMS Sent</td>\n",
       "      <td>4.80</td>\n",
       "    </tr>\n",
       "    <tr>\n",
       "      <th>5</th>\n",
       "      <td>Last Activity_Email Opened</td>\n",
       "      <td>2.96</td>\n",
       "    </tr>\n",
       "    <tr>\n",
       "      <th>11</th>\n",
       "      <td>Lead Profile_Potential Lead</td>\n",
       "      <td>2.67</td>\n",
       "    </tr>\n",
       "    <tr>\n",
       "      <th>6</th>\n",
       "      <td>Last Activity_Olark Chat Conversation</td>\n",
       "      <td>1.87</td>\n",
       "    </tr>\n",
       "    <tr>\n",
       "      <th>2</th>\n",
       "      <td>Lead Source_Olark Chat</td>\n",
       "      <td>1.78</td>\n",
       "    </tr>\n",
       "    <tr>\n",
       "      <th>1</th>\n",
       "      <td>Lead Origin_Lead Add Form</td>\n",
       "      <td>1.58</td>\n",
       "    </tr>\n",
       "    <tr>\n",
       "      <th>12</th>\n",
       "      <td>Lead Profile_Student of SomeSchool</td>\n",
       "      <td>1.41</td>\n",
       "    </tr>\n",
       "    <tr>\n",
       "      <th>8</th>\n",
       "      <td>What is your current occupation_Student</td>\n",
       "      <td>1.33</td>\n",
       "    </tr>\n",
       "    <tr>\n",
       "      <th>3</th>\n",
       "      <td>Lead Source_Welingak Website</td>\n",
       "      <td>1.31</td>\n",
       "    </tr>\n",
       "    <tr>\n",
       "      <th>0</th>\n",
       "      <td>Total Time Spent on Website</td>\n",
       "      <td>1.26</td>\n",
       "    </tr>\n",
       "    <tr>\n",
       "      <th>4</th>\n",
       "      <td>Last Activity_Email Bounced</td>\n",
       "      <td>1.20</td>\n",
       "    </tr>\n",
       "    <tr>\n",
       "      <th>15</th>\n",
       "      <td>Last Notable Activity_others</td>\n",
       "      <td>1.10</td>\n",
       "    </tr>\n",
       "    <tr>\n",
       "      <th>10</th>\n",
       "      <td>Lead Profile_Lateral Student</td>\n",
       "      <td>1.04</td>\n",
       "    </tr>\n",
       "  </tbody>\n",
       "</table>\n",
       "</div>"
      ],
      "text/plain": [
       "                                      Features   VIF\n",
       "13                    Lead Profile_unspecified  9.38\n",
       "9   What is your current occupation_Unemployed  9.29\n",
       "7                       Last Activity_SMS Sent  6.41\n",
       "14              Last Notable Activity_SMS Sent  4.80\n",
       "5                   Last Activity_Email Opened  2.96\n",
       "11                 Lead Profile_Potential Lead  2.67\n",
       "6        Last Activity_Olark Chat Conversation  1.87\n",
       "2                       Lead Source_Olark Chat  1.78\n",
       "1                    Lead Origin_Lead Add Form  1.58\n",
       "12          Lead Profile_Student of SomeSchool  1.41\n",
       "8      What is your current occupation_Student  1.33\n",
       "3                 Lead Source_Welingak Website  1.31\n",
       "0                  Total Time Spent on Website  1.26\n",
       "4                  Last Activity_Email Bounced  1.20\n",
       "15                Last Notable Activity_others  1.10\n",
       "10                Lead Profile_Lateral Student  1.04"
      ]
     },
     "execution_count": 107,
     "metadata": {},
     "output_type": "execute_result"
    }
   ],
   "source": [
    "vif = pd.DataFrame()\n",
    "vif['Features'] = X_train[col].columns\n",
    "vif['VIF'] = [variance_inflation_factor(X_train[col].values, i) for i in range(X_train[col].shape[1])]\n",
    "vif['VIF'] = round(vif['VIF'], 2)\n",
    "vif = vif.sort_values(by = \"VIF\", ascending = False)\n",
    "vif"
   ]
  },
  {
   "cell_type": "code",
   "execution_count": 108,
   "id": "32324d76",
   "metadata": {},
   "outputs": [],
   "source": [
    "col = col.drop(['Lead Profile_unspecified'])"
   ]
  },
  {
   "cell_type": "markdown",
   "id": "fdbec7ef",
   "metadata": {},
   "source": [
    "### Model 5"
   ]
  },
  {
   "cell_type": "code",
   "execution_count": 109,
   "id": "db1f2f0f",
   "metadata": {},
   "outputs": [
    {
     "data": {
      "text/html": [
       "<table class=\"simpletable\">\n",
       "<caption>Generalized Linear Model Regression Results</caption>\n",
       "<tr>\n",
       "  <th>Dep. Variable:</th>       <td>Converted</td>    <th>  No. Observations:  </th>  <td>  6363</td> \n",
       "</tr>\n",
       "<tr>\n",
       "  <th>Model:</th>                  <td>GLM</td>       <th>  Df Residuals:      </th>  <td>  6347</td> \n",
       "</tr>\n",
       "<tr>\n",
       "  <th>Model Family:</th>        <td>Binomial</td>     <th>  Df Model:          </th>  <td>    15</td> \n",
       "</tr>\n",
       "<tr>\n",
       "  <th>Link Function:</th>         <td>Logit</td>      <th>  Scale:             </th> <td>  1.0000</td>\n",
       "</tr>\n",
       "<tr>\n",
       "  <th>Method:</th>                <td>IRLS</td>       <th>  Log-Likelihood:    </th> <td> -2441.8</td>\n",
       "</tr>\n",
       "<tr>\n",
       "  <th>Date:</th>            <td>Sat, 21 Jan 2023</td> <th>  Deviance:          </th> <td>  4883.6</td>\n",
       "</tr>\n",
       "<tr>\n",
       "  <th>Time:</th>                <td>18:15:39</td>     <th>  Pearson chi2:      </th> <td>7.71e+03</td>\n",
       "</tr>\n",
       "<tr>\n",
       "  <th>No. Iterations:</th>          <td>7</td>        <th>  Pseudo R-squ. (CS):</th>  <td>0.4300</td> \n",
       "</tr>\n",
       "<tr>\n",
       "  <th>Covariance Type:</th>     <td>nonrobust</td>    <th>                     </th>     <td> </td>   \n",
       "</tr>\n",
       "</table>\n",
       "<table class=\"simpletable\">\n",
       "<tr>\n",
       "                       <td></td>                         <th>coef</th>     <th>std err</th>      <th>z</th>      <th>P>|z|</th>  <th>[0.025</th>    <th>0.975]</th>  \n",
       "</tr>\n",
       "<tr>\n",
       "  <th>const</th>                                      <td>    0.1227</td> <td>    0.197</td> <td>    0.624</td> <td> 0.532</td> <td>   -0.263</td> <td>    0.508</td>\n",
       "</tr>\n",
       "<tr>\n",
       "  <th>Total Time Spent on Website</th>                <td>    1.0954</td> <td>    0.041</td> <td>   26.422</td> <td> 0.000</td> <td>    1.014</td> <td>    1.177</td>\n",
       "</tr>\n",
       "<tr>\n",
       "  <th>Lead Origin_Lead Add Form</th>                  <td>    3.1725</td> <td>    0.204</td> <td>   15.526</td> <td> 0.000</td> <td>    2.772</td> <td>    3.573</td>\n",
       "</tr>\n",
       "<tr>\n",
       "  <th>Lead Source_Olark Chat</th>                     <td>    1.2655</td> <td>    0.109</td> <td>   11.649</td> <td> 0.000</td> <td>    1.053</td> <td>    1.478</td>\n",
       "</tr>\n",
       "<tr>\n",
       "  <th>Lead Source_Welingak Website</th>               <td>    3.4290</td> <td>    1.028</td> <td>    3.336</td> <td> 0.001</td> <td>    1.415</td> <td>    5.443</td>\n",
       "</tr>\n",
       "<tr>\n",
       "  <th>Last Activity_Email Bounced</th>                <td>   -1.9427</td> <td>    0.359</td> <td>   -5.414</td> <td> 0.000</td> <td>   -2.646</td> <td>   -1.239</td>\n",
       "</tr>\n",
       "<tr>\n",
       "  <th>Last Activity_Email Opened</th>                 <td>    0.6326</td> <td>    0.111</td> <td>    5.691</td> <td> 0.000</td> <td>    0.415</td> <td>    0.851</td>\n",
       "</tr>\n",
       "<tr>\n",
       "  <th>Last Activity_Olark Chat Conversation</th>      <td>   -0.8109</td> <td>    0.189</td> <td>   -4.294</td> <td> 0.000</td> <td>   -1.181</td> <td>   -0.441</td>\n",
       "</tr>\n",
       "<tr>\n",
       "  <th>Last Activity_SMS Sent</th>                     <td>    0.6903</td> <td>    0.167</td> <td>    4.123</td> <td> 0.000</td> <td>    0.362</td> <td>    1.019</td>\n",
       "</tr>\n",
       "<tr>\n",
       "  <th>What is your current occupation_Student</th>    <td>   -1.7065</td> <td>    0.330</td> <td>   -5.177</td> <td> 0.000</td> <td>   -2.353</td> <td>   -1.060</td>\n",
       "</tr>\n",
       "<tr>\n",
       "  <th>What is your current occupation_Unemployed</th> <td>   -2.4275</td> <td>    0.182</td> <td>  -13.341</td> <td> 0.000</td> <td>   -2.784</td> <td>   -2.071</td>\n",
       "</tr>\n",
       "<tr>\n",
       "  <th>Lead Profile_Lateral Student</th>               <td>    2.8787</td> <td>    1.112</td> <td>    2.589</td> <td> 0.010</td> <td>    0.700</td> <td>    5.058</td>\n",
       "</tr>\n",
       "<tr>\n",
       "  <th>Lead Profile_Potential Lead</th>                <td>    1.8599</td> <td>    0.101</td> <td>   18.459</td> <td> 0.000</td> <td>    1.662</td> <td>    2.057</td>\n",
       "</tr>\n",
       "<tr>\n",
       "  <th>Lead Profile_Student of SomeSchool</th>         <td>   -2.1209</td> <td>    0.457</td> <td>   -4.643</td> <td> 0.000</td> <td>   -3.016</td> <td>   -1.226</td>\n",
       "</tr>\n",
       "<tr>\n",
       "  <th>Last Notable Activity_SMS Sent</th>             <td>    1.4304</td> <td>    0.153</td> <td>    9.339</td> <td> 0.000</td> <td>    1.130</td> <td>    1.731</td>\n",
       "</tr>\n",
       "<tr>\n",
       "  <th>Last Notable Activity_others</th>               <td>    1.4733</td> <td>    0.301</td> <td>    4.901</td> <td> 0.000</td> <td>    0.884</td> <td>    2.063</td>\n",
       "</tr>\n",
       "</table>"
      ],
      "text/plain": [
       "<class 'statsmodels.iolib.summary.Summary'>\n",
       "\"\"\"\n",
       "                 Generalized Linear Model Regression Results                  \n",
       "==============================================================================\n",
       "Dep. Variable:              Converted   No. Observations:                 6363\n",
       "Model:                            GLM   Df Residuals:                     6347\n",
       "Model Family:                Binomial   Df Model:                           15\n",
       "Link Function:                  Logit   Scale:                          1.0000\n",
       "Method:                          IRLS   Log-Likelihood:                -2441.8\n",
       "Date:                Sat, 21 Jan 2023   Deviance:                       4883.6\n",
       "Time:                        18:15:39   Pearson chi2:                 7.71e+03\n",
       "No. Iterations:                     7   Pseudo R-squ. (CS):             0.4300\n",
       "Covariance Type:            nonrobust                                         \n",
       "==============================================================================================================\n",
       "                                                 coef    std err          z      P>|z|      [0.025      0.975]\n",
       "--------------------------------------------------------------------------------------------------------------\n",
       "const                                          0.1227      0.197      0.624      0.532      -0.263       0.508\n",
       "Total Time Spent on Website                    1.0954      0.041     26.422      0.000       1.014       1.177\n",
       "Lead Origin_Lead Add Form                      3.1725      0.204     15.526      0.000       2.772       3.573\n",
       "Lead Source_Olark Chat                         1.2655      0.109     11.649      0.000       1.053       1.478\n",
       "Lead Source_Welingak Website                   3.4290      1.028      3.336      0.001       1.415       5.443\n",
       "Last Activity_Email Bounced                   -1.9427      0.359     -5.414      0.000      -2.646      -1.239\n",
       "Last Activity_Email Opened                     0.6326      0.111      5.691      0.000       0.415       0.851\n",
       "Last Activity_Olark Chat Conversation         -0.8109      0.189     -4.294      0.000      -1.181      -0.441\n",
       "Last Activity_SMS Sent                         0.6903      0.167      4.123      0.000       0.362       1.019\n",
       "What is your current occupation_Student       -1.7065      0.330     -5.177      0.000      -2.353      -1.060\n",
       "What is your current occupation_Unemployed    -2.4275      0.182    -13.341      0.000      -2.784      -2.071\n",
       "Lead Profile_Lateral Student                   2.8787      1.112      2.589      0.010       0.700       5.058\n",
       "Lead Profile_Potential Lead                    1.8599      0.101     18.459      0.000       1.662       2.057\n",
       "Lead Profile_Student of SomeSchool            -2.1209      0.457     -4.643      0.000      -3.016      -1.226\n",
       "Last Notable Activity_SMS Sent                 1.4304      0.153      9.339      0.000       1.130       1.731\n",
       "Last Notable Activity_others                   1.4733      0.301      4.901      0.000       0.884       2.063\n",
       "==============================================================================================================\n",
       "\"\"\""
      ]
     },
     "execution_count": 109,
     "metadata": {},
     "output_type": "execute_result"
    }
   ],
   "source": [
    "X_train_rfe = X_train[col]\n",
    "X_train_sm = sm.add_constant(X_train_rfe)\n",
    "logm5 = sm.GLM(y_train,X_train_sm, family = sm.families.Binomial())\n",
    "logm5_model = logm5.fit()\n",
    "logm5_model.summary()"
   ]
  },
  {
   "cell_type": "code",
   "execution_count": 110,
   "id": "e3d36021",
   "metadata": {},
   "outputs": [
    {
     "data": {
      "text/html": [
       "<div>\n",
       "<style scoped>\n",
       "    .dataframe tbody tr th:only-of-type {\n",
       "        vertical-align: middle;\n",
       "    }\n",
       "\n",
       "    .dataframe tbody tr th {\n",
       "        vertical-align: top;\n",
       "    }\n",
       "\n",
       "    .dataframe thead th {\n",
       "        text-align: right;\n",
       "    }\n",
       "</style>\n",
       "<table border=\"1\" class=\"dataframe\">\n",
       "  <thead>\n",
       "    <tr style=\"text-align: right;\">\n",
       "      <th></th>\n",
       "      <th>Features</th>\n",
       "      <th>VIF</th>\n",
       "    </tr>\n",
       "  </thead>\n",
       "  <tbody>\n",
       "    <tr>\n",
       "      <th>7</th>\n",
       "      <td>Last Activity_SMS Sent</td>\n",
       "      <td>6.10</td>\n",
       "    </tr>\n",
       "    <tr>\n",
       "      <th>13</th>\n",
       "      <td>Last Notable Activity_SMS Sent</td>\n",
       "      <td>4.80</td>\n",
       "    </tr>\n",
       "    <tr>\n",
       "      <th>9</th>\n",
       "      <td>What is your current occupation_Unemployed</td>\n",
       "      <td>4.14</td>\n",
       "    </tr>\n",
       "    <tr>\n",
       "      <th>5</th>\n",
       "      <td>Last Activity_Email Opened</td>\n",
       "      <td>2.67</td>\n",
       "    </tr>\n",
       "    <tr>\n",
       "      <th>6</th>\n",
       "      <td>Last Activity_Olark Chat Conversation</td>\n",
       "      <td>1.79</td>\n",
       "    </tr>\n",
       "    <tr>\n",
       "      <th>2</th>\n",
       "      <td>Lead Source_Olark Chat</td>\n",
       "      <td>1.77</td>\n",
       "    </tr>\n",
       "    <tr>\n",
       "      <th>1</th>\n",
       "      <td>Lead Origin_Lead Add Form</td>\n",
       "      <td>1.57</td>\n",
       "    </tr>\n",
       "    <tr>\n",
       "      <th>11</th>\n",
       "      <td>Lead Profile_Potential Lead</td>\n",
       "      <td>1.34</td>\n",
       "    </tr>\n",
       "    <tr>\n",
       "      <th>3</th>\n",
       "      <td>Lead Source_Welingak Website</td>\n",
       "      <td>1.31</td>\n",
       "    </tr>\n",
       "    <tr>\n",
       "      <th>0</th>\n",
       "      <td>Total Time Spent on Website</td>\n",
       "      <td>1.26</td>\n",
       "    </tr>\n",
       "    <tr>\n",
       "      <th>8</th>\n",
       "      <td>What is your current occupation_Student</td>\n",
       "      <td>1.24</td>\n",
       "    </tr>\n",
       "    <tr>\n",
       "      <th>4</th>\n",
       "      <td>Last Activity_Email Bounced</td>\n",
       "      <td>1.18</td>\n",
       "    </tr>\n",
       "    <tr>\n",
       "      <th>12</th>\n",
       "      <td>Lead Profile_Student of SomeSchool</td>\n",
       "      <td>1.18</td>\n",
       "    </tr>\n",
       "    <tr>\n",
       "      <th>14</th>\n",
       "      <td>Last Notable Activity_others</td>\n",
       "      <td>1.09</td>\n",
       "    </tr>\n",
       "    <tr>\n",
       "      <th>10</th>\n",
       "      <td>Lead Profile_Lateral Student</td>\n",
       "      <td>1.01</td>\n",
       "    </tr>\n",
       "  </tbody>\n",
       "</table>\n",
       "</div>"
      ],
      "text/plain": [
       "                                      Features   VIF\n",
       "7                       Last Activity_SMS Sent  6.10\n",
       "13              Last Notable Activity_SMS Sent  4.80\n",
       "9   What is your current occupation_Unemployed  4.14\n",
       "5                   Last Activity_Email Opened  2.67\n",
       "6        Last Activity_Olark Chat Conversation  1.79\n",
       "2                       Lead Source_Olark Chat  1.77\n",
       "1                    Lead Origin_Lead Add Form  1.57\n",
       "11                 Lead Profile_Potential Lead  1.34\n",
       "3                 Lead Source_Welingak Website  1.31\n",
       "0                  Total Time Spent on Website  1.26\n",
       "8      What is your current occupation_Student  1.24\n",
       "4                  Last Activity_Email Bounced  1.18\n",
       "12          Lead Profile_Student of SomeSchool  1.18\n",
       "14                Last Notable Activity_others  1.09\n",
       "10                Lead Profile_Lateral Student  1.01"
      ]
     },
     "execution_count": 110,
     "metadata": {},
     "output_type": "execute_result"
    }
   ],
   "source": [
    "vif = pd.DataFrame()\n",
    "vif['Features'] = X_train[col].columns\n",
    "vif['VIF'] = [variance_inflation_factor(X_train[col].values, i) for i in range(X_train[col].shape[1])]\n",
    "vif['VIF'] = round(vif['VIF'], 2)\n",
    "vif = vif.sort_values(by = \"VIF\", ascending = False)\n",
    "vif"
   ]
  },
  {
   "cell_type": "code",
   "execution_count": 111,
   "id": "c1eb1cb8",
   "metadata": {},
   "outputs": [],
   "source": [
    "col = col.drop(['Last Activity_SMS Sent'])"
   ]
  },
  {
   "cell_type": "markdown",
   "id": "e3af711e",
   "metadata": {},
   "source": [
    "### Model 6 "
   ]
  },
  {
   "cell_type": "code",
   "execution_count": 112,
   "id": "ba74c7b9",
   "metadata": {},
   "outputs": [
    {
     "data": {
      "text/html": [
       "<table class=\"simpletable\">\n",
       "<caption>Generalized Linear Model Regression Results</caption>\n",
       "<tr>\n",
       "  <th>Dep. Variable:</th>       <td>Converted</td>    <th>  No. Observations:  </th>  <td>  6363</td> \n",
       "</tr>\n",
       "<tr>\n",
       "  <th>Model:</th>                  <td>GLM</td>       <th>  Df Residuals:      </th>  <td>  6348</td> \n",
       "</tr>\n",
       "<tr>\n",
       "  <th>Model Family:</th>        <td>Binomial</td>     <th>  Df Model:          </th>  <td>    14</td> \n",
       "</tr>\n",
       "<tr>\n",
       "  <th>Link Function:</th>         <td>Logit</td>      <th>  Scale:             </th> <td>  1.0000</td>\n",
       "</tr>\n",
       "<tr>\n",
       "  <th>Method:</th>                <td>IRLS</td>       <th>  Log-Likelihood:    </th> <td> -2450.2</td>\n",
       "</tr>\n",
       "<tr>\n",
       "  <th>Date:</th>            <td>Sat, 21 Jan 2023</td> <th>  Deviance:          </th> <td>  4900.3</td>\n",
       "</tr>\n",
       "<tr>\n",
       "  <th>Time:</th>                <td>18:15:39</td>     <th>  Pearson chi2:      </th> <td>7.76e+03</td>\n",
       "</tr>\n",
       "<tr>\n",
       "  <th>No. Iterations:</th>          <td>7</td>        <th>  Pseudo R-squ. (CS):</th>  <td>0.4285</td> \n",
       "</tr>\n",
       "<tr>\n",
       "  <th>Covariance Type:</th>     <td>nonrobust</td>    <th>                     </th>     <td> </td>   \n",
       "</tr>\n",
       "</table>\n",
       "<table class=\"simpletable\">\n",
       "<tr>\n",
       "                       <td></td>                         <th>coef</th>     <th>std err</th>      <th>z</th>      <th>P>|z|</th>  <th>[0.025</th>    <th>0.975]</th>  \n",
       "</tr>\n",
       "<tr>\n",
       "  <th>const</th>                                      <td>    0.3068</td> <td>    0.190</td> <td>    1.613</td> <td> 0.107</td> <td>   -0.066</td> <td>    0.680</td>\n",
       "</tr>\n",
       "<tr>\n",
       "  <th>Total Time Spent on Website</th>                <td>    1.0959</td> <td>    0.041</td> <td>   26.488</td> <td> 0.000</td> <td>    1.015</td> <td>    1.177</td>\n",
       "</tr>\n",
       "<tr>\n",
       "  <th>Lead Origin_Lead Add Form</th>                  <td>    3.2221</td> <td>    0.205</td> <td>   15.696</td> <td> 0.000</td> <td>    2.820</td> <td>    3.624</td>\n",
       "</tr>\n",
       "<tr>\n",
       "  <th>Lead Source_Olark Chat</th>                     <td>    1.2713</td> <td>    0.108</td> <td>   11.719</td> <td> 0.000</td> <td>    1.059</td> <td>    1.484</td>\n",
       "</tr>\n",
       "<tr>\n",
       "  <th>Lead Source_Welingak Website</th>               <td>    3.5050</td> <td>    1.028</td> <td>    3.408</td> <td> 0.001</td> <td>    1.489</td> <td>    5.521</td>\n",
       "</tr>\n",
       "<tr>\n",
       "  <th>Last Activity_Email Bounced</th>                <td>   -2.1009</td> <td>    0.356</td> <td>   -5.907</td> <td> 0.000</td> <td>   -2.798</td> <td>   -1.404</td>\n",
       "</tr>\n",
       "<tr>\n",
       "  <th>Last Activity_Email Opened</th>                 <td>    0.4216</td> <td>    0.096</td> <td>    4.386</td> <td> 0.000</td> <td>    0.233</td> <td>    0.610</td>\n",
       "</tr>\n",
       "<tr>\n",
       "  <th>Last Activity_Olark Chat Conversation</th>      <td>   -1.0229</td> <td>    0.180</td> <td>   -5.672</td> <td> 0.000</td> <td>   -1.376</td> <td>   -0.669</td>\n",
       "</tr>\n",
       "<tr>\n",
       "  <th>What is your current occupation_Student</th>    <td>   -1.7087</td> <td>    0.329</td> <td>   -5.197</td> <td> 0.000</td> <td>   -2.353</td> <td>   -1.064</td>\n",
       "</tr>\n",
       "<tr>\n",
       "  <th>What is your current occupation_Unemployed</th> <td>   -2.4014</td> <td>    0.181</td> <td>  -13.263</td> <td> 0.000</td> <td>   -2.756</td> <td>   -2.047</td>\n",
       "</tr>\n",
       "<tr>\n",
       "  <th>Lead Profile_Lateral Student</th>               <td>    2.8593</td> <td>    1.115</td> <td>    2.565</td> <td> 0.010</td> <td>    0.675</td> <td>    5.044</td>\n",
       "</tr>\n",
       "<tr>\n",
       "  <th>Lead Profile_Potential Lead</th>                <td>    1.8584</td> <td>    0.100</td> <td>   18.499</td> <td> 0.000</td> <td>    1.662</td> <td>    2.055</td>\n",
       "</tr>\n",
       "<tr>\n",
       "  <th>Lead Profile_Student of SomeSchool</th>         <td>   -2.1485</td> <td>    0.455</td> <td>   -4.723</td> <td> 0.000</td> <td>   -3.040</td> <td>   -1.257</td>\n",
       "</tr>\n",
       "<tr>\n",
       "  <th>Last Notable Activity_SMS Sent</th>             <td>    1.9094</td> <td>    0.104</td> <td>   18.368</td> <td> 0.000</td> <td>    1.706</td> <td>    2.113</td>\n",
       "</tr>\n",
       "<tr>\n",
       "  <th>Last Notable Activity_others</th>               <td>    1.2984</td> <td>    0.298</td> <td>    4.363</td> <td> 0.000</td> <td>    0.715</td> <td>    1.882</td>\n",
       "</tr>\n",
       "</table>"
      ],
      "text/plain": [
       "<class 'statsmodels.iolib.summary.Summary'>\n",
       "\"\"\"\n",
       "                 Generalized Linear Model Regression Results                  \n",
       "==============================================================================\n",
       "Dep. Variable:              Converted   No. Observations:                 6363\n",
       "Model:                            GLM   Df Residuals:                     6348\n",
       "Model Family:                Binomial   Df Model:                           14\n",
       "Link Function:                  Logit   Scale:                          1.0000\n",
       "Method:                          IRLS   Log-Likelihood:                -2450.2\n",
       "Date:                Sat, 21 Jan 2023   Deviance:                       4900.3\n",
       "Time:                        18:15:39   Pearson chi2:                 7.76e+03\n",
       "No. Iterations:                     7   Pseudo R-squ. (CS):             0.4285\n",
       "Covariance Type:            nonrobust                                         \n",
       "==============================================================================================================\n",
       "                                                 coef    std err          z      P>|z|      [0.025      0.975]\n",
       "--------------------------------------------------------------------------------------------------------------\n",
       "const                                          0.3068      0.190      1.613      0.107      -0.066       0.680\n",
       "Total Time Spent on Website                    1.0959      0.041     26.488      0.000       1.015       1.177\n",
       "Lead Origin_Lead Add Form                      3.2221      0.205     15.696      0.000       2.820       3.624\n",
       "Lead Source_Olark Chat                         1.2713      0.108     11.719      0.000       1.059       1.484\n",
       "Lead Source_Welingak Website                   3.5050      1.028      3.408      0.001       1.489       5.521\n",
       "Last Activity_Email Bounced                   -2.1009      0.356     -5.907      0.000      -2.798      -1.404\n",
       "Last Activity_Email Opened                     0.4216      0.096      4.386      0.000       0.233       0.610\n",
       "Last Activity_Olark Chat Conversation         -1.0229      0.180     -5.672      0.000      -1.376      -0.669\n",
       "What is your current occupation_Student       -1.7087      0.329     -5.197      0.000      -2.353      -1.064\n",
       "What is your current occupation_Unemployed    -2.4014      0.181    -13.263      0.000      -2.756      -2.047\n",
       "Lead Profile_Lateral Student                   2.8593      1.115      2.565      0.010       0.675       5.044\n",
       "Lead Profile_Potential Lead                    1.8584      0.100     18.499      0.000       1.662       2.055\n",
       "Lead Profile_Student of SomeSchool            -2.1485      0.455     -4.723      0.000      -3.040      -1.257\n",
       "Last Notable Activity_SMS Sent                 1.9094      0.104     18.368      0.000       1.706       2.113\n",
       "Last Notable Activity_others                   1.2984      0.298      4.363      0.000       0.715       1.882\n",
       "==============================================================================================================\n",
       "\"\"\""
      ]
     },
     "execution_count": 112,
     "metadata": {},
     "output_type": "execute_result"
    }
   ],
   "source": [
    "X_train_rfe = X_train[col]\n",
    "X_train_sm = sm.add_constant(X_train_rfe)\n",
    "logm6 = sm.GLM(y_train,X_train_sm, family = sm.families.Binomial())\n",
    "logm6_model = logm6.fit()\n",
    "logm6_model.summary()"
   ]
  },
  {
   "cell_type": "code",
   "execution_count": 113,
   "id": "d6a68207",
   "metadata": {},
   "outputs": [
    {
     "data": {
      "text/html": [
       "<div>\n",
       "<style scoped>\n",
       "    .dataframe tbody tr th:only-of-type {\n",
       "        vertical-align: middle;\n",
       "    }\n",
       "\n",
       "    .dataframe tbody tr th {\n",
       "        vertical-align: top;\n",
       "    }\n",
       "\n",
       "    .dataframe thead th {\n",
       "        text-align: right;\n",
       "    }\n",
       "</style>\n",
       "<table border=\"1\" class=\"dataframe\">\n",
       "  <thead>\n",
       "    <tr style=\"text-align: right;\">\n",
       "      <th></th>\n",
       "      <th>Features</th>\n",
       "      <th>VIF</th>\n",
       "    </tr>\n",
       "  </thead>\n",
       "  <tbody>\n",
       "    <tr>\n",
       "      <th>8</th>\n",
       "      <td>What is your current occupation_Unemployed</td>\n",
       "      <td>3.34</td>\n",
       "    </tr>\n",
       "    <tr>\n",
       "      <th>5</th>\n",
       "      <td>Last Activity_Email Opened</td>\n",
       "      <td>2.32</td>\n",
       "    </tr>\n",
       "    <tr>\n",
       "      <th>12</th>\n",
       "      <td>Last Notable Activity_SMS Sent</td>\n",
       "      <td>1.78</td>\n",
       "    </tr>\n",
       "    <tr>\n",
       "      <th>2</th>\n",
       "      <td>Lead Source_Olark Chat</td>\n",
       "      <td>1.76</td>\n",
       "    </tr>\n",
       "    <tr>\n",
       "      <th>6</th>\n",
       "      <td>Last Activity_Olark Chat Conversation</td>\n",
       "      <td>1.69</td>\n",
       "    </tr>\n",
       "    <tr>\n",
       "      <th>1</th>\n",
       "      <td>Lead Origin_Lead Add Form</td>\n",
       "      <td>1.55</td>\n",
       "    </tr>\n",
       "    <tr>\n",
       "      <th>10</th>\n",
       "      <td>Lead Profile_Potential Lead</td>\n",
       "      <td>1.33</td>\n",
       "    </tr>\n",
       "    <tr>\n",
       "      <th>3</th>\n",
       "      <td>Lead Source_Welingak Website</td>\n",
       "      <td>1.31</td>\n",
       "    </tr>\n",
       "    <tr>\n",
       "      <th>0</th>\n",
       "      <td>Total Time Spent on Website</td>\n",
       "      <td>1.26</td>\n",
       "    </tr>\n",
       "    <tr>\n",
       "      <th>7</th>\n",
       "      <td>What is your current occupation_Student</td>\n",
       "      <td>1.22</td>\n",
       "    </tr>\n",
       "    <tr>\n",
       "      <th>11</th>\n",
       "      <td>Lead Profile_Student of SomeSchool</td>\n",
       "      <td>1.18</td>\n",
       "    </tr>\n",
       "    <tr>\n",
       "      <th>4</th>\n",
       "      <td>Last Activity_Email Bounced</td>\n",
       "      <td>1.16</td>\n",
       "    </tr>\n",
       "    <tr>\n",
       "      <th>13</th>\n",
       "      <td>Last Notable Activity_others</td>\n",
       "      <td>1.08</td>\n",
       "    </tr>\n",
       "    <tr>\n",
       "      <th>9</th>\n",
       "      <td>Lead Profile_Lateral Student</td>\n",
       "      <td>1.01</td>\n",
       "    </tr>\n",
       "  </tbody>\n",
       "</table>\n",
       "</div>"
      ],
      "text/plain": [
       "                                      Features   VIF\n",
       "8   What is your current occupation_Unemployed  3.34\n",
       "5                   Last Activity_Email Opened  2.32\n",
       "12              Last Notable Activity_SMS Sent  1.78\n",
       "2                       Lead Source_Olark Chat  1.76\n",
       "6        Last Activity_Olark Chat Conversation  1.69\n",
       "1                    Lead Origin_Lead Add Form  1.55\n",
       "10                 Lead Profile_Potential Lead  1.33\n",
       "3                 Lead Source_Welingak Website  1.31\n",
       "0                  Total Time Spent on Website  1.26\n",
       "7      What is your current occupation_Student  1.22\n",
       "11          Lead Profile_Student of SomeSchool  1.18\n",
       "4                  Last Activity_Email Bounced  1.16\n",
       "13                Last Notable Activity_others  1.08\n",
       "9                 Lead Profile_Lateral Student  1.01"
      ]
     },
     "execution_count": 113,
     "metadata": {},
     "output_type": "execute_result"
    }
   ],
   "source": [
    "vif = pd.DataFrame()\n",
    "vif['Features'] = X_train[col].columns\n",
    "vif['VIF'] = [variance_inflation_factor(X_train[col].values, i) for i in range(X_train[col].shape[1])]\n",
    "vif['VIF'] = round(vif['VIF'], 2)\n",
    "vif = vif.sort_values(by = \"VIF\", ascending = False)\n",
    "vif"
   ]
  },
  {
   "cell_type": "code",
   "execution_count": 114,
   "id": "1a7d4739",
   "metadata": {},
   "outputs": [
    {
     "data": {
      "text/plain": [
       "302     0.105004\n",
       "6087    0.019904\n",
       "1033    0.154395\n",
       "7656    0.389360\n",
       "3241    0.689638\n",
       "5738    0.070498\n",
       "7366    0.106598\n",
       "3680    0.057671\n",
       "4170    0.670395\n",
       "43      0.099831\n",
       "dtype: float64"
      ]
     },
     "execution_count": 114,
     "metadata": {},
     "output_type": "execute_result"
    }
   ],
   "source": [
    "# Getting the predicted values on the train set\n",
    "y_train_pred = logm6_model.predict(X_train_sm)\n",
    "y_train_pred[:10]"
   ]
  },
  {
   "cell_type": "code",
   "execution_count": 115,
   "id": "89de6d24",
   "metadata": {},
   "outputs": [
    {
     "data": {
      "text/plain": [
       "array([0.10500427, 0.01990444, 0.15439487, 0.38935978, 0.6896382 ,\n",
       "       0.07049793, 0.10659833, 0.05767067, 0.67039511, 0.09983062])"
      ]
     },
     "execution_count": 115,
     "metadata": {},
     "output_type": "execute_result"
    }
   ],
   "source": [
    "y_train_pred = y_train_pred.values.reshape(-1)\n",
    "y_train_pred[:10]"
   ]
  },
  {
   "cell_type": "code",
   "execution_count": 116,
   "id": "f6f846bf",
   "metadata": {},
   "outputs": [
    {
     "data": {
      "text/html": [
       "<div>\n",
       "<style scoped>\n",
       "    .dataframe tbody tr th:only-of-type {\n",
       "        vertical-align: middle;\n",
       "    }\n",
       "\n",
       "    .dataframe tbody tr th {\n",
       "        vertical-align: top;\n",
       "    }\n",
       "\n",
       "    .dataframe thead th {\n",
       "        text-align: right;\n",
       "    }\n",
       "</style>\n",
       "<table border=\"1\" class=\"dataframe\">\n",
       "  <thead>\n",
       "    <tr style=\"text-align: right;\">\n",
       "      <th></th>\n",
       "      <th>Converted</th>\n",
       "      <th>Converted_Prob</th>\n",
       "      <th>Stu_ID</th>\n",
       "    </tr>\n",
       "  </thead>\n",
       "  <tbody>\n",
       "    <tr>\n",
       "      <th>0</th>\n",
       "      <td>0</td>\n",
       "      <td>0.105004</td>\n",
       "      <td>302</td>\n",
       "    </tr>\n",
       "    <tr>\n",
       "      <th>1</th>\n",
       "      <td>0</td>\n",
       "      <td>0.019904</td>\n",
       "      <td>6087</td>\n",
       "    </tr>\n",
       "    <tr>\n",
       "      <th>2</th>\n",
       "      <td>0</td>\n",
       "      <td>0.154395</td>\n",
       "      <td>1033</td>\n",
       "    </tr>\n",
       "    <tr>\n",
       "      <th>3</th>\n",
       "      <td>0</td>\n",
       "      <td>0.389360</td>\n",
       "      <td>7656</td>\n",
       "    </tr>\n",
       "    <tr>\n",
       "      <th>4</th>\n",
       "      <td>1</td>\n",
       "      <td>0.689638</td>\n",
       "      <td>3241</td>\n",
       "    </tr>\n",
       "  </tbody>\n",
       "</table>\n",
       "</div>"
      ],
      "text/plain": [
       "   Converted  Converted_Prob  Stu_ID\n",
       "0          0        0.105004     302\n",
       "1          0        0.019904    6087\n",
       "2          0        0.154395    1033\n",
       "3          0        0.389360    7656\n",
       "4          1        0.689638    3241"
      ]
     },
     "execution_count": 116,
     "metadata": {},
     "output_type": "execute_result"
    }
   ],
   "source": [
    "y_train_pred_final = pd.DataFrame({'Converted':y_train.values, 'Converted_Prob':y_train_pred})\n",
    "y_train_pred_final['Stu_ID'] = y_train.index\n",
    "y_train_pred_final.head()"
   ]
  },
  {
   "cell_type": "code",
   "execution_count": 117,
   "id": "94ca10e6",
   "metadata": {},
   "outputs": [
    {
     "data": {
      "text/html": [
       "<div>\n",
       "<style scoped>\n",
       "    .dataframe tbody tr th:only-of-type {\n",
       "        vertical-align: middle;\n",
       "    }\n",
       "\n",
       "    .dataframe tbody tr th {\n",
       "        vertical-align: top;\n",
       "    }\n",
       "\n",
       "    .dataframe thead th {\n",
       "        text-align: right;\n",
       "    }\n",
       "</style>\n",
       "<table border=\"1\" class=\"dataframe\">\n",
       "  <thead>\n",
       "    <tr style=\"text-align: right;\">\n",
       "      <th></th>\n",
       "      <th>Converted</th>\n",
       "      <th>Converted_Prob</th>\n",
       "      <th>Stu_ID</th>\n",
       "    </tr>\n",
       "  </thead>\n",
       "  <tbody>\n",
       "    <tr>\n",
       "      <th>0</th>\n",
       "      <td>0</td>\n",
       "      <td>0.105004</td>\n",
       "      <td>302</td>\n",
       "    </tr>\n",
       "    <tr>\n",
       "      <th>1</th>\n",
       "      <td>0</td>\n",
       "      <td>0.019904</td>\n",
       "      <td>6087</td>\n",
       "    </tr>\n",
       "    <tr>\n",
       "      <th>2</th>\n",
       "      <td>0</td>\n",
       "      <td>0.154395</td>\n",
       "      <td>1033</td>\n",
       "    </tr>\n",
       "    <tr>\n",
       "      <th>3</th>\n",
       "      <td>0</td>\n",
       "      <td>0.389360</td>\n",
       "      <td>7656</td>\n",
       "    </tr>\n",
       "    <tr>\n",
       "      <th>4</th>\n",
       "      <td>1</td>\n",
       "      <td>0.689638</td>\n",
       "      <td>3241</td>\n",
       "    </tr>\n",
       "    <tr>\n",
       "      <th>...</th>\n",
       "      <td>...</td>\n",
       "      <td>...</td>\n",
       "      <td>...</td>\n",
       "    </tr>\n",
       "    <tr>\n",
       "      <th>6358</th>\n",
       "      <td>0</td>\n",
       "      <td>0.056325</td>\n",
       "      <td>360</td>\n",
       "    </tr>\n",
       "    <tr>\n",
       "      <th>6359</th>\n",
       "      <td>1</td>\n",
       "      <td>0.991652</td>\n",
       "      <td>81</td>\n",
       "    </tr>\n",
       "    <tr>\n",
       "      <th>6360</th>\n",
       "      <td>1</td>\n",
       "      <td>0.132561</td>\n",
       "      <td>8171</td>\n",
       "    </tr>\n",
       "    <tr>\n",
       "      <th>6361</th>\n",
       "      <td>1</td>\n",
       "      <td>0.458437</td>\n",
       "      <td>7048</td>\n",
       "    </tr>\n",
       "    <tr>\n",
       "      <th>6362</th>\n",
       "      <td>0</td>\n",
       "      <td>0.070104</td>\n",
       "      <td>5730</td>\n",
       "    </tr>\n",
       "  </tbody>\n",
       "</table>\n",
       "<p>6363 rows × 3 columns</p>\n",
       "</div>"
      ],
      "text/plain": [
       "      Converted  Converted_Prob  Stu_ID\n",
       "0             0        0.105004     302\n",
       "1             0        0.019904    6087\n",
       "2             0        0.154395    1033\n",
       "3             0        0.389360    7656\n",
       "4             1        0.689638    3241\n",
       "...         ...             ...     ...\n",
       "6358          0        0.056325     360\n",
       "6359          1        0.991652      81\n",
       "6360          1        0.132561    8171\n",
       "6361          1        0.458437    7048\n",
       "6362          0        0.070104    5730\n",
       "\n",
       "[6363 rows x 3 columns]"
      ]
     },
     "execution_count": 117,
     "metadata": {},
     "output_type": "execute_result"
    }
   ],
   "source": [
    "y_train_pred_final"
   ]
  },
  {
   "cell_type": "code",
   "execution_count": 118,
   "id": "785aa5f1",
   "metadata": {},
   "outputs": [
    {
     "data": {
      "text/html": [
       "<div>\n",
       "<style scoped>\n",
       "    .dataframe tbody tr th:only-of-type {\n",
       "        vertical-align: middle;\n",
       "    }\n",
       "\n",
       "    .dataframe tbody tr th {\n",
       "        vertical-align: top;\n",
       "    }\n",
       "\n",
       "    .dataframe thead th {\n",
       "        text-align: right;\n",
       "    }\n",
       "</style>\n",
       "<table border=\"1\" class=\"dataframe\">\n",
       "  <thead>\n",
       "    <tr style=\"text-align: right;\">\n",
       "      <th></th>\n",
       "      <th>Converted</th>\n",
       "      <th>Converted_Prob</th>\n",
       "      <th>Stu_ID</th>\n",
       "      <th>predicted</th>\n",
       "    </tr>\n",
       "  </thead>\n",
       "  <tbody>\n",
       "    <tr>\n",
       "      <th>0</th>\n",
       "      <td>0</td>\n",
       "      <td>0.105004</td>\n",
       "      <td>302</td>\n",
       "      <td>0</td>\n",
       "    </tr>\n",
       "    <tr>\n",
       "      <th>1</th>\n",
       "      <td>0</td>\n",
       "      <td>0.019904</td>\n",
       "      <td>6087</td>\n",
       "      <td>0</td>\n",
       "    </tr>\n",
       "    <tr>\n",
       "      <th>2</th>\n",
       "      <td>0</td>\n",
       "      <td>0.154395</td>\n",
       "      <td>1033</td>\n",
       "      <td>0</td>\n",
       "    </tr>\n",
       "    <tr>\n",
       "      <th>3</th>\n",
       "      <td>0</td>\n",
       "      <td>0.389360</td>\n",
       "      <td>7656</td>\n",
       "      <td>0</td>\n",
       "    </tr>\n",
       "    <tr>\n",
       "      <th>4</th>\n",
       "      <td>1</td>\n",
       "      <td>0.689638</td>\n",
       "      <td>3241</td>\n",
       "      <td>1</td>\n",
       "    </tr>\n",
       "  </tbody>\n",
       "</table>\n",
       "</div>"
      ],
      "text/plain": [
       "   Converted  Converted_Prob  Stu_ID  predicted\n",
       "0          0        0.105004     302          0\n",
       "1          0        0.019904    6087          0\n",
       "2          0        0.154395    1033          0\n",
       "3          0        0.389360    7656          0\n",
       "4          1        0.689638    3241          1"
      ]
     },
     "execution_count": 118,
     "metadata": {},
     "output_type": "execute_result"
    }
   ],
   "source": [
    "y_train_pred_final['predicted'] = y_train_pred_final.Converted_Prob.map(lambda x: 1 if x > 0.5 else 0)\n",
    "\n",
    "# Let's see the head\n",
    "y_train_pred_final.head()"
   ]
  },
  {
   "cell_type": "code",
   "execution_count": 119,
   "id": "42435614",
   "metadata": {},
   "outputs": [
    {
     "data": {
      "text/html": [
       "<div>\n",
       "<style scoped>\n",
       "    .dataframe tbody tr th:only-of-type {\n",
       "        vertical-align: middle;\n",
       "    }\n",
       "\n",
       "    .dataframe tbody tr th {\n",
       "        vertical-align: top;\n",
       "    }\n",
       "\n",
       "    .dataframe thead th {\n",
       "        text-align: right;\n",
       "    }\n",
       "</style>\n",
       "<table border=\"1\" class=\"dataframe\">\n",
       "  <thead>\n",
       "    <tr style=\"text-align: right;\">\n",
       "      <th></th>\n",
       "      <th>Converted</th>\n",
       "      <th>Converted_Prob</th>\n",
       "      <th>Stu_ID</th>\n",
       "      <th>predicted</th>\n",
       "    </tr>\n",
       "  </thead>\n",
       "  <tbody>\n",
       "    <tr>\n",
       "      <th>0</th>\n",
       "      <td>0</td>\n",
       "      <td>0.105004</td>\n",
       "      <td>302</td>\n",
       "      <td>0</td>\n",
       "    </tr>\n",
       "    <tr>\n",
       "      <th>1</th>\n",
       "      <td>0</td>\n",
       "      <td>0.019904</td>\n",
       "      <td>6087</td>\n",
       "      <td>0</td>\n",
       "    </tr>\n",
       "    <tr>\n",
       "      <th>2</th>\n",
       "      <td>0</td>\n",
       "      <td>0.154395</td>\n",
       "      <td>1033</td>\n",
       "      <td>0</td>\n",
       "    </tr>\n",
       "    <tr>\n",
       "      <th>3</th>\n",
       "      <td>0</td>\n",
       "      <td>0.389360</td>\n",
       "      <td>7656</td>\n",
       "      <td>0</td>\n",
       "    </tr>\n",
       "    <tr>\n",
       "      <th>4</th>\n",
       "      <td>1</td>\n",
       "      <td>0.689638</td>\n",
       "      <td>3241</td>\n",
       "      <td>1</td>\n",
       "    </tr>\n",
       "    <tr>\n",
       "      <th>5</th>\n",
       "      <td>0</td>\n",
       "      <td>0.070498</td>\n",
       "      <td>5738</td>\n",
       "      <td>0</td>\n",
       "    </tr>\n",
       "    <tr>\n",
       "      <th>6</th>\n",
       "      <td>0</td>\n",
       "      <td>0.106598</td>\n",
       "      <td>7366</td>\n",
       "      <td>0</td>\n",
       "    </tr>\n",
       "    <tr>\n",
       "      <th>7</th>\n",
       "      <td>0</td>\n",
       "      <td>0.057671</td>\n",
       "      <td>3680</td>\n",
       "      <td>0</td>\n",
       "    </tr>\n",
       "    <tr>\n",
       "      <th>8</th>\n",
       "      <td>1</td>\n",
       "      <td>0.670395</td>\n",
       "      <td>4170</td>\n",
       "      <td>1</td>\n",
       "    </tr>\n",
       "    <tr>\n",
       "      <th>9</th>\n",
       "      <td>0</td>\n",
       "      <td>0.099831</td>\n",
       "      <td>43</td>\n",
       "      <td>0</td>\n",
       "    </tr>\n",
       "    <tr>\n",
       "      <th>10</th>\n",
       "      <td>1</td>\n",
       "      <td>0.773395</td>\n",
       "      <td>242</td>\n",
       "      <td>1</td>\n",
       "    </tr>\n",
       "    <tr>\n",
       "      <th>11</th>\n",
       "      <td>0</td>\n",
       "      <td>0.843565</td>\n",
       "      <td>8418</td>\n",
       "      <td>1</td>\n",
       "    </tr>\n",
       "    <tr>\n",
       "      <th>12</th>\n",
       "      <td>1</td>\n",
       "      <td>0.984396</td>\n",
       "      <td>8801</td>\n",
       "      <td>1</td>\n",
       "    </tr>\n",
       "    <tr>\n",
       "      <th>13</th>\n",
       "      <td>0</td>\n",
       "      <td>0.081491</td>\n",
       "      <td>2309</td>\n",
       "      <td>0</td>\n",
       "    </tr>\n",
       "    <tr>\n",
       "      <th>14</th>\n",
       "      <td>0</td>\n",
       "      <td>0.101836</td>\n",
       "      <td>6782</td>\n",
       "      <td>0</td>\n",
       "    </tr>\n",
       "    <tr>\n",
       "      <th>15</th>\n",
       "      <td>0</td>\n",
       "      <td>0.038707</td>\n",
       "      <td>6285</td>\n",
       "      <td>0</td>\n",
       "    </tr>\n",
       "    <tr>\n",
       "      <th>16</th>\n",
       "      <td>0</td>\n",
       "      <td>0.244042</td>\n",
       "      <td>6443</td>\n",
       "      <td>0</td>\n",
       "    </tr>\n",
       "    <tr>\n",
       "      <th>17</th>\n",
       "      <td>1</td>\n",
       "      <td>0.714848</td>\n",
       "      <td>6297</td>\n",
       "      <td>1</td>\n",
       "    </tr>\n",
       "    <tr>\n",
       "      <th>18</th>\n",
       "      <td>0</td>\n",
       "      <td>0.293132</td>\n",
       "      <td>7861</td>\n",
       "      <td>0</td>\n",
       "    </tr>\n",
       "    <tr>\n",
       "      <th>19</th>\n",
       "      <td>0</td>\n",
       "      <td>0.619334</td>\n",
       "      <td>2229</td>\n",
       "      <td>1</td>\n",
       "    </tr>\n",
       "    <tr>\n",
       "      <th>20</th>\n",
       "      <td>1</td>\n",
       "      <td>0.639195</td>\n",
       "      <td>831</td>\n",
       "      <td>1</td>\n",
       "    </tr>\n",
       "    <tr>\n",
       "      <th>21</th>\n",
       "      <td>0</td>\n",
       "      <td>0.720955</td>\n",
       "      <td>3039</td>\n",
       "      <td>1</td>\n",
       "    </tr>\n",
       "    <tr>\n",
       "      <th>22</th>\n",
       "      <td>0</td>\n",
       "      <td>0.414948</td>\n",
       "      <td>6336</td>\n",
       "      <td>0</td>\n",
       "    </tr>\n",
       "    <tr>\n",
       "      <th>23</th>\n",
       "      <td>0</td>\n",
       "      <td>0.110413</td>\n",
       "      <td>8477</td>\n",
       "      <td>0</td>\n",
       "    </tr>\n",
       "    <tr>\n",
       "      <th>24</th>\n",
       "      <td>0</td>\n",
       "      <td>0.056325</td>\n",
       "      <td>368</td>\n",
       "      <td>0</td>\n",
       "    </tr>\n",
       "    <tr>\n",
       "      <th>25</th>\n",
       "      <td>1</td>\n",
       "      <td>0.375765</td>\n",
       "      <td>3824</td>\n",
       "      <td>0</td>\n",
       "    </tr>\n",
       "    <tr>\n",
       "      <th>26</th>\n",
       "      <td>1</td>\n",
       "      <td>0.998526</td>\n",
       "      <td>994</td>\n",
       "      <td>1</td>\n",
       "    </tr>\n",
       "    <tr>\n",
       "      <th>27</th>\n",
       "      <td>0</td>\n",
       "      <td>0.373215</td>\n",
       "      <td>4274</td>\n",
       "      <td>0</td>\n",
       "    </tr>\n",
       "    <tr>\n",
       "      <th>28</th>\n",
       "      <td>1</td>\n",
       "      <td>0.528370</td>\n",
       "      <td>5345</td>\n",
       "      <td>1</td>\n",
       "    </tr>\n",
       "    <tr>\n",
       "      <th>29</th>\n",
       "      <td>0</td>\n",
       "      <td>0.097506</td>\n",
       "      <td>7998</td>\n",
       "      <td>0</td>\n",
       "    </tr>\n",
       "  </tbody>\n",
       "</table>\n",
       "</div>"
      ],
      "text/plain": [
       "    Converted  Converted_Prob  Stu_ID  predicted\n",
       "0           0        0.105004     302          0\n",
       "1           0        0.019904    6087          0\n",
       "2           0        0.154395    1033          0\n",
       "3           0        0.389360    7656          0\n",
       "4           1        0.689638    3241          1\n",
       "5           0        0.070498    5738          0\n",
       "6           0        0.106598    7366          0\n",
       "7           0        0.057671    3680          0\n",
       "8           1        0.670395    4170          1\n",
       "9           0        0.099831      43          0\n",
       "10          1        0.773395     242          1\n",
       "11          0        0.843565    8418          1\n",
       "12          1        0.984396    8801          1\n",
       "13          0        0.081491    2309          0\n",
       "14          0        0.101836    6782          0\n",
       "15          0        0.038707    6285          0\n",
       "16          0        0.244042    6443          0\n",
       "17          1        0.714848    6297          1\n",
       "18          0        0.293132    7861          0\n",
       "19          0        0.619334    2229          1\n",
       "20          1        0.639195     831          1\n",
       "21          0        0.720955    3039          1\n",
       "22          0        0.414948    6336          0\n",
       "23          0        0.110413    8477          0\n",
       "24          0        0.056325     368          0\n",
       "25          1        0.375765    3824          0\n",
       "26          1        0.998526     994          1\n",
       "27          0        0.373215    4274          0\n",
       "28          1        0.528370    5345          1\n",
       "29          0        0.097506    7998          0"
      ]
     },
     "execution_count": 119,
     "metadata": {},
     "output_type": "execute_result"
    }
   ],
   "source": [
    "y_train_pred_final.head(30)"
   ]
  },
  {
   "cell_type": "markdown",
   "id": "87f19782",
   "metadata": {},
   "source": [
    "### Confusion matrix \n"
   ]
  },
  {
   "cell_type": "code",
   "execution_count": 120,
   "id": "bc62aa85",
   "metadata": {},
   "outputs": [
    {
     "name": "stdout",
     "output_type": "stream",
     "text": [
      "[[3506  429]\n",
      " [ 631 1797]]\n"
     ]
    }
   ],
   "source": [
    "confusion = metrics.confusion_matrix(y_train_pred_final.Converted, y_train_pred_final.predicted )\n",
    "print(confusion)"
   ]
  },
  {
   "cell_type": "code",
   "execution_count": 121,
   "id": "8e1ffc7a",
   "metadata": {},
   "outputs": [
    {
     "name": "stdout",
     "output_type": "stream",
     "text": [
      "0.8334119126198334\n"
     ]
    }
   ],
   "source": [
    "print(metrics.accuracy_score(y_train_pred_final.Converted, y_train_pred_final.predicted))"
   ]
  },
  {
   "cell_type": "code",
   "execution_count": 122,
   "id": "5b6a7139",
   "metadata": {},
   "outputs": [],
   "source": [
    "TP = confusion[1,1] # true positive \n",
    "TN = confusion[0,0] # true negatives\n",
    "FP = confusion[0,1] # false positives\n",
    "FN = confusion[1,0] # false negatives"
   ]
  },
  {
   "cell_type": "code",
   "execution_count": 123,
   "id": "f157d8ad",
   "metadata": {},
   "outputs": [
    {
     "data": {
      "text/plain": [
       "0.7401153212520593"
      ]
     },
     "execution_count": 123,
     "metadata": {},
     "output_type": "execute_result"
    }
   ],
   "source": [
    "TP / float(TP+FN)"
   ]
  },
  {
   "cell_type": "code",
   "execution_count": 124,
   "id": "1fff34b8",
   "metadata": {},
   "outputs": [
    {
     "data": {
      "text/plain": [
       "0.8909783989834815"
      ]
     },
     "execution_count": 124,
     "metadata": {},
     "output_type": "execute_result"
    }
   ],
   "source": [
    "TN / float(TN+FP)"
   ]
  },
  {
   "cell_type": "code",
   "execution_count": 125,
   "id": "27132f85",
   "metadata": {},
   "outputs": [
    {
     "name": "stdout",
     "output_type": "stream",
     "text": [
      "0.10902160101651842\n"
     ]
    }
   ],
   "source": [
    "  print(FP/ float(TN+FP))"
   ]
  },
  {
   "cell_type": "code",
   "execution_count": 126,
   "id": "cb88622e",
   "metadata": {},
   "outputs": [
    {
     "name": "stdout",
     "output_type": "stream",
     "text": [
      "0.807277628032345\n"
     ]
    }
   ],
   "source": [
    "print (TP / float(TP+FP))"
   ]
  },
  {
   "cell_type": "code",
   "execution_count": 127,
   "id": "30b41301",
   "metadata": {},
   "outputs": [
    {
     "name": "stdout",
     "output_type": "stream",
     "text": [
      "0.8474740149867054\n"
     ]
    }
   ],
   "source": [
    "print (TN / float(TN+ FN))"
   ]
  },
  {
   "cell_type": "code",
   "execution_count": 128,
   "id": "9c84045b",
   "metadata": {},
   "outputs": [],
   "source": [
    "def draw_roc( actual, probs ):\n",
    "    fpr, tpr, thresholds = metrics.roc_curve( actual, probs,\n",
    "                                              drop_intermediate = False )\n",
    "    auc_score = metrics.roc_auc_score( actual, probs )\n",
    "    plt.figure(figsize=(5, 5))\n",
    "    plt.plot( fpr, tpr, label='ROC curve (area = %0.2f)' % auc_score )\n",
    "    plt.plot([0, 1], [0, 1], 'k--')\n",
    "    plt.xlim([0.0, 1.0])\n",
    "    plt.ylim([0.0, 1.05])\n",
    "    plt.xlabel('False Positive Rate or [1 - True Negative Rate]')\n",
    "    plt.ylabel('True Positive Rate')\n",
    "    plt.title('Receiver operating characteristic example')\n",
    "    plt.legend(loc=\"lower right\")\n",
    "    plt.show()\n",
    "\n",
    "    return None"
   ]
  },
  {
   "cell_type": "code",
   "execution_count": 129,
   "id": "461aa6d2",
   "metadata": {},
   "outputs": [],
   "source": [
    "fpr, tpr, thresholds = metrics.roc_curve( y_train_pred_final.Converted, y_train_pred_final.Converted_Prob, drop_intermediate = False )"
   ]
  },
  {
   "cell_type": "code",
   "execution_count": 130,
   "id": "47d0e136",
   "metadata": {},
   "outputs": [
    {
     "data": {
      "image/png": "[encoded data removed]",
      "text/plain": [
       "<Figure size 360x360 with 1 Axes>"
      ]
     },
     "metadata": {
      "needs_background": "light"
     },
     "output_type": "display_data"
    }
   ],
   "source": [
    "draw_roc(y_train_pred_final.Converted, y_train_pred_final.Converted_Prob)"
   ]
  },
  {
   "cell_type": "code",
   "execution_count": 131,
   "id": "0f5ba74f",
   "metadata": {},
   "outputs": [
    {
     "data": {
      "text/html": [
       "<div>\n",
       "<style scoped>\n",
       "    .dataframe tbody tr th:only-of-type {\n",
       "        vertical-align: middle;\n",
       "    }\n",
       "\n",
       "    .dataframe tbody tr th {\n",
       "        vertical-align: top;\n",
       "    }\n",
       "\n",
       "    .dataframe thead th {\n",
       "        text-align: right;\n",
       "    }\n",
       "</style>\n",
       "<table border=\"1\" class=\"dataframe\">\n",
       "  <thead>\n",
       "    <tr style=\"text-align: right;\">\n",
       "      <th></th>\n",
       "      <th>Converted</th>\n",
       "      <th>Converted_Prob</th>\n",
       "      <th>Stu_ID</th>\n",
       "      <th>predicted</th>\n",
       "      <th>0.0</th>\n",
       "      <th>0.1</th>\n",
       "      <th>0.2</th>\n",
       "      <th>0.3</th>\n",
       "      <th>0.4</th>\n",
       "      <th>0.5</th>\n",
       "      <th>0.6</th>\n",
       "      <th>0.7</th>\n",
       "      <th>0.8</th>\n",
       "      <th>0.9</th>\n",
       "    </tr>\n",
       "  </thead>\n",
       "  <tbody>\n",
       "    <tr>\n",
       "      <th>0</th>\n",
       "      <td>0</td>\n",
       "      <td>0.105004</td>\n",
       "      <td>302</td>\n",
       "      <td>0</td>\n",
       "      <td>1</td>\n",
       "      <td>1</td>\n",
       "      <td>0</td>\n",
       "      <td>0</td>\n",
       "      <td>0</td>\n",
       "      <td>0</td>\n",
       "      <td>0</td>\n",
       "      <td>0</td>\n",
       "      <td>0</td>\n",
       "      <td>0</td>\n",
       "    </tr>\n",
       "    <tr>\n",
       "      <th>1</th>\n",
       "      <td>0</td>\n",
       "      <td>0.019904</td>\n",
       "      <td>6087</td>\n",
       "      <td>0</td>\n",
       "      <td>1</td>\n",
       "      <td>0</td>\n",
       "      <td>0</td>\n",
       "      <td>0</td>\n",
       "      <td>0</td>\n",
       "      <td>0</td>\n",
       "      <td>0</td>\n",
       "      <td>0</td>\n",
       "      <td>0</td>\n",
       "      <td>0</td>\n",
       "    </tr>\n",
       "    <tr>\n",
       "      <th>2</th>\n",
       "      <td>0</td>\n",
       "      <td>0.154395</td>\n",
       "      <td>1033</td>\n",
       "      <td>0</td>\n",
       "      <td>1</td>\n",
       "      <td>1</td>\n",
       "      <td>0</td>\n",
       "      <td>0</td>\n",
       "      <td>0</td>\n",
       "      <td>0</td>\n",
       "      <td>0</td>\n",
       "      <td>0</td>\n",
       "      <td>0</td>\n",
       "      <td>0</td>\n",
       "    </tr>\n",
       "    <tr>\n",
       "      <th>3</th>\n",
       "      <td>0</td>\n",
       "      <td>0.389360</td>\n",
       "      <td>7656</td>\n",
       "      <td>0</td>\n",
       "      <td>1</td>\n",
       "      <td>1</td>\n",
       "      <td>1</td>\n",
       "      <td>1</td>\n",
       "      <td>0</td>\n",
       "      <td>0</td>\n",
       "      <td>0</td>\n",
       "      <td>0</td>\n",
       "      <td>0</td>\n",
       "      <td>0</td>\n",
       "    </tr>\n",
       "    <tr>\n",
       "      <th>4</th>\n",
       "      <td>1</td>\n",
       "      <td>0.689638</td>\n",
       "      <td>3241</td>\n",
       "      <td>1</td>\n",
       "      <td>1</td>\n",
       "      <td>1</td>\n",
       "      <td>1</td>\n",
       "      <td>1</td>\n",
       "      <td>1</td>\n",
       "      <td>1</td>\n",
       "      <td>1</td>\n",
       "      <td>0</td>\n",
       "      <td>0</td>\n",
       "      <td>0</td>\n",
       "    </tr>\n",
       "  </tbody>\n",
       "</table>\n",
       "</div>"
      ],
      "text/plain": [
       "   Converted  Converted_Prob  Stu_ID  predicted  0.0  0.1  0.2  0.3  0.4  0.5  \\\n",
       "0          0        0.105004     302          0    1    1    0    0    0    0   \n",
       "1          0        0.019904    6087          0    1    0    0    0    0    0   \n",
       "2          0        0.154395    1033          0    1    1    0    0    0    0   \n",
       "3          0        0.389360    7656          0    1    1    1    1    0    0   \n",
       "4          1        0.689638    3241          1    1    1    1    1    1    1   \n",
       "\n",
       "   0.6  0.7  0.8  0.9  \n",
       "0    0    0    0    0  \n",
       "1    0    0    0    0  \n",
       "2    0    0    0    0  \n",
       "3    0    0    0    0  \n",
       "4    1    0    0    0  "
      ]
     },
     "execution_count": 131,
     "metadata": {},
     "output_type": "execute_result"
    }
   ],
   "source": [
    "# Let's create columns with different probability cutoffs \n",
    "numbers = [float(x)/10 for x in range(10)]\n",
    "for i in numbers:\n",
    "    y_train_pred_final[i]= y_train_pred_final.Converted_Prob.map(lambda x: 1 if x > i else 0)\n",
    "y_train_pred_final.head()"
   ]
  },
  {
   "cell_type": "code",
   "execution_count": 132,
   "id": "a069bcad",
   "metadata": {},
   "outputs": [
    {
     "name": "stdout",
     "output_type": "stream",
     "text": [
      "     prob  accuracy     sensi     speci\n",
      "0.0   0.0  0.381581  1.000000  0.000000\n",
      "0.1   0.1  0.674053  0.962109  0.496315\n",
      "0.2   0.2  0.759862  0.931219  0.654130\n",
      "0.3   0.3  0.815339  0.858320  0.788818\n",
      "0.4   0.4  0.830269  0.792834  0.853367\n",
      "0.5   0.5  0.833412  0.740115  0.890978\n",
      "0.6   0.6  0.818325  0.643328  0.926302\n",
      "0.7   0.7  0.803237  0.566310  0.949428\n",
      "0.8   0.8  0.776678  0.461285  0.971283\n",
      "0.9   0.9  0.732516  0.317957  0.988310\n"
     ]
    }
   ],
   "source": [
    "# Now let's calculate accuracy sensitivity and specificity for various probability cutoffs.\n",
    "cutoff_df = pd.DataFrame( columns = ['prob','accuracy','sensi','speci'])\n",
    "from sklearn.metrics import confusion_matrix\n",
    "\n",
    "# TP = confusion[1,1] # true positive \n",
    "# TN = confusion[0,0] # true negatives\n",
    "# FP = confusion[0,1] # false positives\n",
    "# FN = confusion[1,0] # false negatives\n",
    "\n",
    "num = [0.0,0.1,0.2,0.3,0.4,0.5,0.6,0.7,0.8,0.9]\n",
    "for i in num:\n",
    "    cm1 = metrics.confusion_matrix(y_train_pred_final.Converted, y_train_pred_final[i] )\n",
    "    total1=sum(sum(cm1))\n",
    "    accuracy = (cm1[0,0]+cm1[1,1])/total1\n",
    "    \n",
    "    speci = cm1[0,0]/(cm1[0,0]+cm1[0,1])\n",
    "    sensi = cm1[1,1]/(cm1[1,0]+cm1[1,1])\n",
    "    cutoff_df.loc[i] =[ i ,accuracy,sensi,speci]\n",
    "print(cutoff_df)"
   ]
  },
  {
   "cell_type": "code",
   "execution_count": 133,
   "id": "3c85fc87",
   "metadata": {},
   "outputs": [
    {
     "data": {
      "image/png": "[encoded data removed]",
      "text/plain": [
       "<Figure size 432x288 with 1 Axes>"
      ]
     },
     "metadata": {
      "needs_background": "light"
     },
     "output_type": "display_data"
    }
   ],
   "source": [
    "cutoff_df.plot.line(x='prob', y=['accuracy','sensi','speci'])\n",
    "plt.show()"
   ]
  },
  {
   "cell_type": "code",
   "execution_count": 134,
   "id": "73f0352a",
   "metadata": {},
   "outputs": [
    {
     "data": {
      "text/html": [
       "<div>\n",
       "<style scoped>\n",
       "    .dataframe tbody tr th:only-of-type {\n",
       "        vertical-align: middle;\n",
       "    }\n",
       "\n",
       "    .dataframe tbody tr th {\n",
       "        vertical-align: top;\n",
       "    }\n",
       "\n",
       "    .dataframe thead th {\n",
       "        text-align: right;\n",
       "    }\n",
       "</style>\n",
       "<table border=\"1\" class=\"dataframe\">\n",
       "  <thead>\n",
       "    <tr style=\"text-align: right;\">\n",
       "      <th></th>\n",
       "      <th>Converted</th>\n",
       "      <th>Converted_Prob</th>\n",
       "      <th>Stu_ID</th>\n",
       "      <th>predicted</th>\n",
       "      <th>0.0</th>\n",
       "      <th>0.1</th>\n",
       "      <th>0.2</th>\n",
       "      <th>0.3</th>\n",
       "      <th>0.4</th>\n",
       "      <th>0.5</th>\n",
       "      <th>0.6</th>\n",
       "      <th>0.7</th>\n",
       "      <th>0.8</th>\n",
       "      <th>0.9</th>\n",
       "      <th>final_predicted</th>\n",
       "    </tr>\n",
       "  </thead>\n",
       "  <tbody>\n",
       "    <tr>\n",
       "      <th>0</th>\n",
       "      <td>0</td>\n",
       "      <td>0.105004</td>\n",
       "      <td>302</td>\n",
       "      <td>0</td>\n",
       "      <td>1</td>\n",
       "      <td>1</td>\n",
       "      <td>0</td>\n",
       "      <td>0</td>\n",
       "      <td>0</td>\n",
       "      <td>0</td>\n",
       "      <td>0</td>\n",
       "      <td>0</td>\n",
       "      <td>0</td>\n",
       "      <td>0</td>\n",
       "      <td>0</td>\n",
       "    </tr>\n",
       "    <tr>\n",
       "      <th>1</th>\n",
       "      <td>0</td>\n",
       "      <td>0.019904</td>\n",
       "      <td>6087</td>\n",
       "      <td>0</td>\n",
       "      <td>1</td>\n",
       "      <td>0</td>\n",
       "      <td>0</td>\n",
       "      <td>0</td>\n",
       "      <td>0</td>\n",
       "      <td>0</td>\n",
       "      <td>0</td>\n",
       "      <td>0</td>\n",
       "      <td>0</td>\n",
       "      <td>0</td>\n",
       "      <td>0</td>\n",
       "    </tr>\n",
       "    <tr>\n",
       "      <th>2</th>\n",
       "      <td>0</td>\n",
       "      <td>0.154395</td>\n",
       "      <td>1033</td>\n",
       "      <td>0</td>\n",
       "      <td>1</td>\n",
       "      <td>1</td>\n",
       "      <td>0</td>\n",
       "      <td>0</td>\n",
       "      <td>0</td>\n",
       "      <td>0</td>\n",
       "      <td>0</td>\n",
       "      <td>0</td>\n",
       "      <td>0</td>\n",
       "      <td>0</td>\n",
       "      <td>0</td>\n",
       "    </tr>\n",
       "    <tr>\n",
       "      <th>3</th>\n",
       "      <td>0</td>\n",
       "      <td>0.389360</td>\n",
       "      <td>7656</td>\n",
       "      <td>0</td>\n",
       "      <td>1</td>\n",
       "      <td>1</td>\n",
       "      <td>1</td>\n",
       "      <td>1</td>\n",
       "      <td>0</td>\n",
       "      <td>0</td>\n",
       "      <td>0</td>\n",
       "      <td>0</td>\n",
       "      <td>0</td>\n",
       "      <td>0</td>\n",
       "      <td>1</td>\n",
       "    </tr>\n",
       "    <tr>\n",
       "      <th>4</th>\n",
       "      <td>1</td>\n",
       "      <td>0.689638</td>\n",
       "      <td>3241</td>\n",
       "      <td>1</td>\n",
       "      <td>1</td>\n",
       "      <td>1</td>\n",
       "      <td>1</td>\n",
       "      <td>1</td>\n",
       "      <td>1</td>\n",
       "      <td>1</td>\n",
       "      <td>1</td>\n",
       "      <td>0</td>\n",
       "      <td>0</td>\n",
       "      <td>0</td>\n",
       "      <td>1</td>\n",
       "    </tr>\n",
       "  </tbody>\n",
       "</table>\n",
       "</div>"
      ],
      "text/plain": [
       "   Converted  Converted_Prob  Stu_ID  predicted  0.0  0.1  0.2  0.3  0.4  0.5  \\\n",
       "0          0        0.105004     302          0    1    1    0    0    0    0   \n",
       "1          0        0.019904    6087          0    1    0    0    0    0    0   \n",
       "2          0        0.154395    1033          0    1    1    0    0    0    0   \n",
       "3          0        0.389360    7656          0    1    1    1    1    0    0   \n",
       "4          1        0.689638    3241          1    1    1    1    1    1    1   \n",
       "\n",
       "   0.6  0.7  0.8  0.9  final_predicted  \n",
       "0    0    0    0    0                0  \n",
       "1    0    0    0    0                0  \n",
       "2    0    0    0    0                0  \n",
       "3    0    0    0    0                1  \n",
       "4    1    0    0    0                1  "
      ]
     },
     "execution_count": 134,
     "metadata": {},
     "output_type": "execute_result"
    }
   ],
   "source": [
    "y_train_pred_final['final_predicted'] = y_train_pred_final.Converted_Prob.map( lambda x: 1 if x > 0.35 else 0)\n",
    "\n",
    "y_train_pred_final.head()"
   ]
  },
  {
   "cell_type": "code",
   "execution_count": 135,
   "id": "f423d06e",
   "metadata": {},
   "outputs": [
    {
     "data": {
      "text/plain": [
       "0.8244538739588244"
      ]
     },
     "execution_count": 135,
     "metadata": {},
     "output_type": "execute_result"
    }
   ],
   "source": [
    "# Evaluating the overall Accuracy for the model \n",
    "metrics.accuracy_score(y_train_pred_final.Converted, y_train_pred_final.final_predicted)"
   ]
  },
  {
   "cell_type": "code",
   "execution_count": 136,
   "id": "a6fbf0e5",
   "metadata": {},
   "outputs": [
    {
     "data": {
      "text/plain": [
       "array([[3244,  691],\n",
       "       [ 426, 2002]], dtype=int64)"
      ]
     },
     "execution_count": 136,
     "metadata": {},
     "output_type": "execute_result"
    }
   ],
   "source": [
    "confusion2 = metrics.confusion_matrix(y_train_pred_final.Converted, y_train_pred_final.final_predicted )\n",
    "confusion2"
   ]
  },
  {
   "cell_type": "code",
   "execution_count": 137,
   "id": "a0b60840",
   "metadata": {},
   "outputs": [],
   "source": [
    "TP = confusion2[1,1] # true positive \n",
    "TN = confusion2[0,0] # true negatives\n",
    "FP = confusion2[0,1] # false positives\n",
    "FN = confusion2[1,0] # false negatives"
   ]
  },
  {
   "cell_type": "code",
   "execution_count": 138,
   "id": "0d5cbc06",
   "metadata": {},
   "outputs": [
    {
     "data": {
      "text/plain": [
       "0.8245469522240527"
      ]
     },
     "execution_count": 138,
     "metadata": {},
     "output_type": "execute_result"
    }
   ],
   "source": [
    "# Evaluating the the sensitivity of  model\n",
    "TP / float(TP+FN)"
   ]
  },
  {
   "cell_type": "code",
   "execution_count": 139,
   "id": "c15a47fe",
   "metadata": {},
   "outputs": [
    {
     "data": {
      "text/plain": [
       "0.8243964421855147"
      ]
     },
     "execution_count": 139,
     "metadata": {},
     "output_type": "execute_result"
    }
   ],
   "source": [
    "TN / float(TN+FP)"
   ]
  },
  {
   "cell_type": "code",
   "execution_count": 140,
   "id": "a65e13f2",
   "metadata": {},
   "outputs": [
    {
     "name": "stdout",
     "output_type": "stream",
     "text": [
      "0.1756035578144854\n"
     ]
    }
   ],
   "source": [
    "print(FP/ float(TN+FP))"
   ]
  },
  {
   "cell_type": "code",
   "execution_count": 141,
   "id": "69054ea3",
   "metadata": {},
   "outputs": [
    {
     "name": "stdout",
     "output_type": "stream",
     "text": [
      "0.7434088377274415\n"
     ]
    }
   ],
   "source": [
    "print (TP / float(TP+FP))"
   ]
  },
  {
   "cell_type": "code",
   "execution_count": 142,
   "id": "f5ca4c78",
   "metadata": {},
   "outputs": [
    {
     "name": "stdout",
     "output_type": "stream",
     "text": [
      "0.8839237057220708\n"
     ]
    }
   ],
   "source": [
    "print (TN / float(TN+ FN))"
   ]
  },
  {
   "cell_type": "markdown",
   "id": "9e90ce67",
   "metadata": {},
   "source": [
    "### Recall\n",
    "TP / TP + FN"
   ]
  },
  {
   "cell_type": "code",
   "execution_count": 143,
   "id": "5562c932",
   "metadata": {},
   "outputs": [
    {
     "data": {
      "text/plain": [
       "0.807277628032345"
      ]
     },
     "execution_count": 143,
     "metadata": {},
     "output_type": "execute_result"
    }
   ],
   "source": [
    "confusion[1,1]/(confusion[0,1]+confusion[1,1])"
   ]
  },
  {
   "cell_type": "code",
   "execution_count": 144,
   "id": "050fb103",
   "metadata": {},
   "outputs": [],
   "source": [
    "from sklearn.metrics import precision_score, recall_score"
   ]
  },
  {
   "cell_type": "code",
   "execution_count": 145,
   "id": "16967414",
   "metadata": {},
   "outputs": [
    {
     "data": {
      "text/plain": [
       "0.807277628032345"
      ]
     },
     "execution_count": 145,
     "metadata": {},
     "output_type": "execute_result"
    }
   ],
   "source": [
    "precision_score(y_train_pred_final.Converted, y_train_pred_final.predicted)"
   ]
  },
  {
   "cell_type": "code",
   "execution_count": 146,
   "id": "07f3056f",
   "metadata": {},
   "outputs": [
    {
     "data": {
      "text/plain": [
       "0.7401153212520593"
      ]
     },
     "execution_count": 146,
     "metadata": {},
     "output_type": "execute_result"
    }
   ],
   "source": [
    "recall_score(y_train_pred_final.Converted, y_train_pred_final.predicted)"
   ]
  },
  {
   "cell_type": "markdown",
   "id": "283e1691",
   "metadata": {},
   "source": [
    "### Precision and recall tradeoff"
   ]
  },
  {
   "cell_type": "code",
   "execution_count": 147,
   "id": "79d92110",
   "metadata": {},
   "outputs": [],
   "source": [
    "from sklearn.metrics import precision_recall_curve"
   ]
  },
  {
   "cell_type": "code",
   "execution_count": 148,
   "id": "fbeb3396",
   "metadata": {},
   "outputs": [
    {
     "data": {
      "text/plain": [
       "(0       0\n",
       " 1       0\n",
       " 2       0\n",
       " 3       0\n",
       " 4       1\n",
       "        ..\n",
       " 6358    0\n",
       " 6359    1\n",
       " 6360    1\n",
       " 6361    1\n",
       " 6362    0\n",
       " Name: Converted, Length: 6363, dtype: int64,\n",
       " 0       0\n",
       " 1       0\n",
       " 2       0\n",
       " 3       0\n",
       " 4       1\n",
       "        ..\n",
       " 6358    0\n",
       " 6359    1\n",
       " 6360    0\n",
       " 6361    0\n",
       " 6362    0\n",
       " Name: predicted, Length: 6363, dtype: int64)"
      ]
     },
     "execution_count": 148,
     "metadata": {},
     "output_type": "execute_result"
    }
   ],
   "source": [
    "y_train_pred_final.Converted, y_train_pred_final.predicted"
   ]
  },
  {
   "cell_type": "code",
   "execution_count": 149,
   "id": "8c3143ce",
   "metadata": {},
   "outputs": [],
   "source": [
    "p, r, thresholds = precision_recall_curve(y_train_pred_final.Converted, y_train_pred_final.Converted_Prob)"
   ]
  },
  {
   "cell_type": "code",
   "execution_count": 150,
   "id": "d85d3422",
   "metadata": {},
   "outputs": [
    {
     "data": {
      "image/png": "[encoded data removed]",
      "text/plain": [
       "<Figure size 432x288 with 1 Axes>"
      ]
     },
     "metadata": {
      "needs_background": "light"
     },
     "output_type": "display_data"
    }
   ],
   "source": [
    "plt.plot(thresholds, p[:-1], \"g-\")\n",
    "plt.plot(thresholds, r[:-1], \"r-\")\n",
    "plt.show()"
   ]
  },
  {
   "cell_type": "markdown",
   "id": "cfd25be2",
   "metadata": {},
   "source": [
    "###  predictions on the test set"
   ]
  },
  {
   "cell_type": "code",
   "execution_count": 151,
   "id": "05760ee1",
   "metadata": {},
   "outputs": [],
   "source": [
    "X_test[[\"TotalVisits\",\"Total Time Spent on Website\",\"Page Views Per Visit\"]] = scaler.transform(X_test[[\"TotalVisits\",\"Total Time Spent on Website\",\"Page Views Per Visit\"]])"
   ]
  },
  {
   "cell_type": "code",
   "execution_count": 152,
   "id": "3cef8d6a",
   "metadata": {},
   "outputs": [
    {
     "data": {
      "text/html": [
       "<div>\n",
       "<style scoped>\n",
       "    .dataframe tbody tr th:only-of-type {\n",
       "        vertical-align: middle;\n",
       "    }\n",
       "\n",
       "    .dataframe tbody tr th {\n",
       "        vertical-align: top;\n",
       "    }\n",
       "\n",
       "    .dataframe thead th {\n",
       "        text-align: right;\n",
       "    }\n",
       "</style>\n",
       "<table border=\"1\" class=\"dataframe\">\n",
       "  <thead>\n",
       "    <tr style=\"text-align: right;\">\n",
       "      <th></th>\n",
       "      <th>Total Time Spent on Website</th>\n",
       "      <th>Lead Origin_Lead Add Form</th>\n",
       "      <th>Lead Source_Olark Chat</th>\n",
       "      <th>Lead Source_Welingak Website</th>\n",
       "      <th>Last Activity_Email Bounced</th>\n",
       "      <th>Last Activity_Email Opened</th>\n",
       "      <th>Last Activity_Olark Chat Conversation</th>\n",
       "      <th>What is your current occupation_Student</th>\n",
       "      <th>What is your current occupation_Unemployed</th>\n",
       "      <th>Lead Profile_Lateral Student</th>\n",
       "      <th>Lead Profile_Potential Lead</th>\n",
       "      <th>Lead Profile_Student of SomeSchool</th>\n",
       "      <th>Last Notable Activity_SMS Sent</th>\n",
       "      <th>Last Notable Activity_others</th>\n",
       "    </tr>\n",
       "  </thead>\n",
       "  <tbody>\n",
       "    <tr>\n",
       "      <th>6906</th>\n",
       "      <td>1.919395</td>\n",
       "      <td>0</td>\n",
       "      <td>0</td>\n",
       "      <td>0</td>\n",
       "      <td>0</td>\n",
       "      <td>0</td>\n",
       "      <td>0</td>\n",
       "      <td>0</td>\n",
       "      <td>1</td>\n",
       "      <td>0</td>\n",
       "      <td>1</td>\n",
       "      <td>0</td>\n",
       "      <td>1</td>\n",
       "      <td>0</td>\n",
       "    </tr>\n",
       "    <tr>\n",
       "      <th>1873</th>\n",
       "      <td>-0.546142</td>\n",
       "      <td>0</td>\n",
       "      <td>0</td>\n",
       "      <td>0</td>\n",
       "      <td>0</td>\n",
       "      <td>0</td>\n",
       "      <td>0</td>\n",
       "      <td>0</td>\n",
       "      <td>1</td>\n",
       "      <td>0</td>\n",
       "      <td>0</td>\n",
       "      <td>0</td>\n",
       "      <td>0</td>\n",
       "      <td>0</td>\n",
       "    </tr>\n",
       "    <tr>\n",
       "      <th>771</th>\n",
       "      <td>-0.797465</td>\n",
       "      <td>0</td>\n",
       "      <td>0</td>\n",
       "      <td>0</td>\n",
       "      <td>0</td>\n",
       "      <td>1</td>\n",
       "      <td>0</td>\n",
       "      <td>0</td>\n",
       "      <td>1</td>\n",
       "      <td>0</td>\n",
       "      <td>0</td>\n",
       "      <td>0</td>\n",
       "      <td>0</td>\n",
       "      <td>0</td>\n",
       "    </tr>\n",
       "    <tr>\n",
       "      <th>4495</th>\n",
       "      <td>-0.623190</td>\n",
       "      <td>0</td>\n",
       "      <td>0</td>\n",
       "      <td>0</td>\n",
       "      <td>0</td>\n",
       "      <td>1</td>\n",
       "      <td>0</td>\n",
       "      <td>0</td>\n",
       "      <td>1</td>\n",
       "      <td>0</td>\n",
       "      <td>0</td>\n",
       "      <td>0</td>\n",
       "      <td>0</td>\n",
       "      <td>0</td>\n",
       "    </tr>\n",
       "    <tr>\n",
       "      <th>9061</th>\n",
       "      <td>2.392690</td>\n",
       "      <td>0</td>\n",
       "      <td>0</td>\n",
       "      <td>0</td>\n",
       "      <td>0</td>\n",
       "      <td>1</td>\n",
       "      <td>0</td>\n",
       "      <td>0</td>\n",
       "      <td>1</td>\n",
       "      <td>0</td>\n",
       "      <td>0</td>\n",
       "      <td>0</td>\n",
       "      <td>0</td>\n",
       "      <td>0</td>\n",
       "    </tr>\n",
       "  </tbody>\n",
       "</table>\n",
       "</div>"
      ],
      "text/plain": [
       "      Total Time Spent on Website  Lead Origin_Lead Add Form  \\\n",
       "6906                     1.919395                          0   \n",
       "1873                    -0.546142                          0   \n",
       "771                     -0.797465                          0   \n",
       "4495                    -0.623190                          0   \n",
       "9061                     2.392690                          0   \n",
       "\n",
       "      Lead Source_Olark Chat  Lead Source_Welingak Website  \\\n",
       "6906                       0                             0   \n",
       "1873                       0                             0   \n",
       "771                        0                             0   \n",
       "4495                       0                             0   \n",
       "9061                       0                             0   \n",
       "\n",
       "      Last Activity_Email Bounced  Last Activity_Email Opened  \\\n",
       "6906                            0                           0   \n",
       "1873                            0                           0   \n",
       "771                             0                           1   \n",
       "4495                            0                           1   \n",
       "9061                            0                           1   \n",
       "\n",
       "      Last Activity_Olark Chat Conversation  \\\n",
       "6906                                      0   \n",
       "1873                                      0   \n",
       "771                                       0   \n",
       "4495                                      0   \n",
       "9061                                      0   \n",
       "\n",
       "      What is your current occupation_Student  \\\n",
       "6906                                        0   \n",
       "1873                                        0   \n",
       "771                                         0   \n",
       "4495                                        0   \n",
       "9061                                        0   \n",
       "\n",
       "      What is your current occupation_Unemployed  \\\n",
       "6906                                           1   \n",
       "1873                                           1   \n",
       "771                                            1   \n",
       "4495                                           1   \n",
       "9061                                           1   \n",
       "\n",
       "      Lead Profile_Lateral Student  Lead Profile_Potential Lead  \\\n",
       "6906                             0                            1   \n",
       "1873                             0                            0   \n",
       "771                              0                            0   \n",
       "4495                             0                            0   \n",
       "9061                             0                            0   \n",
       "\n",
       "      Lead Profile_Student of SomeSchool  Last Notable Activity_SMS Sent  \\\n",
       "6906                                   0                               1   \n",
       "1873                                   0                               0   \n",
       "771                                    0                               0   \n",
       "4495                                   0                               0   \n",
       "9061                                   0                               0   \n",
       "\n",
       "      Last Notable Activity_others  \n",
       "6906                             0  \n",
       "1873                             0  \n",
       "771                              0  \n",
       "4495                             0  \n",
       "9061                             0  "
      ]
     },
     "execution_count": 152,
     "metadata": {},
     "output_type": "execute_result"
    }
   ],
   "source": [
    "X_test = X_test[col]\n",
    "X_test.head()"
   ]
  },
  {
   "cell_type": "code",
   "execution_count": 153,
   "id": "d828167d",
   "metadata": {},
   "outputs": [],
   "source": [
    "X_test_sm = sm.add_constant(X_test)"
   ]
  },
  {
   "cell_type": "code",
   "execution_count": 154,
   "id": "77200a8e",
   "metadata": {},
   "outputs": [],
   "source": [
    "y_test_pred = logm6_model.predict(X_test_sm)"
   ]
  },
  {
   "cell_type": "code",
   "execution_count": 155,
   "id": "69866368",
   "metadata": {},
   "outputs": [
    {
     "data": {
      "text/plain": [
       "6906    0.977612\n",
       "1873    0.063382\n",
       "771     0.072635\n",
       "4495    0.086597\n",
       "9061    0.720937\n",
       "4929    0.305457\n",
       "2308    0.128798\n",
       "1034    0.045700\n",
       "9033    0.332580\n",
       "7008    0.887450\n",
       "dtype: float64"
      ]
     },
     "execution_count": 155,
     "metadata": {},
     "output_type": "execute_result"
    }
   ],
   "source": [
    "y_test_pred[:10]"
   ]
  },
  {
   "cell_type": "code",
   "execution_count": 156,
   "id": "a1070ac0",
   "metadata": {},
   "outputs": [],
   "source": [
    "# Converting y_pred to a dataframe which is an array\n",
    "y_pred_1 = pd.DataFrame(y_test_pred)"
   ]
  },
  {
   "cell_type": "code",
   "execution_count": 157,
   "id": "0da5e37a",
   "metadata": {},
   "outputs": [
    {
     "data": {
      "text/html": [
       "<div>\n",
       "<style scoped>\n",
       "    .dataframe tbody tr th:only-of-type {\n",
       "        vertical-align: middle;\n",
       "    }\n",
       "\n",
       "    .dataframe tbody tr th {\n",
       "        vertical-align: top;\n",
       "    }\n",
       "\n",
       "    .dataframe thead th {\n",
       "        text-align: right;\n",
       "    }\n",
       "</style>\n",
       "<table border=\"1\" class=\"dataframe\">\n",
       "  <thead>\n",
       "    <tr style=\"text-align: right;\">\n",
       "      <th></th>\n",
       "      <th>0</th>\n",
       "    </tr>\n",
       "  </thead>\n",
       "  <tbody>\n",
       "    <tr>\n",
       "      <th>6906</th>\n",
       "      <td>0.977612</td>\n",
       "    </tr>\n",
       "    <tr>\n",
       "      <th>1873</th>\n",
       "      <td>0.063382</td>\n",
       "    </tr>\n",
       "    <tr>\n",
       "      <th>771</th>\n",
       "      <td>0.072635</td>\n",
       "    </tr>\n",
       "    <tr>\n",
       "      <th>4495</th>\n",
       "      <td>0.086597</td>\n",
       "    </tr>\n",
       "    <tr>\n",
       "      <th>9061</th>\n",
       "      <td>0.720937</td>\n",
       "    </tr>\n",
       "  </tbody>\n",
       "</table>\n",
       "</div>"
      ],
      "text/plain": [
       "             0\n",
       "6906  0.977612\n",
       "1873  0.063382\n",
       "771   0.072635\n",
       "4495  0.086597\n",
       "9061  0.720937"
      ]
     },
     "execution_count": 157,
     "metadata": {},
     "output_type": "execute_result"
    }
   ],
   "source": [
    "\n",
    "y_pred_1.head()"
   ]
  },
  {
   "cell_type": "code",
   "execution_count": 158,
   "id": "cd32c5cd",
   "metadata": {},
   "outputs": [],
   "source": [
    "y_test_df = pd.DataFrame(y_test)"
   ]
  },
  {
   "cell_type": "code",
   "execution_count": 159,
   "id": "97f34db7",
   "metadata": {},
   "outputs": [],
   "source": [
    "y_test_df['Stu_Id'] = y_test_df.index"
   ]
  },
  {
   "cell_type": "code",
   "execution_count": 160,
   "id": "a80e898e",
   "metadata": {},
   "outputs": [],
   "source": [
    "# Removing index for both dataframes to append them side by side \n",
    "y_pred_1.reset_index(drop=True, inplace=True)\n",
    "y_test_df.reset_index(drop=True, inplace=True)"
   ]
  },
  {
   "cell_type": "code",
   "execution_count": 161,
   "id": "763dcbc9",
   "metadata": {},
   "outputs": [],
   "source": [
    "# Appending y_test_df and y_pred_1\n",
    "y_pred_final = pd.concat([y_test_df, y_pred_1],axis=1)"
   ]
  },
  {
   "cell_type": "code",
   "execution_count": 162,
   "id": "fb63eb09",
   "metadata": {},
   "outputs": [
    {
     "data": {
      "text/html": [
       "<div>\n",
       "<style scoped>\n",
       "    .dataframe tbody tr th:only-of-type {\n",
       "        vertical-align: middle;\n",
       "    }\n",
       "\n",
       "    .dataframe tbody tr th {\n",
       "        vertical-align: top;\n",
       "    }\n",
       "\n",
       "    .dataframe thead th {\n",
       "        text-align: right;\n",
       "    }\n",
       "</style>\n",
       "<table border=\"1\" class=\"dataframe\">\n",
       "  <thead>\n",
       "    <tr style=\"text-align: right;\">\n",
       "      <th></th>\n",
       "      <th>Converted</th>\n",
       "      <th>Stu_Id</th>\n",
       "      <th>0</th>\n",
       "    </tr>\n",
       "  </thead>\n",
       "  <tbody>\n",
       "    <tr>\n",
       "      <th>0</th>\n",
       "      <td>1</td>\n",
       "      <td>6906</td>\n",
       "      <td>0.977612</td>\n",
       "    </tr>\n",
       "    <tr>\n",
       "      <th>1</th>\n",
       "      <td>0</td>\n",
       "      <td>1873</td>\n",
       "      <td>0.063382</td>\n",
       "    </tr>\n",
       "    <tr>\n",
       "      <th>2</th>\n",
       "      <td>0</td>\n",
       "      <td>771</td>\n",
       "      <td>0.072635</td>\n",
       "    </tr>\n",
       "    <tr>\n",
       "      <th>3</th>\n",
       "      <td>0</td>\n",
       "      <td>4495</td>\n",
       "      <td>0.086597</td>\n",
       "    </tr>\n",
       "    <tr>\n",
       "      <th>4</th>\n",
       "      <td>1</td>\n",
       "      <td>9061</td>\n",
       "      <td>0.720937</td>\n",
       "    </tr>\n",
       "  </tbody>\n",
       "</table>\n",
       "</div>"
      ],
      "text/plain": [
       "   Converted  Stu_Id         0\n",
       "0          1    6906  0.977612\n",
       "1          0    1873  0.063382\n",
       "2          0     771  0.072635\n",
       "3          0    4495  0.086597\n",
       "4          1    9061  0.720937"
      ]
     },
     "execution_count": 162,
     "metadata": {},
     "output_type": "execute_result"
    }
   ],
   "source": [
    "y_pred_final.head()"
   ]
  },
  {
   "cell_type": "code",
   "execution_count": 163,
   "id": "d8d3f5c0",
   "metadata": {},
   "outputs": [],
   "source": [
    "# Renaming the column \n",
    "y_pred_final= y_pred_final.rename(columns={ 0 : 'Converted_Prob'})"
   ]
  },
  {
   "cell_type": "code",
   "execution_count": 164,
   "id": "5feee9d7",
   "metadata": {},
   "outputs": [],
   "source": [
    "# Rearranging the columns\n",
    "y_pred_final = y_pred_final.loc[:,['Stu_Id','Converted','Converted_Prob']]"
   ]
  },
  {
   "cell_type": "code",
   "execution_count": 165,
   "id": "cdd0ef2d",
   "metadata": {},
   "outputs": [
    {
     "data": {
      "text/html": [
       "<div>\n",
       "<style scoped>\n",
       "    .dataframe tbody tr th:only-of-type {\n",
       "        vertical-align: middle;\n",
       "    }\n",
       "\n",
       "    .dataframe tbody tr th {\n",
       "        vertical-align: top;\n",
       "    }\n",
       "\n",
       "    .dataframe thead th {\n",
       "        text-align: right;\n",
       "    }\n",
       "</style>\n",
       "<table border=\"1\" class=\"dataframe\">\n",
       "  <thead>\n",
       "    <tr style=\"text-align: right;\">\n",
       "      <th></th>\n",
       "      <th>Stu_Id</th>\n",
       "      <th>Converted</th>\n",
       "      <th>Converted_Prob</th>\n",
       "    </tr>\n",
       "  </thead>\n",
       "  <tbody>\n",
       "    <tr>\n",
       "      <th>0</th>\n",
       "      <td>6906</td>\n",
       "      <td>1</td>\n",
       "      <td>0.977612</td>\n",
       "    </tr>\n",
       "    <tr>\n",
       "      <th>1</th>\n",
       "      <td>1873</td>\n",
       "      <td>0</td>\n",
       "      <td>0.063382</td>\n",
       "    </tr>\n",
       "    <tr>\n",
       "      <th>2</th>\n",
       "      <td>771</td>\n",
       "      <td>0</td>\n",
       "      <td>0.072635</td>\n",
       "    </tr>\n",
       "    <tr>\n",
       "      <th>3</th>\n",
       "      <td>4495</td>\n",
       "      <td>0</td>\n",
       "      <td>0.086597</td>\n",
       "    </tr>\n",
       "    <tr>\n",
       "      <th>4</th>\n",
       "      <td>9061</td>\n",
       "      <td>1</td>\n",
       "      <td>0.720937</td>\n",
       "    </tr>\n",
       "  </tbody>\n",
       "</table>\n",
       "</div>"
      ],
      "text/plain": [
       "   Stu_Id  Converted  Converted_Prob\n",
       "0    6906          1        0.977612\n",
       "1    1873          0        0.063382\n",
       "2     771          0        0.072635\n",
       "3    4495          0        0.086597\n",
       "4    9061          1        0.720937"
      ]
     },
     "execution_count": 165,
     "metadata": {},
     "output_type": "execute_result"
    }
   ],
   "source": [
    "y_pred_final.head()"
   ]
  },
  {
   "cell_type": "code",
   "execution_count": 166,
   "id": "47070240",
   "metadata": {},
   "outputs": [],
   "source": [
    "y_pred_final['final_predicted'] = y_pred_final.Converted_Prob.map(lambda x: 1 if x > 0.35 else 0)"
   ]
  },
  {
   "cell_type": "code",
   "execution_count": 167,
   "id": "ce5bc3af",
   "metadata": {},
   "outputs": [
    {
     "data": {
      "text/html": [
       "<div>\n",
       "<style scoped>\n",
       "    .dataframe tbody tr th:only-of-type {\n",
       "        vertical-align: middle;\n",
       "    }\n",
       "\n",
       "    .dataframe tbody tr th {\n",
       "        vertical-align: top;\n",
       "    }\n",
       "\n",
       "    .dataframe thead th {\n",
       "        text-align: right;\n",
       "    }\n",
       "</style>\n",
       "<table border=\"1\" class=\"dataframe\">\n",
       "  <thead>\n",
       "    <tr style=\"text-align: right;\">\n",
       "      <th></th>\n",
       "      <th>Stu_Id</th>\n",
       "      <th>Converted</th>\n",
       "      <th>Converted_Prob</th>\n",
       "      <th>final_predicted</th>\n",
       "    </tr>\n",
       "  </thead>\n",
       "  <tbody>\n",
       "    <tr>\n",
       "      <th>0</th>\n",
       "      <td>6906</td>\n",
       "      <td>1</td>\n",
       "      <td>0.977612</td>\n",
       "      <td>1</td>\n",
       "    </tr>\n",
       "    <tr>\n",
       "      <th>1</th>\n",
       "      <td>1873</td>\n",
       "      <td>0</td>\n",
       "      <td>0.063382</td>\n",
       "      <td>0</td>\n",
       "    </tr>\n",
       "    <tr>\n",
       "      <th>2</th>\n",
       "      <td>771</td>\n",
       "      <td>0</td>\n",
       "      <td>0.072635</td>\n",
       "      <td>0</td>\n",
       "    </tr>\n",
       "    <tr>\n",
       "      <th>3</th>\n",
       "      <td>4495</td>\n",
       "      <td>0</td>\n",
       "      <td>0.086597</td>\n",
       "      <td>0</td>\n",
       "    </tr>\n",
       "    <tr>\n",
       "      <th>4</th>\n",
       "      <td>9061</td>\n",
       "      <td>1</td>\n",
       "      <td>0.720937</td>\n",
       "      <td>1</td>\n",
       "    </tr>\n",
       "  </tbody>\n",
       "</table>\n",
       "</div>"
      ],
      "text/plain": [
       "   Stu_Id  Converted  Converted_Prob  final_predicted\n",
       "0    6906          1        0.977612                1\n",
       "1    1873          0        0.063382                0\n",
       "2     771          0        0.072635                0\n",
       "3    4495          0        0.086597                0\n",
       "4    9061          1        0.720937                1"
      ]
     },
     "execution_count": 167,
     "metadata": {},
     "output_type": "execute_result"
    }
   ],
   "source": [
    "y_pred_final.head()"
   ]
  },
  {
   "cell_type": "code",
   "execution_count": 168,
   "id": "c6c96060",
   "metadata": {},
   "outputs": [
    {
     "data": {
      "text/plain": [
       "0.8144481114778145"
      ]
     },
     "execution_count": 168,
     "metadata": {},
     "output_type": "execute_result"
    }
   ],
   "source": [
    "# Calculating the accuracy.\n",
    "metrics.accuracy_score(y_pred_final.Converted, y_pred_final.final_predicted)"
   ]
  },
  {
   "cell_type": "code",
   "execution_count": 169,
   "id": "3c7ed5eb",
   "metadata": {},
   "outputs": [
    {
     "data": {
      "text/plain": [
       "array([[1358,  302],\n",
       "       [ 204,  863]], dtype=int64)"
      ]
     },
     "execution_count": 169,
     "metadata": {},
     "output_type": "execute_result"
    }
   ],
   "source": [
    "confusion2 = metrics.confusion_matrix(y_pred_final.Converted, y_pred_final.final_predicted )\n",
    "confusion2"
   ]
  },
  {
   "cell_type": "code",
   "execution_count": 170,
   "id": "238ea9a4",
   "metadata": {},
   "outputs": [],
   "source": [
    "TP = confusion2[1,1] # true positive \n",
    "TN = confusion2[0,0] # true negatives\n",
    "FP = confusion2[0,1] # false positives\n",
    "FN = confusion2[1,0] # false negatives"
   ]
  },
  {
   "cell_type": "code",
   "execution_count": 171,
   "id": "32b0ea23",
   "metadata": {},
   "outputs": [
    {
     "data": {
      "text/plain": [
       "0.8088097469540768"
      ]
     },
     "execution_count": 171,
     "metadata": {},
     "output_type": "execute_result"
    }
   ],
   "source": [
    "# Calculating the sensitivity \n",
    "TP / float(TP+FN)"
   ]
  },
  {
   "cell_type": "code",
   "execution_count": 172,
   "id": "7d1e5d3a",
   "metadata": {},
   "outputs": [
    {
     "data": {
      "text/plain": [
       "0.8180722891566266"
      ]
     },
     "execution_count": 172,
     "metadata": {},
     "output_type": "execute_result"
    }
   ],
   "source": [
    "# Calculating specificity\n",
    "TN / float(TN+FP)"
   ]
  },
  {
   "cell_type": "code",
   "execution_count": 173,
   "id": "44ee42ca",
   "metadata": {},
   "outputs": [
    {
     "name": "stdout",
     "output_type": "stream",
     "text": [
      "0.1819277108433735\n"
     ]
    }
   ],
   "source": [
    "# Calculating the false postive rate\n",
    "print(FP/ float(TN+FP))"
   ]
  },
  {
   "cell_type": "code",
   "execution_count": 174,
   "id": "69782639",
   "metadata": {},
   "outputs": [
    {
     "name": "stdout",
     "output_type": "stream",
     "text": [
      "0.7407725321888412\n"
     ]
    }
   ],
   "source": [
    "# Calculating the posstive predictive value \n",
    "print (TP / float(TP+FP))"
   ]
  },
  {
   "cell_type": "code",
   "execution_count": 175,
   "id": "d4a66e8a",
   "metadata": {},
   "outputs": [
    {
     "name": "stdout",
     "output_type": "stream",
     "text": [
      "0.8693982074263764\n"
     ]
    }
   ],
   "source": [
    "# Calculating the Negative predictive value\n",
    "print (TN / float(TN+ FN))"
   ]
  },
  {
   "cell_type": "markdown",
   "id": "6fd86c7b",
   "metadata": {},
   "source": [
    "#### Precision Score"
   ]
  },
  {
   "cell_type": "code",
   "execution_count": 176,
   "id": "c8bf601d",
   "metadata": {},
   "outputs": [
    {
     "data": {
      "text/plain": [
       "0.7407725321888412"
      ]
     },
     "execution_count": 176,
     "metadata": {},
     "output_type": "execute_result"
    }
   ],
   "source": [
    "precision_score(y_pred_final.Converted, y_pred_final.final_predicted)"
   ]
  },
  {
   "cell_type": "code",
   "execution_count": 178,
   "id": "4530a9e4",
   "metadata": {},
   "outputs": [
    {
     "data": {
      "text/plain": [
       "0.8088097469540768"
      ]
     },
     "execution_count": 178,
     "metadata": {},
     "output_type": "execute_result"
    }
   ],
   "source": [
    "#RECALL SCORE\n",
    "recall_score(y_pred_final.Converted, y_pred_final.final_predicted)"
   ]
  },
  {
   "cell_type": "code",
   "execution_count": 180,
   "id": "d94b2050",
   "metadata": {},
   "outputs": [],
   "source": [
    "# Lead Score\n",
    "y_pred_final['Lead_Score'] = y_pred_final.Converted_Prob.map( lambda x: round(x*100))"
   ]
  },
  {
   "cell_type": "code",
   "execution_count": 182,
   "id": "c620b30a",
   "metadata": {},
   "outputs": [
    {
     "data": {
      "text/html": [
       "<div>\n",
       "<style scoped>\n",
       "    .dataframe tbody tr th:only-of-type {\n",
       "        vertical-align: middle;\n",
       "    }\n",
       "\n",
       "    .dataframe tbody tr th {\n",
       "        vertical-align: top;\n",
       "    }\n",
       "\n",
       "    .dataframe thead th {\n",
       "        text-align: right;\n",
       "    }\n",
       "</style>\n",
       "<table border=\"1\" class=\"dataframe\">\n",
       "  <thead>\n",
       "    <tr style=\"text-align: right;\">\n",
       "      <th></th>\n",
       "      <th>Stu_Id</th>\n",
       "      <th>Converted</th>\n",
       "      <th>Converted_Prob</th>\n",
       "      <th>final_predicted</th>\n",
       "      <th>Lead_Score</th>\n",
       "    </tr>\n",
       "  </thead>\n",
       "  <tbody>\n",
       "    <tr>\n",
       "      <th>0</th>\n",
       "      <td>6906</td>\n",
       "      <td>1</td>\n",
       "      <td>0.977612</td>\n",
       "      <td>1</td>\n",
       "      <td>98</td>\n",
       "    </tr>\n",
       "    <tr>\n",
       "      <th>1</th>\n",
       "      <td>1873</td>\n",
       "      <td>0</td>\n",
       "      <td>0.063382</td>\n",
       "      <td>0</td>\n",
       "      <td>6</td>\n",
       "    </tr>\n",
       "    <tr>\n",
       "      <th>2</th>\n",
       "      <td>771</td>\n",
       "      <td>0</td>\n",
       "      <td>0.072635</td>\n",
       "      <td>0</td>\n",
       "      <td>7</td>\n",
       "    </tr>\n",
       "    <tr>\n",
       "      <th>3</th>\n",
       "      <td>4495</td>\n",
       "      <td>0</td>\n",
       "      <td>0.086597</td>\n",
       "      <td>0</td>\n",
       "      <td>9</td>\n",
       "    </tr>\n",
       "    <tr>\n",
       "      <th>4</th>\n",
       "      <td>9061</td>\n",
       "      <td>1</td>\n",
       "      <td>0.720937</td>\n",
       "      <td>1</td>\n",
       "      <td>72</td>\n",
       "    </tr>\n",
       "  </tbody>\n",
       "</table>\n",
       "</div>"
      ],
      "text/plain": [
       "   Stu_Id  Converted  Converted_Prob  final_predicted  Lead_Score\n",
       "0    6906          1        0.977612                1          98\n",
       "1    1873          0        0.063382                0           6\n",
       "2     771          0        0.072635                0           7\n",
       "3    4495          0        0.086597                0           9\n",
       "4    9061          1        0.720937                1          72"
      ]
     },
     "execution_count": 182,
     "metadata": {},
     "output_type": "execute_result"
    }
   ],
   "source": [
    "y_pred_final.head()"
   ]
  },
  {
   "cell_type": "code",
   "execution_count": 183,
   "id": "72b922b6",
   "metadata": {},
   "outputs": [
    {
     "data": {
      "text/html": [
       "<div>\n",
       "<style scoped>\n",
       "    .dataframe tbody tr th:only-of-type {\n",
       "        vertical-align: middle;\n",
       "    }\n",
       "\n",
       "    .dataframe tbody tr th {\n",
       "        vertical-align: top;\n",
       "    }\n",
       "\n",
       "    .dataframe thead th {\n",
       "        text-align: right;\n",
       "    }\n",
       "</style>\n",
       "<table border=\"1\" class=\"dataframe\">\n",
       "  <thead>\n",
       "    <tr style=\"text-align: right;\">\n",
       "      <th></th>\n",
       "      <th>Stu_Id</th>\n",
       "      <th>Converted</th>\n",
       "      <th>Converted_Prob</th>\n",
       "      <th>final_predicted</th>\n",
       "      <th>Lead_Score</th>\n",
       "    </tr>\n",
       "  </thead>\n",
       "  <tbody>\n",
       "    <tr>\n",
       "      <th>0</th>\n",
       "      <td>6906</td>\n",
       "      <td>1</td>\n",
       "      <td>0.977612</td>\n",
       "      <td>1</td>\n",
       "      <td>98</td>\n",
       "    </tr>\n",
       "    <tr>\n",
       "      <th>1</th>\n",
       "      <td>1873</td>\n",
       "      <td>0</td>\n",
       "      <td>0.063382</td>\n",
       "      <td>0</td>\n",
       "      <td>6</td>\n",
       "    </tr>\n",
       "    <tr>\n",
       "      <th>2</th>\n",
       "      <td>771</td>\n",
       "      <td>0</td>\n",
       "      <td>0.072635</td>\n",
       "      <td>0</td>\n",
       "      <td>7</td>\n",
       "    </tr>\n",
       "    <tr>\n",
       "      <th>3</th>\n",
       "      <td>4495</td>\n",
       "      <td>0</td>\n",
       "      <td>0.086597</td>\n",
       "      <td>0</td>\n",
       "      <td>9</td>\n",
       "    </tr>\n",
       "    <tr>\n",
       "      <th>4</th>\n",
       "      <td>9061</td>\n",
       "      <td>1</td>\n",
       "      <td>0.720937</td>\n",
       "      <td>1</td>\n",
       "      <td>72</td>\n",
       "    </tr>\n",
       "    <tr>\n",
       "      <th>5</th>\n",
       "      <td>4929</td>\n",
       "      <td>1</td>\n",
       "      <td>0.305457</td>\n",
       "      <td>0</td>\n",
       "      <td>31</td>\n",
       "    </tr>\n",
       "    <tr>\n",
       "      <th>6</th>\n",
       "      <td>2308</td>\n",
       "      <td>0</td>\n",
       "      <td>0.128798</td>\n",
       "      <td>0</td>\n",
       "      <td>13</td>\n",
       "    </tr>\n",
       "    <tr>\n",
       "      <th>7</th>\n",
       "      <td>1034</td>\n",
       "      <td>0</td>\n",
       "      <td>0.045700</td>\n",
       "      <td>0</td>\n",
       "      <td>5</td>\n",
       "    </tr>\n",
       "    <tr>\n",
       "      <th>8</th>\n",
       "      <td>9033</td>\n",
       "      <td>0</td>\n",
       "      <td>0.332580</td>\n",
       "      <td>0</td>\n",
       "      <td>33</td>\n",
       "    </tr>\n",
       "    <tr>\n",
       "      <th>9</th>\n",
       "      <td>7008</td>\n",
       "      <td>1</td>\n",
       "      <td>0.887450</td>\n",
       "      <td>1</td>\n",
       "      <td>89</td>\n",
       "    </tr>\n",
       "    <tr>\n",
       "      <th>10</th>\n",
       "      <td>537</td>\n",
       "      <td>0</td>\n",
       "      <td>0.063263</td>\n",
       "      <td>0</td>\n",
       "      <td>6</td>\n",
       "    </tr>\n",
       "    <tr>\n",
       "      <th>11</th>\n",
       "      <td>3074</td>\n",
       "      <td>1</td>\n",
       "      <td>0.991308</td>\n",
       "      <td>1</td>\n",
       "      <td>99</td>\n",
       "    </tr>\n",
       "    <tr>\n",
       "      <th>12</th>\n",
       "      <td>6975</td>\n",
       "      <td>0</td>\n",
       "      <td>0.007189</td>\n",
       "      <td>0</td>\n",
       "      <td>1</td>\n",
       "    </tr>\n",
       "    <tr>\n",
       "      <th>13</th>\n",
       "      <td>6163</td>\n",
       "      <td>1</td>\n",
       "      <td>0.847106</td>\n",
       "      <td>1</td>\n",
       "      <td>85</td>\n",
       "    </tr>\n",
       "    <tr>\n",
       "      <th>14</th>\n",
       "      <td>7002</td>\n",
       "      <td>0</td>\n",
       "      <td>0.201949</td>\n",
       "      <td>0</td>\n",
       "      <td>20</td>\n",
       "    </tr>\n",
       "    <tr>\n",
       "      <th>15</th>\n",
       "      <td>5244</td>\n",
       "      <td>0</td>\n",
       "      <td>0.301532</td>\n",
       "      <td>0</td>\n",
       "      <td>30</td>\n",
       "    </tr>\n",
       "    <tr>\n",
       "      <th>16</th>\n",
       "      <td>6482</td>\n",
       "      <td>1</td>\n",
       "      <td>0.618750</td>\n",
       "      <td>1</td>\n",
       "      <td>62</td>\n",
       "    </tr>\n",
       "    <tr>\n",
       "      <th>17</th>\n",
       "      <td>962</td>\n",
       "      <td>1</td>\n",
       "      <td>0.792483</td>\n",
       "      <td>1</td>\n",
       "      <td>79</td>\n",
       "    </tr>\n",
       "    <tr>\n",
       "      <th>18</th>\n",
       "      <td>2573</td>\n",
       "      <td>0</td>\n",
       "      <td>0.124135</td>\n",
       "      <td>0</td>\n",
       "      <td>12</td>\n",
       "    </tr>\n",
       "    <tr>\n",
       "      <th>19</th>\n",
       "      <td>3696</td>\n",
       "      <td>0</td>\n",
       "      <td>0.007417</td>\n",
       "      <td>0</td>\n",
       "      <td>1</td>\n",
       "    </tr>\n",
       "    <tr>\n",
       "      <th>20</th>\n",
       "      <td>2241</td>\n",
       "      <td>1</td>\n",
       "      <td>0.070498</td>\n",
       "      <td>0</td>\n",
       "      <td>7</td>\n",
       "    </tr>\n",
       "    <tr>\n",
       "      <th>21</th>\n",
       "      <td>3880</td>\n",
       "      <td>0</td>\n",
       "      <td>0.056325</td>\n",
       "      <td>0</td>\n",
       "      <td>6</td>\n",
       "    </tr>\n",
       "    <tr>\n",
       "      <th>22</th>\n",
       "      <td>3363</td>\n",
       "      <td>0</td>\n",
       "      <td>0.109038</td>\n",
       "      <td>0</td>\n",
       "      <td>11</td>\n",
       "    </tr>\n",
       "    <tr>\n",
       "      <th>23</th>\n",
       "      <td>1860</td>\n",
       "      <td>1</td>\n",
       "      <td>0.887398</td>\n",
       "      <td>1</td>\n",
       "      <td>89</td>\n",
       "    </tr>\n",
       "    <tr>\n",
       "      <th>24</th>\n",
       "      <td>5420</td>\n",
       "      <td>0</td>\n",
       "      <td>0.013963</td>\n",
       "      <td>0</td>\n",
       "      <td>1</td>\n",
       "    </tr>\n",
       "    <tr>\n",
       "      <th>25</th>\n",
       "      <td>1167</td>\n",
       "      <td>1</td>\n",
       "      <td>0.528370</td>\n",
       "      <td>1</td>\n",
       "      <td>53</td>\n",
       "    </tr>\n",
       "    <tr>\n",
       "      <th>26</th>\n",
       "      <td>4872</td>\n",
       "      <td>1</td>\n",
       "      <td>0.330798</td>\n",
       "      <td>0</td>\n",
       "      <td>33</td>\n",
       "    </tr>\n",
       "    <tr>\n",
       "      <th>27</th>\n",
       "      <td>9050</td>\n",
       "      <td>0</td>\n",
       "      <td>0.515655</td>\n",
       "      <td>1</td>\n",
       "      <td>52</td>\n",
       "    </tr>\n",
       "    <tr>\n",
       "      <th>28</th>\n",
       "      <td>4407</td>\n",
       "      <td>1</td>\n",
       "      <td>0.887398</td>\n",
       "      <td>1</td>\n",
       "      <td>89</td>\n",
       "    </tr>\n",
       "    <tr>\n",
       "      <th>29</th>\n",
       "      <td>1981</td>\n",
       "      <td>0</td>\n",
       "      <td>0.886169</td>\n",
       "      <td>1</td>\n",
       "      <td>89</td>\n",
       "    </tr>\n",
       "    <tr>\n",
       "      <th>30</th>\n",
       "      <td>5884</td>\n",
       "      <td>0</td>\n",
       "      <td>0.086279</td>\n",
       "      <td>0</td>\n",
       "      <td>9</td>\n",
       "    </tr>\n",
       "  </tbody>\n",
       "</table>\n",
       "</div>"
      ],
      "text/plain": [
       "    Stu_Id  Converted  Converted_Prob  final_predicted  Lead_Score\n",
       "0     6906          1        0.977612                1          98\n",
       "1     1873          0        0.063382                0           6\n",
       "2      771          0        0.072635                0           7\n",
       "3     4495          0        0.086597                0           9\n",
       "4     9061          1        0.720937                1          72\n",
       "5     4929          1        0.305457                0          31\n",
       "6     2308          0        0.128798                0          13\n",
       "7     1034          0        0.045700                0           5\n",
       "8     9033          0        0.332580                0          33\n",
       "9     7008          1        0.887450                1          89\n",
       "10     537          0        0.063263                0           6\n",
       "11    3074          1        0.991308                1          99\n",
       "12    6975          0        0.007189                0           1\n",
       "13    6163          1        0.847106                1          85\n",
       "14    7002          0        0.201949                0          20\n",
       "15    5244          0        0.301532                0          30\n",
       "16    6482          1        0.618750                1          62\n",
       "17     962          1        0.792483                1          79\n",
       "18    2573          0        0.124135                0          12\n",
       "19    3696          0        0.007417                0           1\n",
       "20    2241          1        0.070498                0           7\n",
       "21    3880          0        0.056325                0           6\n",
       "22    3363          0        0.109038                0          11\n",
       "23    1860          1        0.887398                1          89\n",
       "24    5420          0        0.013963                0           1\n",
       "25    1167          1        0.528370                1          53\n",
       "26    4872          1        0.330798                0          33\n",
       "27    9050          0        0.515655                1          52\n",
       "28    4407          1        0.887398                1          89\n",
       "29    1981          0        0.886169                1          89\n",
       "30    5884          0        0.086279                0           9"
      ]
     },
     "execution_count": 183,
     "metadata": {},
     "output_type": "execute_result"
    }
   ],
   "source": [
    "y_pred_final.head(31)"
   ]
  },
  {
   "cell_type": "code",
   "execution_count": 184,
   "id": "98d0013e",
   "metadata": {},
   "outputs": [
    {
     "data": {
      "text/plain": [
       "array([ 98,   6,   7,   9,  72,  31,  13,   5,  33,  89,  99,   1,  85,\n",
       "        20,  30,  62,  79,  12,  11,  53,  52,  49,  92, 100,  94,  34,\n",
       "        61,  42,  93,  88,  78,  45,  32,  41,  27,  18,  10,  97,  81,\n",
       "        63,  54,  35,  40,  14,  25,  44,  50,   8,  24,  66,  73,  71,\n",
       "        84,  23,  36,  91,  82,  77,  57,  86,  67,  74,  16,  56,  75,\n",
       "        70,  69,  28,  37,  39,  87,  80,  55,  22,  15,   2,   0,   4,\n",
       "        38,  17,  19,  46,  43,  47,  96,  68,  76,  83,  29,   3,  60,\n",
       "        51,  26,  90,  64,  58,  21,  95,  59,  48,  65], dtype=int64)"
      ]
     },
     "execution_count": 184,
     "metadata": {},
     "output_type": "execute_result"
    }
   ],
   "source": [
    "y_pred_final[\"Lead_Score\"].unique() "
   ]
  },
  {
   "cell_type": "markdown",
   "id": "162501ce",
   "metadata": {},
   "source": [
    "#                  Final RESULT:\n",
    "###                     >>>>Let us comapre the values obtained for Train & Test:\n",
    "                     \n",
    "###               Train Data:\n",
    "###                     >>>> Accuracy     : 82.44%\n",
    "###                     >>>> Sensitivity   : 82.45%\n",
    "###                     >>>> Specificity   : 82.43%\n",
    "###               Test Data :\n",
    "###                     >>>> Accuracy     : 81.44%\n",
    "###                     >>>> Sensitivity   : 80.88%\n",
    " ###                   >>>> Specificity   : 81.80%\n",
    "\n"
   ]
  },
  {
   "cell_type": "code",
   "execution_count": null,
   "id": "2dcca1a4",
   "metadata": {},
   "outputs": [],
   "source": []
  }
 ],
 "metadata": {
  "kernelspec": {
   "display_name": "Python 3 (ipykernel)",
   "language": "python",
   "name": "python3"
  },
  "language_info": {
   "codemirror_mode": {
    "name": "ipython",
    "version": 3
   },
   "file_extension": ".py",
   "mimetype": "text/x-python",
   "name": "python",
   "nbconvert_exporter": "python",
   "pygments_lexer": "ipython3",
   "version": "3.9.12"
  }
 },
 "nbformat": 4,
 "nbformat_minor": 5
}
